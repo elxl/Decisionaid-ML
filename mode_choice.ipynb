{
 "cells": [
  {
   "cell_type": "code",
   "execution_count": 1,
   "id": "ee701bc5",
   "metadata": {},
   "outputs": [],
   "source": [
    "import pandas as pd\n",
    "import numpy as np\n",
    "from sklearn.preprocessing import OneHotEncoder, normalize"
   ]
  },
  {
   "cell_type": "code",
   "execution_count": 2,
   "id": "0d2d23e8",
   "metadata": {},
   "outputs": [],
   "source": [
    "df_test = pd.read_csv('data/xgboost_distance_regression_merged_test')"
   ]
  },
  {
   "cell_type": "code",
   "execution_count": 3,
   "id": "10215b97",
   "metadata": {},
   "outputs": [],
   "source": [
    "df_train = pd.read_csv('data/xgboost_distance_regression_merged_train')"
   ]
  },
  {
   "cell_type": "markdown",
   "id": "24710348",
   "metadata": {},
   "source": [
    "## Select feature and encoding"
   ]
  },
  {
   "cell_type": "markdown",
   "id": "b6fdc01d",
   "metadata": {},
   "source": [
    "Choice of features are chosen based on correlation and our understanding of the problem"
   ]
  },
  {
   "cell_type": "code",
   "execution_count": 25,
   "id": "c1b96401",
   "metadata": {},
   "outputs": [],
   "source": [
    "# covert categorial features into one-hot encoding\n",
    "selected_features = [\n",
    "#      'travel_date_dow',\n",
    "     'travel_date_dow_merged',\n",
    "     'o_purpose_category',\n",
    "     'd_purpose_category',\n",
    "#      'num_non_hh_travelers',\n",
    "     'num_hh_travelers',\n",
    "     'num_travelers',\n",
    "#      'o_location_type',\n",
    "#      'd_location_type',\n",
    "     'o_congestion',\n",
    "     'd_congestion',\n",
    "#      'age',\n",
    "     'age_merged',\n",
    "#      'employment',\n",
    "#      'student',\n",
    "     'license',\n",
    "#      'planning_apps',\n",
    "#      'industry',\n",
    "#      'gender',\n",
    "#      'education',\n",
    "#      'education_merged',\n",
    "#      'survey_language',\n",
    "     'num_bicycles',\n",
    "     'num_vehicles',\n",
    "#      'res_type',\n",
    "     'res_type_merged',\n",
    "#      'rent_own',\n",
    "#      'income_aggregate',\n",
    "     'income_aggregate_merged',\n",
    "#      'num_people',\n",
    "#      'num_adults',\n",
    "#      'num_kids',\n",
    "#      'num_workers',\n",
    "#      'num_students',\n",
    "#      'disability',\n",
    "     'trip_distance',\n",
    "#      'trip_distance_category',\n",
    "]\n",
    "\n",
    "df_selected = df_train[selected_features]\n",
    "df_test_selected = df_test[selected_features]\n",
    "#df_selected.loc[:,'trip_distance_category'] = df_selected['trip_distance_category'].replace({\"short\":0, \"medium\":1, \"long\":2})\n",
    "\n",
    "categorial_columns = ['travel_date_dow',\n",
    "       'o_purpose_category', 'd_purpose_category', 'o_location_type',\n",
    "       'd_location_type', 'age', 'employment', 'license', 'planning_apps', 'industry', 'gender'\n",
    "                    , 'survey_language',\n",
    "       'res_type', 'rent_own',  'disability']\n",
    "\n",
    "onehot = pd.get_dummies(pd.concat([df_selected, df_test_selected],axis=0), columns=[x for x in categorial_columns if x in selected_features])\n",
    "onehot_train = onehot.iloc[:len(df_selected),:]\n",
    "onehot_test = onehot.iloc[len(df_selected):,:]"
   ]
  },
  {
   "cell_type": "code",
   "execution_count": 33,
   "id": "69e77e8e",
   "metadata": {},
   "outputs": [],
   "source": [
    "classes = np.array(['drive', 'passenger', 'bus', 'subway', 'bike', 'walk', 'other'])\n",
    "\n",
    "\n",
    "# Transfer string\n",
    "str_to_val = {\n",
    "    'drive': 0,\n",
    "    'passenger': 1,\n",
    "    'bus': 2,\n",
    "    'subway': 3,\n",
    "    'bike': 4,\n",
    "    'walk': 5,\n",
    "    'other': 6,\n",
    "}\n",
    "\n",
    "y = df_train['mode'].replace(str_to_val).to_numpy()\n",
    "X = onehot_train.to_numpy()\n",
    "\n",
    "X_test = onehot_test.to_numpy()"
   ]
  },
  {
   "cell_type": "markdown",
   "id": "faa3d4bf",
   "metadata": {},
   "source": [
    "## Model selection"
   ]
  },
  {
   "cell_type": "code",
   "execution_count": 6,
   "id": "55e97d09",
   "metadata": {},
   "outputs": [],
   "source": [
    "# train-validation split\n",
    "from sklearn.model_selection import GroupKFold\n",
    "from sklearn.model_selection import RandomizedSearchCV\n",
    "from scipy.stats import uniform\n",
    "from scipy.stats import randint\n",
    "\n",
    "from sklearn.metrics import log_loss\n",
    "from sklearn.metrics import log_loss,confusion_matrix, accuracy_score\n",
    "from sklearn.metrics import confusion_matrix\n",
    "\n",
    "from scipy.stats import uniform\n",
    "from scipy.stats import randint\n",
    "\n",
    "groups = df_train['person_id']\n",
    "group_kfold = GroupKFold(n_splits=5)"
   ]
  },
  {
   "cell_type": "markdown",
   "id": "f9f343a2",
   "metadata": {},
   "source": [
    "## XGboost"
   ]
  },
  {
   "cell_type": "markdown",
   "id": "540d5bf0",
   "metadata": {},
   "source": [
    "The range of parameters tried is partially taken from [this link](https://kevinvecmanis.io/machine%20learning/hyperparameter%20tuning/dataviz/python/2019/05/11/XGBoost-Tuning-Visual-Guide.html)"
   ]
  },
  {
   "cell_type": "markdown",
   "id": "d44ca5cb",
   "metadata": {},
   "source": [
    "### hyperparameters search"
   ]
  },
  {
   "cell_type": "code",
   "execution_count": 7,
   "id": "fe956e50",
   "metadata": {},
   "outputs": [],
   "source": [
    "import xgboost as xgb\n",
    "\n",
    "xgbo = xgb.XGBClassifier(n_jobs=-1, random_state=42, objective=\"multi:softprob\", eval_metric=\"mlogloss\", use_label_encoder=False)\n",
    "distributions = {'n_estimators': np.arange(10,50,10), \n",
    "                 'max_depth': np.arange(5,20,1),\n",
    "                 'learning_rate': np.arange(0.0005,0.3,0.0005)}\n",
    "\n",
    "lr_xgbo = RandomizedSearchCV(xgbo, distributions, random_state=0, scoring = \"neg_log_loss\", n_iter = 10, cv=group_kfold)\n",
    "\n",
    "search_xgbo = lr_xgbo.fit(X, y, groups = groups)"
   ]
  },
  {
   "cell_type": "markdown",
   "id": "4321f5b3",
   "metadata": {},
   "source": [
    "### performance"
   ]
  },
  {
   "cell_type": "code",
   "execution_count": 8,
   "id": "3e6f3dd6",
   "metadata": {},
   "outputs": [],
   "source": [
    "best_estimator = search_xgbo.best_estimator_\n",
    "best_score = search_xgbo.best_score_\n",
    "best_param = search_xgbo.best_params_"
   ]
  },
  {
   "cell_type": "markdown",
   "id": "09420384",
   "metadata": {},
   "source": [
    "Define performance evaluation function for later use"
   ]
  },
  {
   "cell_type": "code",
   "execution_count": 9,
   "id": "c97f200c",
   "metadata": {},
   "outputs": [],
   "source": [
    "def classifier_performance(best_estimator, X, y):\n",
    "    for train_index, validate_index in group_kfold.split(X, y, groups):\n",
    "        X_train, X_validate = X[train_index], X[validate_index]\n",
    "        y_train, y_validate = y[train_index], y[validate_index]\n",
    "        \n",
    "        # loss and accuracy\n",
    "        loss = []\n",
    "        acc = []\n",
    "\n",
    "        best_estimator.fit(X_train, y_train)\n",
    "        \n",
    "        proba_train = best_estimator.predict_proba(X_train)\n",
    "        proba_val = best_estimator.predict_proba(X_validate)\n",
    "        \n",
    "        loss_train = log_loss(y_train, proba_train)\n",
    "        loss_val = log_loss(y_validate, proba_val)\n",
    "        loss.append(loss_val)\n",
    "        \n",
    "        acc_train = accuracy_score(y_train, best_estimator.predict(X_train))\n",
    "        acc_val = accuracy_score(y_validate, best_estimator.predict(X_validate))\n",
    "        acc.append(acc_val)\n",
    "        \n",
    "        print(f\"training loss:{loss_train}\\t validating loss:{loss_val}\")\n",
    "\n",
    "        print(f\"training accuracy:{acc_train}\\t validating accuracy:{acc_val}\")\n",
    "        \n",
    "        # Confusion matrix\n",
    "        print('Confusion matrix:')\n",
    "        display(confusion_matrix(y_validate, best_estimator.predict(X_validate)))\n",
    "    \n",
    "    print(f\"loss:{np.mean(loss)}\\t accuracy:{np.mean(acc)}\")"
   ]
  },
  {
   "cell_type": "code",
   "execution_count": 10,
   "id": "9a9a890e",
   "metadata": {},
   "outputs": [
    {
     "data": {
      "text/plain": [
       "{'n_estimators': 40, 'max_depth': 5, 'learning_rate': 0.268}"
      ]
     },
     "execution_count": 10,
     "metadata": {},
     "output_type": "execute_result"
    }
   ],
   "source": [
    "best_param"
   ]
  },
  {
   "cell_type": "code",
   "execution_count": 31,
   "id": "90a6783f",
   "metadata": {
    "scrolled": false
   },
   "outputs": [
    {
     "name": "stdout",
     "output_type": "stream",
     "text": [
      "training loss:0.889409889702791\t validating loss:1.0892860158129967\n",
      "training accuracy:0.6621454603073997\t validating accuracy:0.592977563696286\n",
      "Confusion matrix:\n"
     ]
    },
    {
     "data": {
      "text/plain": [
       "array([[1884,   47,    1,   56,    1,  409,    1],\n",
       "       [ 433,  114,    0,   10,    0,  179,    2],\n",
       "       [  45,    9,    7,   62,    4,  303,    0],\n",
       "       [ 110,   13,   16,  276,    7,  559,    1],\n",
       "       [   8,    7,    0,   14,    3,   96,    0],\n",
       "       [ 462,   54,   22,  127,    6, 2393,    2],\n",
       "       [  34,    4,    2,   19,    1,   85,    1]], dtype=int64)"
      ]
     },
     "metadata": {},
     "output_type": "display_data"
    },
    {
     "name": "stdout",
     "output_type": "stream",
     "text": [
      "training loss:0.8890692837254917\t validating loss:1.1056082071531041\n",
      "training accuracy:0.6591665346220884\t validating accuracy:0.5886677652427431\n",
      "Confusion matrix:\n"
     ]
    },
    {
     "data": {
      "text/plain": [
       "array([[1776,   67,    2,   35,    1,  282,    0],\n",
       "       [ 229,  106,    6,    8,    0,  164,    0],\n",
       "       [  81,   21,   12,   70,    0,  263,    1],\n",
       "       [  99,   14,   25,  360,    2,  540,    5],\n",
       "       [  10,    0,    0,   21,   16,  101,    0],\n",
       "       [ 642,   91,   25,  185,    3, 2374,   15],\n",
       "       [ 122,   22,    1,   25,    0,   67,    0]], dtype=int64)"
      ]
     },
     "metadata": {},
     "output_type": "display_data"
    },
    {
     "name": "stdout",
     "output_type": "stream",
     "text": [
      "training loss:0.8849203613692828\t validating loss:1.0982034208342983\n",
      "training accuracy:0.6614165742354619\t validating accuracy:0.5937381163645582\n",
      "Confusion matrix:\n"
     ]
    },
    {
     "data": {
      "text/plain": [
       "array([[1883,   84,    2,   44,    2,  405,    4],\n",
       "       [ 231,  123,    8,    6,    2,  238,    1],\n",
       "       [  68,   24,   11,   94,    0,  289,    3],\n",
       "       [  97,   28,   15,  326,    4,  539,    2],\n",
       "       [  13,    1,    0,    2,    1,   60,    0],\n",
       "       [ 469,   77,   28,  177,    9, 2339,    4],\n",
       "       [  46,   15,    4,   35,    0,   75,    1]], dtype=int64)"
      ]
     },
     "metadata": {},
     "output_type": "display_data"
    },
    {
     "name": "stdout",
     "output_type": "stream",
     "text": [
      "training loss:0.8757894377637789\t validating loss:1.201708002061989\n",
      "training accuracy:0.6644905720171129\t validating accuracy:0.5572315882874889\n",
      "Confusion matrix:\n"
     ]
    },
    {
     "data": {
      "text/plain": [
       "array([[1759,  104,    8,   42,    0,  380,    4],\n",
       "       [ 202,  110,    7,    8,    0,  210,    3],\n",
       "       [  92,   10,   24,   83,    0,  312,    0],\n",
       "       [ 125,   15,   24,  321,    5,  546,    2],\n",
       "       [  46,    5,    0,   25,    3,  139,    0],\n",
       "       [ 657,   47,   15,  124,    6, 2177,    5],\n",
       "       [  75,    6,    3,   34,    0,  124,    2]], dtype=int64)"
      ]
     },
     "metadata": {},
     "output_type": "display_data"
    },
    {
     "name": "stdout",
     "output_type": "stream",
     "text": [
      "training loss:0.8874080404544211\t validating loss:1.1017415460608107\n",
      "training accuracy:0.6600646469768031\t validating accuracy:0.5774594320486816\n",
      "Confusion matrix:\n"
     ]
    },
    {
     "data": {
      "text/plain": [
       "array([[1886,   85,    1,   42,    0,  371,    1],\n",
       "       [ 261,  123,    0,    5,    0,  215,    3],\n",
       "       [  65,   20,   32,   65,    0,  266,    0],\n",
       "       [ 146,   17,   34,  276,    6,  471,    1],\n",
       "       [  31,    0,    0,   27,    6,   67,    0],\n",
       "       [ 675,   41,   24,  178,   12, 2232,    2],\n",
       "       [  55,   15,    2,   10,    2,  117,    0]], dtype=int64)"
      ]
     },
     "metadata": {},
     "output_type": "display_data"
    },
    {
     "name": "stdout",
     "output_type": "stream",
     "text": [
      "loss:1.1017415460608107\t accuracy:0.5774594320486816\n"
     ]
    }
   ],
   "source": [
    "classifier_performance(best_estimator, X, y)"
   ]
  },
  {
   "cell_type": "markdown",
   "id": "c27473ed",
   "metadata": {},
   "source": [
    "## Random forest"
   ]
  },
  {
   "cell_type": "markdown",
   "id": "41a7316c",
   "metadata": {},
   "source": [
    "### hyperparameters search"
   ]
  },
  {
   "cell_type": "code",
   "execution_count": 26,
   "id": "260cfdde",
   "metadata": {},
   "outputs": [],
   "source": [
    "from sklearn.ensemble import RandomForestClassifier\n",
    "\n",
    "rf = RandomForestClassifier(random_state=42)\n",
    "\n",
    "distributions = {\"n_estimators\": randint(low=10,high=100),\n",
    "                 \"criterion\": [\"gini\", \"entropy\"],\n",
    "                \"max_depth\": randint(low=10,high=20),\n",
    "                \"min_samples_leaf\": randint(low=5,high=100)}\n",
    "\n",
    "\n",
    "lr_rf = RandomizedSearchCV(rf, distributions, random_state=0, scoring = \"neg_log_loss\", n_iter = 10, cv=group_kfold)\n",
    "\n",
    "search_rf = lr_rf.fit(X, y, groups = groups)"
   ]
  },
  {
   "cell_type": "markdown",
   "id": "8abfbd32",
   "metadata": {},
   "source": [
    "### performance"
   ]
  },
  {
   "cell_type": "code",
   "execution_count": 27,
   "id": "06beb440",
   "metadata": {},
   "outputs": [],
   "source": [
    "best_estimator = search_rf.best_estimator_\n",
    "best_score = search_rf.best_score_\n",
    "best_param = search_rf.best_params_"
   ]
  },
  {
   "cell_type": "code",
   "execution_count": 28,
   "id": "6cfe9d70",
   "metadata": {},
   "outputs": [
    {
     "data": {
      "text/plain": [
       "{'criterion': 'entropy',\n",
       " 'max_depth': 18,\n",
       " 'min_samples_leaf': 14,\n",
       " 'n_estimators': 30}"
      ]
     },
     "execution_count": 28,
     "metadata": {},
     "output_type": "execute_result"
    }
   ],
   "source": [
    "best_param"
   ]
  },
  {
   "cell_type": "code",
   "execution_count": 29,
   "id": "594676b7",
   "metadata": {},
   "outputs": [
    {
     "name": "stdout",
     "output_type": "stream",
     "text": [
      "training loss:0.9425008477544735\t validating loss:1.079533129711213\n",
      "training accuracy:0.62757090793852\t validating accuracy:0.6047661300545063\n",
      "Confusion matrix:\n"
     ]
    },
    {
     "data": {
      "text/plain": [
       "array([[2052,    2,    0,   26,    0,  319,    0],\n",
       "       [ 522,   20,    0,    8,    0,  188,    0],\n",
       "       [  51,    2,    0,   42,    0,  335,    0],\n",
       "       [ 113,    0,    5,  235,    0,  629,    0],\n",
       "       [  10,    0,    0,   14,    0,  104,    0],\n",
       "       [ 511,   12,    4,   75,    0, 2464,    0],\n",
       "       [  38,    1,    0,   15,    0,   92,    0]], dtype=int64)"
      ]
     },
     "metadata": {},
     "output_type": "display_data"
    },
    {
     "name": "stdout",
     "output_type": "stream",
     "text": [
      "training loss:0.9334661227049481\t validating loss:1.121217456093517\n",
      "training accuracy:0.6314054824908889\t validating accuracy:0.5871466599061985\n",
      "Confusion matrix:\n"
     ]
    },
    {
     "data": {
      "text/plain": [
       "array([[1823,   13,    0,   31,    0,  290,    6],\n",
       "       [ 275,   32,    0,    6,    0,  200,    0],\n",
       "       [  84,    4,    0,   56,    0,  304,    0],\n",
       "       [ 111,    3,    0,  312,    0,  619,    0],\n",
       "       [  13,    1,    0,   29,    0,  105,    0],\n",
       "       [ 683,   62,    4,  121,    0, 2465,    0],\n",
       "       [ 133,    4,    1,   22,    0,   77,    0]], dtype=int64)"
      ]
     },
     "metadata": {},
     "output_type": "display_data"
    },
    {
     "name": "stdout",
     "output_type": "stream",
     "text": [
      "training loss:0.9313396246915374\t validating loss:1.109603245110732\n",
      "training accuracy:0.6345745523688797\t validating accuracy:0.592977563696286\n",
      "Confusion matrix:\n"
     ]
    },
    {
     "data": {
      "text/plain": [
       "array([[1987,   24,    0,   21,    0,  391,    1],\n",
       "       [ 293,   29,    1,    3,    0,  283,    0],\n",
       "       [  75,    3,    0,   78,    0,  333,    0],\n",
       "       [ 127,    1,    0,  231,    0,  652,    0],\n",
       "       [  13,    0,    0,    1,    0,   63,    0],\n",
       "       [ 561,    4,    0,  107,    0, 2431,    0],\n",
       "       [  56,    6,    0,   30,    0,   84,    0]], dtype=int64)"
      ]
     },
     "metadata": {},
     "output_type": "display_data"
    },
    {
     "name": "stdout",
     "output_type": "stream",
     "text": [
      "training loss:0.9163489016362202\t validating loss:1.2133832687155743\n",
      "training accuracy:0.6424972270638568\t validating accuracy:0.5596400050703512\n",
      "Confusion matrix:\n"
     ]
    },
    {
     "data": {
      "text/plain": [
       "array([[1830,   17,    0,   24,    0,  426,    0],\n",
       "       [ 241,   26,    0,    5,    0,  268,    0],\n",
       "       [  90,    7,    0,   79,    0,  345,    0],\n",
       "       [ 137,    1,    0,  288,    0,  612,    0],\n",
       "       [  45,    1,    0,   18,    0,  154,    0],\n",
       "       [ 657,    6,    0,   97,    0, 2271,    0],\n",
       "       [  83,    0,    0,   30,    0,  131,    0]], dtype=int64)"
      ]
     },
     "metadata": {},
     "output_type": "display_data"
    },
    {
     "name": "stdout",
     "output_type": "stream",
     "text": [
      "training loss:0.9323643342424917\t validating loss:1.1276751852781723\n",
      "training accuracy:0.6327481303080238\t validating accuracy:0.5704868154158215\n",
      "Confusion matrix:\n"
     ]
    },
    {
     "data": {
      "text/plain": [
       "array([[1959,   31,    0,   39,    0,  357,    0],\n",
       "       [ 321,   27,    0,    4,    0,  255,    0],\n",
       "       [  70,    9,    5,   47,    0,  317,    0],\n",
       "       [ 162,    4,    1,  221,    0,  563,    0],\n",
       "       [  26,    0,    0,   21,    0,   84,    0],\n",
       "       [ 726,   12,    5,  133,    0, 2288,    0],\n",
       "       [  66,    4,    0,    9,    0,  122,    0]], dtype=int64)"
      ]
     },
     "metadata": {},
     "output_type": "display_data"
    },
    {
     "name": "stdout",
     "output_type": "stream",
     "text": [
      "loss:1.1276751852781723\t accuracy:0.5704868154158215\n"
     ]
    }
   ],
   "source": [
    "classifier_performance(best_estimator, X, y)"
   ]
  },
  {
   "cell_type": "markdown",
   "id": "40063503",
   "metadata": {},
   "source": [
    "## Naive bayes"
   ]
  },
  {
   "cell_type": "markdown",
   "id": "37550382",
   "metadata": {},
   "source": [
    "Naive bayes has no parameters to tune, so we just try it with cross validation"
   ]
  },
  {
   "cell_type": "markdown",
   "id": "405137a6",
   "metadata": {},
   "source": [
    "### Cross validation"
   ]
  },
  {
   "cell_type": "code",
   "execution_count": 34,
   "id": "4e8164c0",
   "metadata": {},
   "outputs": [
    {
     "name": "stdout",
     "output_type": "stream",
     "text": [
      "training loss:9.660625358034274\t validating loss:10.117222675862747\n",
      "training accuracy:0.17055934083346538\t validating accuracy:0.15781467866649765\n",
      "Confusion matrix:\n"
     ]
    },
    {
     "data": {
      "text/plain": [
       "array([[ 527,   42,    4,   23, 1132,   26,  645],\n",
       "       [ 154,   37,    4,   14,  324,   19,  186],\n",
       "       [  24,    5,   40,   48,  208,   16,   89],\n",
       "       [  13,    8,   36,  211,  524,   30,  160],\n",
       "       [   0,    0,    0,    9,  108,    7,    4],\n",
       "       [ 145,   42,   89,  192, 1944,  268,  386],\n",
       "       [  15,    6,    1,   12,   54,    4,   54]], dtype=int64)"
      ]
     },
     "metadata": {},
     "output_type": "display_data"
    },
    {
     "name": "stdout",
     "output_type": "stream",
     "text": [
      "training loss:12.918177933585676\t validating loss:13.382202406166483\n",
      "training accuracy:0.12913959752812548\t validating accuracy:0.12663201926733425\n",
      "Confusion matrix:\n"
     ]
    },
    {
     "data": {
      "text/plain": [
       "array([[  97,  321,   43,   32, 1052,   51,  567],\n",
       "       [   7,  174,   12,   11,  232,   12,   65],\n",
       "       [   4,   28,   48,   51,  213,   16,   88],\n",
       "       [   4,   31,   52,  169,  561,   31,  197],\n",
       "       [   2,    5,    1,    5,  108,   10,   17],\n",
       "       [  12,  227,   98,  203, 2097,  249,  449],\n",
       "       [   3,    7,    3,   13,   53,    4,  154]], dtype=int64)"
      ]
     },
     "metadata": {},
     "output_type": "display_data"
    },
    {
     "name": "stdout",
     "output_type": "stream",
     "text": [
      "training loss:10.017706600449246\t validating loss:11.093700743446883\n",
      "training accuracy:0.16884804309935034\t validating accuracy:0.13144885283305868\n",
      "Confusion matrix:\n"
     ]
    },
    {
     "data": {
      "text/plain": [
       "array([[ 343,  114,   23,   54, 1181,   88,  621],\n",
       "       [  62,   46,   19,   12,  317,   23,  130],\n",
       "       [   3,    8,   71,   64,  224,   24,   95],\n",
       "       [   7,    3,   91,  178,  551,   37,  144],\n",
       "       [   3,    0,    0,    3,   59,    6,    6],\n",
       "       [  85,   56,  153,  202, 1972,  280,  355],\n",
       "       [   7,    8,    6,   14,   77,    4,   60]], dtype=int64)"
      ]
     },
     "metadata": {},
     "output_type": "display_data"
    },
    {
     "name": "stdout",
     "output_type": "stream",
     "text": [
      "training loss:12.065742239223294\t validating loss:13.062874120110456\n",
      "training accuracy:0.13170654412929805\t validating accuracy:0.13525161617442008\n",
      "Confusion matrix:\n"
     ]
    },
    {
     "data": {
      "text/plain": [
       "array([[ 276,  325,   29,   55, 1354,   86,  172],\n",
       "       [  53,  129,    8,   13,  259,   11,   67],\n",
       "       [  16,   10,   61,   43,  272,    8,  111],\n",
       "       [  14,   13,   69,  176,  624,   33,  109],\n",
       "       [   7,   13,    8,   10,  164,    5,   11],\n",
       "       [  50,  182,  110,  165, 2147,  181,  196],\n",
       "       [   4,    9,   14,    7,  129,    1,   80]], dtype=int64)"
      ]
     },
     "metadata": {},
     "output_type": "display_data"
    },
    {
     "name": "stdout",
     "output_type": "stream",
     "text": [
      "training loss:10.554333319913015\t validating loss:10.499130838152825\n",
      "training accuracy:0.14044872607428063\t validating accuracy:0.12677484787018256\n",
      "Confusion matrix:\n"
     ]
    },
    {
     "data": {
      "text/plain": [
       "array([[ 287,   96,  302,   39,  897,   80,  685],\n",
       "       [  27,   67,   78,    9,  231,   35,  160],\n",
       "       [   7,   12,  154,   17,  170,   24,   64],\n",
       "       [   5,    4,  236,  135,  370,   14,  187],\n",
       "       [   0,    0,    6,   16,   76,    2,   31],\n",
       "       [  42,   36,  422,  166, 1804,  212,  482],\n",
       "       [   4,    3,   25,    7,   89,    4,   69]], dtype=int64)"
      ]
     },
     "metadata": {},
     "output_type": "display_data"
    },
    {
     "name": "stdout",
     "output_type": "stream",
     "text": [
      "loss:10.499130838152825\t accuracy:0.12677484787018256\n"
     ]
    }
   ],
   "source": [
    "from sklearn.naive_bayes import GaussianNB\n",
    "\n",
    "gnb = GaussianNB()\n",
    "\n",
    "classifier_performance(gnb, X, y)"
   ]
  },
  {
   "cell_type": "markdown",
   "id": "399651fe",
   "metadata": {},
   "source": [
    "## Neural network"
   ]
  },
  {
   "cell_type": "markdown",
   "id": "442d0236",
   "metadata": {},
   "source": [
    "We don't use cross validation for neural network"
   ]
  },
  {
   "cell_type": "code",
   "execution_count": 35,
   "id": "e79a12f3",
   "metadata": {},
   "outputs": [],
   "source": [
    "from sklearn.neural_network import MLPClassifier\n",
    "from sklearn.model_selection import GridSearchCV\n",
    "from sklearn.model_selection import GroupShuffleSplit\n",
    "\n",
    "# train-validation split\n",
    "\n",
    "gss = GroupShuffleSplit(n_splits=2, train_size=.75, random_state=42)\n",
    "for train_idx, test_idx in gss.split(X, y, groups):\n",
    "    X_train, X_validate = X[train_idx,:], X[test_idx,:]\n",
    "    y_train, y_validate = y[train_idx], y[test_idx]\n",
    "\n",
    "parameters = {'learning_rate_init':np.arange(1e-4, 1e-2, 1e-3),\n",
    "              'alpha': np.arange(1e-5,1e-3,1e-4),\n",
    "              'learning_rate':['constant', 'invscaling', 'adaptive']}\n",
    "\n",
    "ann = MLPClassifier(hidden_layer_sizes=(25,), activation = 'relu', solver = 'adam', max_iter=500, random_state=42)\n",
    "\n",
    "lr_ann = RandomizedSearchCV(ann, parameters, random_state=0,  scoring = \"neg_log_loss\", n_iter = 5)\n",
    "search_ann = lr_ann.fit(X_train, y_train)"
   ]
  },
  {
   "cell_type": "code",
   "execution_count": 37,
   "id": "953eab0b",
   "metadata": {},
   "outputs": [],
   "source": [
    "best_estimator = search_ann.best_estimator_\n",
    "best_score = search_ann.best_score_\n",
    "best_param = search_ann.best_params_"
   ]
  },
  {
   "cell_type": "code",
   "execution_count": 38,
   "id": "e754001b",
   "metadata": {},
   "outputs": [
    {
     "data": {
      "text/plain": [
       "{'learning_rate_init': 0.0011, 'learning_rate': 'invscaling', 'alpha': 0.00071}"
      ]
     },
     "execution_count": 38,
     "metadata": {},
     "output_type": "execute_result"
    }
   ],
   "source": [
    "best_param"
   ]
  },
  {
   "cell_type": "code",
   "execution_count": 76,
   "id": "0057e3e1",
   "metadata": {},
   "outputs": [
    {
     "name": "stdout",
     "output_type": "stream",
     "text": [
      "training loss:0.7768802163017411\t validating loss:1.0472762670038298\n",
      "training accuracy:0.7273501942872724\t validating accuracy:0.6436770235503662\n",
      "Confusion matrix:\n"
     ]
    },
    {
     "data": {
      "text/plain": [
       "array([[1970,  197,   20,  128,    4,  381,   27],\n",
       "       [ 389,  246,   15,   46,    0,  118,    2],\n",
       "       [  83,   42,   61,  179,    2,  239,    4],\n",
       "       [ 220,   54,   52,  730,   24,  231,   14],\n",
       "       [  22,   11,    4,   47,   20,  106,    0],\n",
       "       [ 411,   53,   37,  115,   16, 3472,    7],\n",
       "       [ 131,   22,    8,   57,    0,   83,    6]], dtype=int64)"
      ]
     },
     "metadata": {},
     "output_type": "display_data"
    }
   ],
   "source": [
    "proba_train = best_estimator.predict_proba(X_train)\n",
    "proba_val = best_estimator.predict_proba(X_validate)\n",
    "\n",
    "loss_train = log_loss(y_train, proba_train)\n",
    "loss_val = log_loss(y_validate, proba_val)\n",
    "\n",
    "acc_train = accuracy_score(y_train, best_estimator.predict(X_train))\n",
    "acc_val = accuracy_score(y_validate, best_estimator.predict(X_validate))\n",
    "\n",
    "print(f\"training loss:{loss_train}\\t validating loss:{loss_val}\")\n",
    "\n",
    "print(f\"training accuracy:{acc_train}\\t validating accuracy:{acc_val}\")\n",
    "\n",
    "# Confusion matrix\n",
    "print('Confusion matrix:')\n",
    "display(confusion_matrix(y_validate, best_estimator.predict(X_validate)))"
   ]
  },
  {
   "cell_type": "markdown",
   "id": "7ce23653",
   "metadata": {},
   "source": [
    "### Train the best model with the whole dataset"
   ]
  },
  {
   "cell_type": "code",
   "execution_count": 29,
   "id": "ea0c3143",
   "metadata": {},
   "outputs": [
    {
     "data": {
      "text/plain": [
       "XGBClassifier(base_score=0.5, booster='gbtree', colsample_bylevel=1,\n",
       "              colsample_bynode=1, colsample_bytree=1, enable_categorical=False,\n",
       "              eval_metric='mlogloss', gamma=0, gpu_id=-1, importance_type=None,\n",
       "              interaction_constraints='', learning_rate=0.268, max_delta_step=0,\n",
       "              max_depth=5, min_child_weight=1, missing=nan,\n",
       "              monotone_constraints='()', n_estimators=40, n_jobs=-1,\n",
       "              num_parallel_tree=1, objective='multi:softprob', predictor='auto',\n",
       "              random_state=42, reg_alpha=0, reg_lambda=1, scale_pos_weight=None,\n",
       "              subsample=1, tree_method='exact', use_label_encoder=False,\n",
       "              validate_parameters=1, ...)"
      ]
     },
     "execution_count": 29,
     "metadata": {},
     "output_type": "execute_result"
    }
   ],
   "source": [
    "best_param = {'n_estimators': 40, 'max_depth': 5, 'learning_rate': 0.268}\n",
    "best_estimator = xgb.XGBClassifier(n_jobs=-1, random_state=42, objective=\"multi:softprob\", eval_metric=\"mlogloss\", use_label_encoder=False, **best_param)\n",
    "best_estimator.fit(X, y)"
   ]
  },
  {
   "cell_type": "code",
   "execution_count": 30,
   "id": "281818c2",
   "metadata": {},
   "outputs": [],
   "source": [
    "proba = best_estimator.predict_proba(X_test)"
   ]
  },
  {
   "cell_type": "code",
   "execution_count": 24,
   "id": "d815367f",
   "metadata": {},
   "outputs": [],
   "source": [
    "result = pd.DataFrame({'id':df_test['id'].values, 'drive':proba[:,0], 'passenger':proba[:,1], 'bus':proba[:,2],'subway':proba[:,3],\\\n",
    "                      'bike':proba[:,4],'walk':proba[:,5],'other':proba[:,1],})\n",
    "result.to_csv('xgboost_xgboost_test.csv',index=False)"
   ]
  },
  {
   "cell_type": "code",
   "execution_count": null,
   "id": "a04b5b60",
   "metadata": {},
   "outputs": [],
   "source": []
  }
 ],
 "metadata": {
  "kernelspec": {
   "display_name": "Python 3",
   "language": "python",
   "name": "python3"
  },
  "language_info": {
   "codemirror_mode": {
    "name": "ipython",
    "version": 3
   },
   "file_extension": ".py",
   "mimetype": "text/x-python",
   "name": "python",
   "nbconvert_exporter": "python",
   "pygments_lexer": "ipython3",
   "version": "3.8.8"
  }
 },
 "nbformat": 4,
 "nbformat_minor": 5
}
