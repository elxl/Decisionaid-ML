{
 "cells": [
  {
   "cell_type": "code",
   "execution_count": 1,
   "id": "ee701bc5",
   "metadata": {},
   "outputs": [],
   "source": [
    "import pandas as pd\n",
    "import numpy as np\n",
    "from sklearn.preprocessing import OneHotEncoder, normalize"
   ]
  },
  {
   "cell_type": "code",
   "execution_count": 2,
   "id": "22cc23f7",
   "metadata": {},
   "outputs": [],
   "source": [
    "df = pd.read_csv('data/data_processed.csv')"
   ]
  },
  {
   "cell_type": "markdown",
   "id": "24710348",
   "metadata": {},
   "source": [
    "## Select feature and encoding"
   ]
  },
  {
   "cell_type": "markdown",
   "id": "b6fdc01d",
   "metadata": {},
   "source": [
    "Choice of features are chosen based on correlation and our understanding of the problem"
   ]
  },
  {
   "cell_type": "code",
   "execution_count": 3,
   "id": "c1b96401",
   "metadata": {},
   "outputs": [],
   "source": [
    "# covert categorial features into one-hot encoding\n",
    "selected_features = [\n",
    "     'travel_date_dow',\n",
    "     'o_purpose_category',\n",
    "     'd_purpose_category',\n",
    "#      'num_non_hh_travelers',\n",
    "     'num_hh_travelers',\n",
    "     'num_travelers',\n",
    "#      'o_location_type',\n",
    "#      'd_location_type',\n",
    "     'o_congestion',\n",
    "     'd_congestion',\n",
    "#      'age',\n",
    "#      'employment',\n",
    "#      'student',\n",
    "     'license',\n",
    "#      'planning_apps',\n",
    "     'industry',\n",
    "#      'gender',\n",
    "#      'education',\n",
    "#      'survey_language',\n",
    "     'num_bicycles',\n",
    "     'num_vehicles',\n",
    "     'res_type',\n",
    "#      'rent_own',\n",
    "     'income_aggregate',\n",
    "#      'num_people',\n",
    "#      'num_adults',\n",
    "#      'num_kids',\n",
    "#      'num_workers',\n",
    "#      'num_students',\n",
    "     'disability',\n",
    "     'trip_distance'\n",
    "]\n",
    "\n",
    "df_selected = df[selected_features]\n",
    "\n",
    "categorial_columns = ['travel_date_dow',\n",
    "       'o_purpose_category', 'd_purpose_category', 'o_location_type',\n",
    "       'd_location_type', 'age', 'employment', 'license', 'planning_apps', 'industry', 'gender'\n",
    "                    , 'survey_language',\n",
    "       'res_type', 'rent_own',  'disability']\n",
    "\n",
    "onehot = pd.get_dummies(df_selected, columns=[x for x in categorial_columns if x in selected_features])"
   ]
  },
  {
   "cell_type": "code",
   "execution_count": 4,
   "id": "69e77e8e",
   "metadata": {},
   "outputs": [],
   "source": [
    "classes = np.array(['drive', 'passenger', 'bus', 'subway', 'bike', 'walk', 'other'])\n",
    "\n",
    "\n",
    "# Transfer string\n",
    "str_to_val = {\n",
    "    'drive': 0,\n",
    "    'passenger': 1,\n",
    "    'bus': 2,\n",
    "    'subway': 3,\n",
    "    'bike': 4,\n",
    "    'walk': 5,\n",
    "    'other': 6,\n",
    "}\n",
    "\n",
    "y = df['mode'].replace(str_to_val).to_numpy()\n",
    "X = onehot.to_numpy()"
   ]
  },
  {
   "cell_type": "markdown",
   "id": "faa3d4bf",
   "metadata": {},
   "source": [
    "## Model selection"
   ]
  },
  {
   "cell_type": "code",
   "execution_count": 5,
   "id": "55e97d09",
   "metadata": {},
   "outputs": [],
   "source": [
    "# train-validation split\n",
    "from sklearn.model_selection import GroupKFold\n",
    "from sklearn.model_selection import RandomizedSearchCV\n",
    "from scipy.stats import uniform\n",
    "from scipy.stats import randint\n",
    "\n",
    "from sklearn.metrics import log_loss\n",
    "from sklearn.metrics import log_loss,confusion_matrix, accuracy_score\n",
    "from sklearn.metrics import confusion_matrix\n",
    "\n",
    "from scipy.stats import uniform\n",
    "from scipy.stats import randint\n",
    "\n",
    "groups = df['person_id']\n",
    "group_kfold = GroupKFold(n_splits=5)"
   ]
  },
  {
   "cell_type": "markdown",
   "id": "f9f343a2",
   "metadata": {},
   "source": [
    "## XGboost"
   ]
  },
  {
   "cell_type": "markdown",
   "id": "540d5bf0",
   "metadata": {},
   "source": [
    "The range of parameters tried is partially taken from [this link](https://kevinvecmanis.io/machine%20learning/hyperparameter%20tuning/dataviz/python/2019/05/11/XGBoost-Tuning-Visual-Guide.html)"
   ]
  },
  {
   "cell_type": "markdown",
   "id": "d44ca5cb",
   "metadata": {},
   "source": [
    "### hyperparameters search"
   ]
  },
  {
   "cell_type": "code",
   "execution_count": 31,
   "id": "fe956e50",
   "metadata": {},
   "outputs": [],
   "source": [
    "import xgboost as xgb\n",
    "\n",
    "xgbo = xgb.XGBClassifier(n_jobs=-1, random_state=42, objective=\"multi:softprob\", eval_metric=\"mlogloss\", use_label_encoder=False)\n",
    "distributions = {'n_estimators': np.arange(10,50,10), \n",
    "                 'max_depth': np.arange(5,20,1),\n",
    "                 'learning_rate': np.arange(0.0005,0.3,0.0005)}\n",
    "\n",
    "lr_xgbo = RandomizedSearchCV(xgbo, distributions, random_state=0, scoring = \"neg_log_loss\", n_iter = 10, cv=group_kfold)\n",
    "\n",
    "search_xgbo = lr_xgbo.fit(X, y, groups = groups)"
   ]
  },
  {
   "cell_type": "markdown",
   "id": "4321f5b3",
   "metadata": {},
   "source": [
    "### performance"
   ]
  },
  {
   "cell_type": "code",
   "execution_count": 33,
   "id": "3e6f3dd6",
   "metadata": {
    "collapsed": true
   },
   "outputs": [
    {
     "ename": "NameError",
     "evalue": "name 'search_xgbo' is not defined",
     "output_type": "error",
     "traceback": [
      "\u001b[1;31m---------------------------------------------------------------------------\u001b[0m",
      "\u001b[1;31mNameError\u001b[0m                                 Traceback (most recent call last)",
      "\u001b[1;32m<ipython-input-33-fdf81b0c54d8>\u001b[0m in \u001b[0;36m<module>\u001b[1;34m\u001b[0m\n\u001b[1;32m----> 1\u001b[1;33m \u001b[0mbest_estimator\u001b[0m \u001b[1;33m=\u001b[0m \u001b[0msearch_xgbo\u001b[0m\u001b[1;33m.\u001b[0m\u001b[0mbest_estimator_\u001b[0m\u001b[1;33m\u001b[0m\u001b[1;33m\u001b[0m\u001b[0m\n\u001b[0m\u001b[0;32m      2\u001b[0m \u001b[0mbest_score\u001b[0m \u001b[1;33m=\u001b[0m \u001b[0msearch_xgbo\u001b[0m\u001b[1;33m.\u001b[0m\u001b[0mbest_score_\u001b[0m\u001b[1;33m\u001b[0m\u001b[1;33m\u001b[0m\u001b[0m\n\u001b[0;32m      3\u001b[0m \u001b[0mbest_param\u001b[0m \u001b[1;33m=\u001b[0m \u001b[0msearch_xgbo\u001b[0m\u001b[1;33m.\u001b[0m\u001b[0mbest_params_\u001b[0m\u001b[1;33m\u001b[0m\u001b[1;33m\u001b[0m\u001b[0m\n",
      "\u001b[1;31mNameError\u001b[0m: name 'search_xgbo' is not defined"
     ]
    }
   ],
   "source": [
    "best_estimator = search_xgbo.best_estimator_\n",
    "best_score = search_xgbo.best_score_\n",
    "best_param = search_xgbo.best_params_"
   ]
  },
  {
   "cell_type": "markdown",
   "id": "09420384",
   "metadata": {},
   "source": [
    "Define performance evaluation function for later use"
   ]
  },
  {
   "cell_type": "code",
   "execution_count": 45,
   "id": "c97f200c",
   "metadata": {},
   "outputs": [],
   "source": [
    "def classifier_performance(best_estimator):\n",
    "    for train_index, validate_index in group_kfold.split(X, y, groups):\n",
    "        X_train, X_validate = X[train_index], X[validate_index]\n",
    "        y_train, y_validate = y[train_index], y[validate_index]\n",
    "        \n",
    "        # loss and accuracy\n",
    "        loss = []\n",
    "        acc = []\n",
    "\n",
    "        best_estimator.fit(X_train, y_train)\n",
    "        \n",
    "        proba_train = best_estimator.predict_proba(X_train)\n",
    "        proba_val = best_estimator.predict_proba(X_validate)\n",
    "        \n",
    "        loss_train = log_loss(y_train, proba_train)\n",
    "        loss_val = log_loss(y_validate, proba_val)\n",
    "        loss.append(loss_val)\n",
    "        \n",
    "        acc_train = accuracy_score(y_train, best_estimator.predict(X_train))\n",
    "        acc_val = accuracy_score(y_validate, best_estimator.predict(X_validate))\n",
    "        acc.append(acc_val)\n",
    "        \n",
    "        print(f\"training loss:{loss_train}\\t validating loss:{loss_val}\")\n",
    "\n",
    "        print(f\"training accuracy:{acc_train}\\t validating accuracy:{acc_val}\")\n",
    "        \n",
    "        # Confusion matrix\n",
    "        print('Confusion matrix:')\n",
    "        display(confusion_matrix(y_validate, best_estimator.predict(X_validate)))\n",
    "    \n",
    "    print(f\"loss:{np.mean(loss)}\\t accuracy:{np.mean(acc)}\")"
   ]
  },
  {
   "cell_type": "code",
   "execution_count": 40,
   "id": "9a9a890e",
   "metadata": {},
   "outputs": [
    {
     "data": {
      "text/plain": [
       "{'n_estimators': 40, 'max_depth': 5, 'learning_rate': 0.1775}"
      ]
     },
     "execution_count": 40,
     "metadata": {},
     "output_type": "execute_result"
    }
   ],
   "source": [
    "best_param"
   ]
  },
  {
   "cell_type": "code",
   "execution_count": 46,
   "id": "c20ac3ef",
   "metadata": {},
   "outputs": [
    {
     "name": "stdout",
     "output_type": "stream",
     "text": [
      "training loss:0.7684913363882653\t validating loss:0.8743614894932351\n",
      "training accuracy:0.7263825067342735\t validating accuracy:0.678793256433008\n",
      "Confusion matrix:\n"
     ]
    },
    {
     "data": {
      "text/plain": [
       "array([[1896,   26,    7,  108,    2,  359,    1],\n",
       "       [ 485,  135,    4,   12,    0,  101,    1],\n",
       "       [  57,   23,   30,  158,    1,  161,    0],\n",
       "       [ 126,   52,   27,  604,    0,  173,    0],\n",
       "       [  14,    7,    0,   67,    1,   39,    0],\n",
       "       [ 227,   30,   16,  104,    2, 2687,    0],\n",
       "       [  29,   19,    1,   42,    1,   52,    2]], dtype=int64)"
      ]
     },
     "metadata": {},
     "output_type": "display_data"
    },
    {
     "name": "stdout",
     "output_type": "stream",
     "text": [
      "training loss:0.7674487371250309\t validating loss:0.9062359865510708\n",
      "training accuracy:0.7247662810964982\t validating accuracy:0.6886804411205476\n",
      "Confusion matrix:\n"
     ]
    },
    {
     "data": {
      "text/plain": [
       "array([[1675,   77,    3,   89,    2,  254,   63],\n",
       "       [ 246,  178,    5,   14,    0,   69,    1],\n",
       "       [  74,   36,   34,  129,    0,  174,    1],\n",
       "       [ 112,   60,   27,  647,    2,  197,    0],\n",
       "       [  14,    7,    1,   55,    3,   68,    0],\n",
       "       [ 304,   41,   22,   80,    0, 2888,    0],\n",
       "       [ 114,   30,    4,   35,    1,   45,    8]], dtype=int64)"
      ]
     },
     "metadata": {},
     "output_type": "display_data"
    },
    {
     "name": "stdout",
     "output_type": "stream",
     "text": [
      "training loss:0.7612042850712493\t validating loss:0.8916342873520566\n",
      "training accuracy:0.7263825067342735\t validating accuracy:0.691469134237546\n",
      "Confusion matrix:\n"
     ]
    },
    {
     "data": {
      "text/plain": [
       "array([[1851,   62,   14,  102,    5,  379,   11],\n",
       "       [ 260,  198,    8,   20,    1,  121,    1],\n",
       "       [  74,   33,   42,  169,    1,  170,    0],\n",
       "       [ 123,   53,   34,  620,    5,  176,    0],\n",
       "       [  14,    1,    0,   10,    3,   49,    0],\n",
       "       [ 223,   23,   17,   98,    1, 2740,    1],\n",
       "       [  51,   23,    6,   60,    0,   35,    1]], dtype=int64)"
      ]
     },
     "metadata": {},
     "output_type": "display_data"
    },
    {
     "name": "stdout",
     "output_type": "stream",
     "text": [
      "training loss:0.7419027612509917\t validating loss:1.0116730029822825\n",
      "training accuracy:0.7361432419584852\t validating accuracy:0.6571175053872481\n",
      "Confusion matrix:\n"
     ]
    },
    {
     "data": {
      "text/plain": [
       "array([[1689,   94,    5,  110,    3,  389,    7],\n",
       "       [ 221,  190,    4,   24,    1,   98,    2],\n",
       "       [  90,   39,   49,  176,    0,  161,    6],\n",
       "       [ 137,   36,   36,  615,    2,  208,    4],\n",
       "       [  42,    2,    3,   51,    0,  120,    0],\n",
       "       [ 220,   48,   26,   98,    0, 2638,    1],\n",
       "       [  92,   20,    2,   59,    0,   68,    3]], dtype=int64)"
      ]
     },
     "metadata": {},
     "output_type": "display_data"
    },
    {
     "name": "stdout",
     "output_type": "stream",
     "text": [
      "training loss:0.7609750109368534\t validating loss:0.9189487922696763\n",
      "training accuracy:0.7298136645962733\t validating accuracy:0.6806541582150102\n",
      "Confusion matrix:\n"
     ]
    },
    {
     "data": {
      "text/plain": [
       "array([[1840,   90,    8,  145,    2,  299,    2],\n",
       "       [ 287,  194,    2,   15,    0,  107,    2],\n",
       "       [  66,   34,   45,  128,    0,  175,    0],\n",
       "       [ 164,   46,   37,  538,    8,  157,    1],\n",
       "       [  23,    8,    0,   41,   21,   38,    0],\n",
       "       [ 281,   33,   15,   93,    9, 2731,    2],\n",
       "       [  57,   21,    5,   30,    0,   88,    0]], dtype=int64)"
      ]
     },
     "metadata": {},
     "output_type": "display_data"
    },
    {
     "name": "stdout",
     "output_type": "stream",
     "text": [
      "loss:0.9189487922696763\t accuracy:0.6806541582150102\n"
     ]
    }
   ],
   "source": [
    "classifier_performance(best_estimator)"
   ]
  },
  {
   "cell_type": "markdown",
   "id": "c27473ed",
   "metadata": {},
   "source": [
    "## Random forest"
   ]
  },
  {
   "cell_type": "markdown",
   "id": "41a7316c",
   "metadata": {},
   "source": [
    "### hyperparameters search"
   ]
  },
  {
   "cell_type": "code",
   "execution_count": 55,
   "id": "260cfdde",
   "metadata": {},
   "outputs": [],
   "source": [
    "from sklearn.ensemble import RandomForestClassifier\n",
    "\n",
    "rf = RandomForestClassifier(random_state=42)\n",
    "\n",
    "distributions = {\"n_estimators\": randint(low=10,high=100),\n",
    "                 \"criterion\": [\"gini\", \"entropy\"],\n",
    "                \"max_depth\": randint(low=10,high=20),\n",
    "                \"min_samples_leaf\": randint(low=5,high=100)}\n",
    "\n",
    "\n",
    "lr_rf = RandomizedSearchCV(rf, distributions, random_state=0, scoring = \"neg_log_loss\", n_iter = 50, cv=group_kfold)\n",
    "\n",
    "search_rf = lr_rf.fit(X, y, groups = groups)"
   ]
  },
  {
   "cell_type": "markdown",
   "id": "8abfbd32",
   "metadata": {},
   "source": [
    "### performance"
   ]
  },
  {
   "cell_type": "code",
   "execution_count": 56,
   "id": "06beb440",
   "metadata": {},
   "outputs": [],
   "source": [
    "best_estimator = search_rf.best_estimator_\n",
    "best_score = search_rf.best_score_\n",
    "best_param = search_rf.best_params_"
   ]
  },
  {
   "cell_type": "code",
   "execution_count": 57,
   "id": "4a841499",
   "metadata": {},
   "outputs": [
    {
     "data": {
      "text/plain": [
       "{'criterion': 'entropy',\n",
       " 'max_depth': 18,\n",
       " 'min_samples_leaf': 16,\n",
       " 'n_estimators': 55}"
      ]
     },
     "execution_count": 57,
     "metadata": {},
     "output_type": "execute_result"
    }
   ],
   "source": [
    "best_param"
   ]
  },
  {
   "cell_type": "code",
   "execution_count": 58,
   "id": "dc9aae4d",
   "metadata": {},
   "outputs": [
    {
     "name": "stdout",
     "output_type": "stream",
     "text": [
      "training loss:0.8248800571157937\t validating loss:0.9332547615909293\n",
      "training accuracy:0.7190302646173348\t validating accuracy:0.679807326657371\n",
      "Confusion matrix:\n"
     ]
    },
    {
     "data": {
      "text/plain": [
       "array([[1913,    7,    1,  119,    0,  359,    0],\n",
       "       [ 509,   91,    0,   19,    0,  119,    0],\n",
       "       [  74,   17,    3,  167,    0,  169,    0],\n",
       "       [ 141,   33,    4,  621,    0,  183,    0],\n",
       "       [  14,    6,    0,   63,    0,   45,    0],\n",
       "       [ 226,   16,    1,   88,    0, 2735,    0],\n",
       "       [  32,   11,    1,   45,    0,   57,    0]], dtype=int64)"
      ]
     },
     "metadata": {},
     "output_type": "display_data"
    },
    {
     "name": "stdout",
     "output_type": "stream",
     "text": [
      "training loss:0.8185719295592064\t validating loss:0.9435579512450608\n",
      "training accuracy:0.7133893202345112\t validating accuracy:0.6959056914691343\n",
      "Confusion matrix:\n"
     ]
    },
    {
     "data": {
      "text/plain": [
       "array([[1767,   42,    0,   80,    0,  274,    0],\n",
       "       [ 264,  144,    0,   13,    0,   92,    0],\n",
       "       [  81,   27,    4,  140,    0,  196,    0],\n",
       "       [ 132,   49,    3,  644,    0,  217,    0],\n",
       "       [  19,    6,    0,   57,    0,   66,    0],\n",
       "       [ 303,   30,    0,   71,    0, 2931,    0],\n",
       "       [ 136,   17,    0,   36,    0,   48,    0]], dtype=int64)"
      ]
     },
     "metadata": {},
     "output_type": "display_data"
    },
    {
     "name": "stdout",
     "output_type": "stream",
     "text": [
      "training loss:0.8144111872542065\t validating loss:0.9419571537957047\n",
      "training accuracy:0.7190619553161147\t validating accuracy:0.6915958930155913\n",
      "Confusion matrix:\n"
     ]
    },
    {
     "data": {
      "text/plain": [
       "array([[1880,   29,    0,  104,    0,  411,    0],\n",
       "       [ 295,  158,    0,   22,    0,  134,    0],\n",
       "       [  80,   29,    2,  175,    0,  203,    0],\n",
       "       [ 134,   34,    2,  623,    0,  218,    0],\n",
       "       [  14,    1,    0,   10,    0,   52,    0],\n",
       "       [ 209,   12,    0,   89,    0, 2793,    0],\n",
       "       [  54,   11,    0,   64,    0,   47,    0]], dtype=int64)"
      ]
     },
     "metadata": {},
     "output_type": "display_data"
    },
    {
     "name": "stdout",
     "output_type": "stream",
     "text": [
      "training loss:0.7988670513301406\t validating loss:1.0520815516178068\n",
      "training accuracy:0.7244176834099192\t validating accuracy:0.659779439726201\n",
      "Confusion matrix:\n"
     ]
    },
    {
     "data": {
      "text/plain": [
       "array([[1732,   52,    0,  105,    0,  408,    0],\n",
       "       [ 239,  162,    0,   25,    0,  114,    0],\n",
       "       [  95,   29,    3,  199,    0,  195,    0],\n",
       "       [ 143,   27,    0,  631,    0,  237,    0],\n",
       "       [  48,    0,    0,   53,    0,  117,    0],\n",
       "       [ 233,   31,    0,   90,    0, 2677,    0],\n",
       "       [  94,   15,    0,   53,    0,   82,    0]], dtype=int64)"
      ]
     },
     "metadata": {},
     "output_type": "display_data"
    },
    {
     "name": "stdout",
     "output_type": "stream",
     "text": [
      "training loss:0.8130402369709366\t validating loss:0.9650992631159193\n",
      "training accuracy:0.7143174039802256\t validating accuracy:0.6838235294117647\n",
      "Confusion matrix:\n"
     ]
    },
    {
     "data": {
      "text/plain": [
       "array([[1897,   36,    2,  121,    0,  330,    0],\n",
       "       [ 311,  161,    0,   10,    0,  125,    0],\n",
       "       [  67,   26,    3,  140,    0,  212,    0],\n",
       "       [ 179,   39,    2,  550,    0,  181,    0],\n",
       "       [  24,    6,    0,   54,    0,   47,    0],\n",
       "       [ 266,   20,    0,   95,    0, 2783,    0],\n",
       "       [  66,    9,    0,   36,    0,   90,    0]], dtype=int64)"
      ]
     },
     "metadata": {},
     "output_type": "display_data"
    },
    {
     "name": "stdout",
     "output_type": "stream",
     "text": [
      "loss:0.9650992631159193\t accuracy:0.6838235294117647\n"
     ]
    }
   ],
   "source": [
    "classifier_performance(best_estimator)"
   ]
  },
  {
   "cell_type": "markdown",
   "id": "d9f43a2c",
   "metadata": {},
   "source": [
    "## Bagging"
   ]
  },
  {
   "cell_type": "markdown",
   "id": "a785fe67",
   "metadata": {},
   "source": [
    "Try decisiontree and svm as base classifiers"
   ]
  },
  {
   "cell_type": "markdown",
   "id": "ff93fd25",
   "metadata": {},
   "source": [
    "### hyperparameters search"
   ]
  },
  {
   "cell_type": "code",
   "execution_count": null,
   "id": "be3f13e1",
   "metadata": {},
   "outputs": [],
   "source": [
    "from sklearn.ensemble import BaggingClassifier\n",
    "from sklearn.tree import DecisionTreeClassifier\n",
    "from sklearn.svm import SVC\n",
    "\n",
    "bag = BaggingClassifier(random_state=42)\n",
    "\n",
    "distributions = {\n",
    "    \"base_estimator\": [DecisionTreeClassifier(),SVC()],\n",
    "    \"n_estimators\": np.arange(10,100,10),\n",
    "    \"max_samples\": np.arange(0.1,1.0,0.1),\n",
    "    \"max_features\": np.arange(5,15)\n",
    "}\n",
    "\n",
    "lr_bag = RandomizedSearchCV(bag, distributions, random_state=0,  scoring = \"neg_log_loss\", n_iter = 10, cv=group_kfold)\n",
    "\n",
    "search_bag = lr_bag.fit(X, y, groups = groups)"
   ]
  },
  {
   "cell_type": "markdown",
   "id": "070aaf9a",
   "metadata": {},
   "source": [
    "### performance"
   ]
  },
  {
   "cell_type": "code",
   "execution_count": null,
   "id": "3abb5adb",
   "metadata": {},
   "outputs": [],
   "source": [
    "best_estimator = search_rf.best_estimator_\n",
    "best_score = search_rf.best_score_\n",
    "best_param = search_rf.best_params_"
   ]
  },
  {
   "cell_type": "code",
   "execution_count": null,
   "id": "0ea146e4",
   "metadata": {},
   "outputs": [],
   "source": [
    "best_param"
   ]
  },
  {
   "cell_type": "code",
   "execution_count": null,
   "id": "ea95062d",
   "metadata": {},
   "outputs": [],
   "source": [
    "classifier_performance(best_estimator)"
   ]
  },
  {
   "cell_type": "markdown",
   "id": "40063503",
   "metadata": {},
   "source": [
    "## Naive bayes"
   ]
  },
  {
   "cell_type": "markdown",
   "id": "37550382",
   "metadata": {},
   "source": [
    "Naive bayes has no parameters to tune, so we just try it with cross validation"
   ]
  },
  {
   "cell_type": "markdown",
   "id": "405137a6",
   "metadata": {},
   "source": [
    "### Cross validation"
   ]
  },
  {
   "cell_type": "code",
   "execution_count": 49,
   "id": "13e10898",
   "metadata": {},
   "outputs": [
    {
     "name": "stdout",
     "output_type": "stream",
     "text": [
      "training loss:17.485942507541232\t validating loss:18.1379970980222\n",
      "training accuracy:0.12492473459039771\t validating accuracy:0.10229433388262137\n",
      "Confusion matrix:\n"
     ]
    },
    {
     "data": {
      "text/plain": [
       "array([[ 363,   36,   23,    5, 1570,   18,  384],\n",
       "       [  75,   19,    5,    6,  505,   11,  117],\n",
       "       [  31,    3,   18,   28,  300,    9,   41],\n",
       "       [  12,    3,   14,   80,  764,   21,   88],\n",
       "       [   0,    0,    0,   10,  111,    6,    1],\n",
       "       [  80,   23,   48,  107, 2429,  185,  194],\n",
       "       [  12,    3,    1,    6,   87,    6,   31]], dtype=int64)"
      ]
     },
     "metadata": {},
     "output_type": "display_data"
    },
    {
     "name": "stdout",
     "output_type": "stream",
     "text": [
      "training loss:19.850054294354518\t validating loss:20.513092865587502\n",
      "training accuracy:0.08128664237046426\t validating accuracy:0.0759285080491824\n",
      "Confusion matrix:\n"
     ]
    },
    {
     "data": {
      "text/plain": [
       "array([[  90,  148,   22,   23, 1243,   27,  610],\n",
       "       [   8,   79,   17,    6,  290,   16,   97],\n",
       "       [   3,   11,   14,   24,  279,    5,  112],\n",
       "       [   4,    8,   19,   59,  758,    5,  192],\n",
       "       [   2,    0,    0,    5,  118,    0,   23],\n",
       "       [  22,   79,   41,   89, 2576,  106,  422],\n",
       "       [   0,    2,    3,   10,   87,    2,  133]], dtype=int64)"
      ]
     },
     "metadata": {},
     "output_type": "display_data"
    },
    {
     "name": "stdout",
     "output_type": "stream",
     "text": [
      "training loss:17.904354892957322\t validating loss:19.496134453009095\n",
      "training accuracy:0.11608302963080336\t validating accuracy:0.0872100392952212\n",
      "Confusion matrix:\n"
     ]
    },
    {
     "data": {
      "text/plain": [
       "array([[ 326,   91,   71,   28, 1523,  103,  282],\n",
       "       [  42,   31,   49,    4,  414,   15,   54],\n",
       "       [   3,    4,   66,   22,  342,   13,   39],\n",
       "       [   9,    2,   74,   50,  796,   17,   63],\n",
       "       [   4,    0,    0,    1,   53,   16,    3],\n",
       "       [  85,   40,  196,   45, 2473,  140,  124],\n",
       "       [   6,    8,   12,    5,  122,    1,   22]], dtype=int64)"
      ]
     },
     "metadata": {},
     "output_type": "display_data"
    },
    {
     "name": "stdout",
     "output_type": "stream",
     "text": [
      "training loss:19.477417773644916\t validating loss:19.603181415183315\n",
      "training accuracy:0.10591031532245286\t validating accuracy:0.11243503612625175\n",
      "Confusion matrix:\n"
     ]
    },
    {
     "data": {
      "text/plain": [
       "array([[ 306,  234,   57,   53, 1385,   54,  208],\n",
       "       [  49,   81,    8,   19,  335,    8,   40],\n",
       "       [  19,    6,   27,   17,  348,    8,   96],\n",
       "       [  15,    8,   48,  119,  764,   19,   65],\n",
       "       [   7,   10,    4,   11,  175,    6,    5],\n",
       "       [  63,  110,   92,  116, 2258,  159,  233],\n",
       "       [   5,    5,    7,    5,  201,    1,   20]], dtype=int64)"
      ]
     },
     "metadata": {},
     "output_type": "display_data"
    },
    {
     "name": "stdout",
     "output_type": "stream",
     "text": [
      "training loss:18.536038087528713\t validating loss:18.847581331060834\n",
      "training accuracy:0.0765623019394093\t validating accuracy:0.057682555780933065\n",
      "Confusion matrix:\n"
     ]
    },
    {
     "data": {
      "text/plain": [
       "array([[ 163,   47,   32,   12, 1558,    8,  566],\n",
       "       [  16,   19,   28,    1,  386,    1,  156],\n",
       "       [   7,    4,   39,    8,  253,   10,  127],\n",
       "       [   2,    1,   49,   46,  586,    3,  264],\n",
       "       [   1,    0,    2,    0,  100,    0,   28],\n",
       "       [  23,   16,  128,   61, 2338,   30,  568],\n",
       "       [   1,    2,   21,    3,  114,    2,   58]], dtype=int64)"
      ]
     },
     "metadata": {},
     "output_type": "display_data"
    },
    {
     "name": "stdout",
     "output_type": "stream",
     "text": [
      "loss:18.847581331060834\t accuracy:0.057682555780933065\n"
     ]
    }
   ],
   "source": [
    "from sklearn.naive_bayes import GaussianNB\n",
    "\n",
    "gnb = GaussianNB()\n",
    "\n",
    "for train_index, validate_index in group_kfold.split(X, y, groups):\n",
    "    X_train, X_validate = X[train_index], X[validate_index]\n",
    "    y_train, y_validate = y[train_index], y[validate_index]\n",
    "\n",
    "    # loss and accuracy\n",
    "    loss = []\n",
    "    acc = []\n",
    "    \n",
    "    gnb.fit(X_train, y_train)\n",
    "\n",
    "    proba_train = gnb.predict_proba(X_train)\n",
    "    proba_val = gnb.predict_proba(X_validate)\n",
    "\n",
    "    loss_train = log_loss(y_train, proba_train)\n",
    "    loss_val = log_loss(y_validate, proba_val)\n",
    "    loss.append(loss_val)\n",
    "\n",
    "    acc_train = accuracy_score(y_train, gnb.predict(X_train))\n",
    "    acc_val = accuracy_score(y_validate, gnb.predict(X_validate))\n",
    "    acc.append(acc_val)\n",
    "\n",
    "    print(f\"training loss:{loss_train}\\t validating loss:{loss_val}\")\n",
    "\n",
    "    print(f\"training accuracy:{acc_train}\\t validating accuracy:{acc_val}\")\n",
    "        \n",
    "    # Confusion matrix\n",
    "    print('Confusion matrix:')\n",
    "    display(confusion_matrix(y_validate, gnb.predict(X_validate)))\n",
    "\n",
    "print(f\"loss:{np.mean(loss)}\\t accuracy:{np.mean(acc)}\")"
   ]
  },
  {
   "cell_type": "markdown",
   "id": "7ce23653",
   "metadata": {},
   "source": [
    "### Train the best model with the whole dataset"
   ]
  },
  {
   "cell_type": "code",
   "execution_count": null,
   "id": "ea0c3143",
   "metadata": {},
   "outputs": [],
   "source": [
    "from sklearn.metrics import confusion_matrix, plot_confusion_matrix\n",
    "import matplotlib.pyplot as plt\n",
    "\n",
    "best_estimator.fit(X, y)"
   ]
  }
 ],
 "metadata": {
  "kernelspec": {
   "display_name": "Python 3",
   "language": "python",
   "name": "python3"
  },
  "language_info": {
   "codemirror_mode": {
    "name": "ipython",
    "version": 3
   },
   "file_extension": ".py",
   "mimetype": "text/x-python",
   "name": "python",
   "nbconvert_exporter": "python",
   "pygments_lexer": "ipython3",
   "version": "3.8.8"
  }
 },
 "nbformat": 4,
 "nbformat_minor": 5
}
