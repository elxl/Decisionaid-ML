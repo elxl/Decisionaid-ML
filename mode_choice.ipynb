{
 "cells": [
  {
   "cell_type": "code",
   "execution_count": 1,
   "id": "ee701bc5",
   "metadata": {},
   "outputs": [],
   "source": [
    "import pandas as pd\n",
    "import numpy as np\n",
    "from sklearn.preprocessing import OneHotEncoder, normalize"
   ]
  },
  {
   "cell_type": "code",
   "execution_count": 2,
   "id": "0d2d23e8",
   "metadata": {},
   "outputs": [],
   "source": [
    "df_test = pd.read_csv('data/xgboost_distance_regression_merged_test')"
   ]
  },
  {
   "cell_type": "code",
   "execution_count": 3,
   "id": "10215b97",
   "metadata": {},
   "outputs": [],
   "source": [
    "df_train = pd.read_csv('data/data_processed.csv')"
   ]
  },
  {
   "cell_type": "markdown",
   "id": "24710348",
   "metadata": {},
   "source": [
    "## Select feature and encoding"
   ]
  },
  {
   "cell_type": "markdown",
   "id": "b6fdc01d",
   "metadata": {},
   "source": [
    "Choice of features are chosen based on correlation and our understanding of the problem"
   ]
  },
  {
   "cell_type": "code",
   "execution_count": 4,
   "id": "c1b96401",
   "metadata": {},
   "outputs": [],
   "source": [
    "# covert categorial features into one-hot encoding\n",
    "selected_features = [\n",
    "     'travel_date_dow',\n",
    "     'o_purpose_category',\n",
    "     'd_purpose_category',\n",
    "#      'num_non_hh_travelers',\n",
    "     'num_hh_travelers',\n",
    "     'num_travelers',\n",
    "#      'o_location_type',\n",
    "#      'd_location_type',\n",
    "     'o_congestion',\n",
    "     'd_congestion',\n",
    "#      'age',\n",
    "#      'employment',\n",
    "#      'student',\n",
    "     'license',\n",
    "#      'planning_apps',\n",
    "     'industry',\n",
    "#      'gender',\n",
    "#      'education',\n",
    "#      'survey_language',\n",
    "     'num_bicycles',\n",
    "     'num_vehicles',\n",
    "     'res_type',\n",
    "#      'rent_own',\n",
    "     'income_aggregate',\n",
    "#      'num_people',\n",
    "#      'num_adults',\n",
    "#      'num_kids',\n",
    "#      'num_workers',\n",
    "#      'num_students',\n",
    "#      'disability',\n",
    "     'trip_distance',\n",
    "#      'trip_distance_category',\n",
    "]\n",
    "\n",
    "df_selected = df_train[selected_features]\n",
    "df_test_selected = df_test[selected_features]\n",
    "#df_selected.loc[:,'trip_distance_category'] = df_selected['trip_distance_category'].replace({\"short\":0, \"medium\":1, \"long\":2})\n",
    "\n",
    "categorial_columns = ['travel_date_dow',\n",
    "       'o_purpose_category', 'd_purpose_category', 'o_location_type',\n",
    "       'd_location_type', 'age', 'employment', 'license', 'planning_apps', 'industry', 'gender'\n",
    "                    , 'survey_language',\n",
    "       'res_type', 'rent_own',  'disability']\n",
    "\n",
    "onehot = pd.get_dummies(pd.concat([df_selected, df_test_selected],axis=0), columns=[x for x in categorial_columns if x in selected_features])\n",
    "onehot_train = onehot.iloc[:len(df_selected),:]\n",
    "onehot_test = onehot.iloc[len(df_selected):,:]"
   ]
  },
  {
   "cell_type": "code",
   "execution_count": 5,
   "id": "69e77e8e",
   "metadata": {},
   "outputs": [],
   "source": [
    "classes = np.array(['drive', 'passenger', 'bus', 'subway', 'bike', 'walk', 'other'])\n",
    "\n",
    "\n",
    "# Transfer string\n",
    "str_to_val = {\n",
    "    'drive': 0,\n",
    "    'passenger': 1,\n",
    "    'bus': 2,\n",
    "    'subway': 3,\n",
    "    'bike': 4,\n",
    "    'walk': 5,\n",
    "    'other': 6,\n",
    "}\n",
    "\n",
    "y = df_train['mode'].replace(str_to_val).to_numpy()\n",
    "X = onehot_train.to_numpy()\n",
    "\n",
    "X_test = onehot_test.to_numpy()"
   ]
  },
  {
   "cell_type": "markdown",
   "id": "faa3d4bf",
   "metadata": {},
   "source": [
    "## Model selection"
   ]
  },
  {
   "cell_type": "code",
   "execution_count": 10,
   "id": "55e97d09",
   "metadata": {},
   "outputs": [],
   "source": [
    "# train-validation split\n",
    "from sklearn.model_selection import GroupKFold\n",
    "from sklearn.model_selection import RandomizedSearchCV\n",
    "from scipy.stats import uniform\n",
    "from scipy.stats import randint\n",
    "\n",
    "from sklearn.metrics import log_loss\n",
    "from sklearn.metrics import log_loss,confusion_matrix, accuracy_score\n",
    "from sklearn.metrics import confusion_matrix\n",
    "\n",
    "from scipy.stats import uniform\n",
    "from scipy.stats import randint\n",
    "\n",
    "groups = df_train['person_id']\n",
    "group_kfold = GroupKFold(n_splits=5)"
   ]
  },
  {
   "cell_type": "markdown",
   "id": "f9f343a2",
   "metadata": {},
   "source": [
    "## XGboost"
   ]
  },
  {
   "cell_type": "markdown",
   "id": "540d5bf0",
   "metadata": {},
   "source": [
    "The range of parameters tried is partially taken from [this link](https://kevinvecmanis.io/machine%20learning/hyperparameter%20tuning/dataviz/python/2019/05/11/XGBoost-Tuning-Visual-Guide.html)"
   ]
  },
  {
   "cell_type": "markdown",
   "id": "d44ca5cb",
   "metadata": {},
   "source": [
    "### hyperparameters search"
   ]
  },
  {
   "cell_type": "code",
   "execution_count": 6,
   "id": "fe956e50",
   "metadata": {},
   "outputs": [],
   "source": [
    "import xgboost as xgb\n",
    "\n",
    "xgbo = xgb.XGBClassifier(n_jobs=-1, random_state=42, objective=\"multi:softprob\", eval_metric=\"mlogloss\", use_label_encoder=False)\n",
    "distributions = {'n_estimators': np.arange(10,50,10), \n",
    "                 'max_depth': np.arange(5,20,1),\n",
    "                 'learning_rate': np.arange(0.0005,0.3,0.0005)}\n",
    "\n",
    "lr_xgbo = RandomizedSearchCV(xgbo, distributions, random_state=0, scoring = \"neg_log_loss\", n_iter = 10, cv=group_kfold)\n",
    "\n",
    "search_xgbo = lr_xgbo.fit(X, y, groups = groups)"
   ]
  },
  {
   "cell_type": "markdown",
   "id": "4321f5b3",
   "metadata": {},
   "source": [
    "### performance"
   ]
  },
  {
   "cell_type": "code",
   "execution_count": 7,
   "id": "3e6f3dd6",
   "metadata": {},
   "outputs": [],
   "source": [
    "best_estimator = search_xgbo.best_estimator_\n",
    "best_score = search_xgbo.best_score_\n",
    "best_param = search_xgbo.best_params_"
   ]
  },
  {
   "cell_type": "markdown",
   "id": "09420384",
   "metadata": {},
   "source": [
    "Define performance evaluation function for later use"
   ]
  },
  {
   "cell_type": "code",
   "execution_count": 8,
   "id": "c97f200c",
   "metadata": {},
   "outputs": [],
   "source": [
    "def classifier_performance(best_estimator, X, y):\n",
    "    for train_index, validate_index in group_kfold.split(X, y, groups):\n",
    "        X_train, X_validate = X[train_index], X[validate_index]\n",
    "        y_train, y_validate = y[train_index], y[validate_index]\n",
    "        \n",
    "        # loss and accuracy\n",
    "        loss = []\n",
    "        acc = []\n",
    "\n",
    "        best_estimator.fit(X_train, y_train)\n",
    "        \n",
    "        proba_train = best_estimator.predict_proba(X_train)\n",
    "        proba_val = best_estimator.predict_proba(X_validate)\n",
    "        \n",
    "        loss_train = log_loss(y_train, proba_train)\n",
    "        loss_val = log_loss(y_validate, proba_val)\n",
    "        loss.append(loss_val)\n",
    "        \n",
    "        acc_train = accuracy_score(y_train, best_estimator.predict(X_train))\n",
    "        acc_val = accuracy_score(y_validate, best_estimator.predict(X_validate))\n",
    "        acc.append(acc_val)\n",
    "        \n",
    "        print(f\"training loss:{loss_train}\\t validating loss:{loss_val}\")\n",
    "\n",
    "        print(f\"training accuracy:{acc_train}\\t validating accuracy:{acc_val}\")\n",
    "        \n",
    "        # Confusion matrix\n",
    "        print('Confusion matrix:')\n",
    "        display(confusion_matrix(y_validate, best_estimator.predict(X_validate)))\n",
    "    \n",
    "    print(f\"loss:{np.mean(loss)}\\t accuracy:{np.mean(acc)}\")"
   ]
  },
  {
   "cell_type": "code",
   "execution_count": 9,
   "id": "9a9a890e",
   "metadata": {},
   "outputs": [
    {
     "data": {
      "text/plain": [
       "{'n_estimators': 40, 'max_depth': 5, 'learning_rate': 0.1775}"
      ]
     },
     "execution_count": 9,
     "metadata": {},
     "output_type": "execute_result"
    }
   ],
   "source": [
    "best_param"
   ]
  },
  {
   "cell_type": "code",
   "execution_count": 11,
   "id": "90a6783f",
   "metadata": {},
   "outputs": [
    {
     "name": "stdout",
     "output_type": "stream",
     "text": [
      "training loss:0.7738068046769907\t validating loss:0.878634037049283\n",
      "training accuracy:0.7241958485184599\t validating accuracy:0.6780327037647357\n",
      "Confusion matrix:\n"
     ]
    },
    {
     "data": {
      "text/plain": [
       "array([[1903,   24,    8,  106,    1,  356,    1],\n",
       "       [ 498,  117,    1,   16,    0,  105,    1],\n",
       "       [  56,   22,   36,  157,    2,  157,    0],\n",
       "       [ 129,   50,   40,  595,    0,  167,    1],\n",
       "       [  13,    8,    0,   67,    1,   39,    0],\n",
       "       [ 218,   28,   18,  103,    3, 2695,    1],\n",
       "       [  27,   22,    5,   37,    1,   52,    2]], dtype=int64)"
      ]
     },
     "metadata": {},
     "output_type": "display_data"
    },
    {
     "name": "stdout",
     "output_type": "stream",
     "text": [
      "training loss:0.7702628275667303\t validating loss:0.909441603161371\n",
      "training accuracy:0.7239106322294406\t validating accuracy:0.6866523006718215\n",
      "Confusion matrix:\n"
     ]
    },
    {
     "data": {
      "text/plain": [
       "array([[1672,   76,    5,   92,    0,  256,   62],\n",
       "       [ 253,  168,    5,   15,    0,   70,    2],\n",
       "       [  73,   33,   33,  132,    1,  175,    1],\n",
       "       [ 113,   60,   35,  644,    3,  190,    0],\n",
       "       [  19,    5,    1,   53,    8,   62,    0],\n",
       "       [ 303,   41,   18,   86,    0, 2887,    0],\n",
       "       [ 117,   30,    3,   37,    1,   44,    5]], dtype=int64)"
      ]
     },
     "metadata": {},
     "output_type": "display_data"
    },
    {
     "name": "stdout",
     "output_type": "stream",
     "text": [
      "training loss:0.765197689219013\t validating loss:0.8931613523970653\n",
      "training accuracy:0.7252099508794169\t validating accuracy:0.6923564456838636\n",
      "Confusion matrix:\n"
     ]
    },
    {
     "data": {
      "text/plain": [
       "array([[1857,   62,    3,  108,    5,  378,   11],\n",
       "       [ 263,  192,    7,   20,    5,  122,    0],\n",
       "       [  75,   34,   34,  173,    3,  170,    0],\n",
       "       [ 121,   49,   29,  630,    5,  177,    0],\n",
       "       [  14,    1,    0,    8,    4,   50,    0],\n",
       "       [ 213,   27,   17,   99,    2, 2744,    1],\n",
       "       [  51,   25,    3,   60,    0,   36,    1]], dtype=int64)"
      ]
     },
     "metadata": {},
     "output_type": "display_data"
    },
    {
     "name": "stdout",
     "output_type": "stream",
     "text": [
      "training loss:0.7475979090115311\t validating loss:1.0108504049385048\n",
      "training accuracy:0.7343051814292505\t validating accuracy:0.6591456458359741\n",
      "Confusion matrix:\n"
     ]
    },
    {
     "data": {
      "text/plain": [
       "array([[1691,   99,    8,  108,    2,  383,    6],\n",
       "       [ 225,  194,    7,   23,    1,   90,    0],\n",
       "       [  89,   34,   62,  168,    0,  163,    5],\n",
       "       [ 138,   36,   41,  608,    3,  208,    4],\n",
       "       [  38,    2,    3,   54,    3,  118,    0],\n",
       "       [ 216,   45,   24,  103,    0, 2641,    2],\n",
       "       [  89,   22,    1,   61,    0,   70,    1]], dtype=int64)"
      ]
     },
     "metadata": {},
     "output_type": "display_data"
    },
    {
     "name": "stdout",
     "output_type": "stream",
     "text": [
      "training loss:0.7660555516687558\t validating loss:0.9164678141385937\n",
      "training accuracy:0.7266763848396501\t validating accuracy:0.681921906693712\n",
      "Confusion matrix:\n"
     ]
    },
    {
     "data": {
      "text/plain": [
       "array([[1863,   77,    7,  146,    1,  290,    2],\n",
       "       [ 292,  197,    3,   12,    0,  100,    3],\n",
       "       [  63,   31,   44,  133,    0,  177,    0],\n",
       "       [ 170,   50,   37,  531,    6,  155,    2],\n",
       "       [  22,    9,    0,   49,   13,   38,    0],\n",
       "       [ 277,   34,   16,   95,    9, 2731,    2],\n",
       "       [  59,   19,    4,   31,    0,   88,    0]], dtype=int64)"
      ]
     },
     "metadata": {},
     "output_type": "display_data"
    },
    {
     "name": "stdout",
     "output_type": "stream",
     "text": [
      "loss:0.9164678141385937\t accuracy:0.681921906693712\n"
     ]
    }
   ],
   "source": [
    "import xgboost as xgb\n",
    "\n",
    "best_param = {'n_estimators': 40, 'max_depth': 5, 'learning_rate': 0.1775}\n",
    "best_estimator = xgb.XGBClassifier(n_jobs=-1, random_state=42, objective=\"multi:softprob\", eval_metric=\"mlogloss\", use_label_encoder=False, **best_param)\n",
    "classifier_performance(best_estimator, X, y)"
   ]
  },
  {
   "cell_type": "markdown",
   "id": "c27473ed",
   "metadata": {},
   "source": [
    "## Random forest"
   ]
  },
  {
   "cell_type": "markdown",
   "id": "41a7316c",
   "metadata": {},
   "source": [
    "### hyperparameters search"
   ]
  },
  {
   "cell_type": "code",
   "execution_count": 25,
   "id": "260cfdde",
   "metadata": {},
   "outputs": [],
   "source": [
    "from sklearn.ensemble import RandomForestClassifier\n",
    "\n",
    "rf = RandomForestClassifier(random_state=42)\n",
    "\n",
    "distributions = {\"n_estimators\": randint(low=10,high=100),\n",
    "                 \"criterion\": [\"gini\", \"entropy\"],\n",
    "                \"max_depth\": randint(low=10,high=20),\n",
    "                \"min_samples_leaf\": randint(low=5,high=100)}\n",
    "\n",
    "\n",
    "lr_rf = RandomizedSearchCV(rf, distributions, random_state=0, scoring = \"neg_log_loss\", n_iter = 10, cv=group_kfold)\n",
    "\n",
    "search_rf = lr_rf.fit(X, y, groups = groups)"
   ]
  },
  {
   "cell_type": "markdown",
   "id": "8abfbd32",
   "metadata": {},
   "source": [
    "### performance"
   ]
  },
  {
   "cell_type": "code",
   "execution_count": 12,
   "id": "06beb440",
   "metadata": {},
   "outputs": [],
   "source": [
    "best_estimator = search_rf.best_estimator_\n",
    "best_score = search_rf.best_score_\n",
    "best_param = search_rf.best_params_"
   ]
  },
  {
   "cell_type": "code",
   "execution_count": 13,
   "id": "4a841499",
   "metadata": {},
   "outputs": [
    {
     "data": {
      "text/plain": [
       "{'criterion': 'entropy',\n",
       " 'max_depth': 18,\n",
       " 'min_samples_leaf': 14,\n",
       " 'n_estimators': 30}"
      ]
     },
     "execution_count": 13,
     "metadata": {},
     "output_type": "execute_result"
    }
   ],
   "source": [
    "best_param"
   ]
  },
  {
   "cell_type": "code",
   "execution_count": 81,
   "id": "48c35cb2",
   "metadata": {},
   "outputs": [
    {
     "name": "stdout",
     "output_type": "stream",
     "text": [
      "training loss:0.8005732503523793\t validating loss:0.9247948698210914\n",
      "training accuracy:0.7189035018222152\t validating accuracy:0.6791735327671441\n",
      "Confusion matrix:\n"
     ]
    },
    {
     "data": {
      "text/plain": [
       "array([[1913,    9,    2,  103,    0,  372,    0],\n",
       "       [ 502,   96,    0,   19,    0,  121,    0],\n",
       "       [  77,   21,    5,  160,    0,  167,    0],\n",
       "       [ 144,   39,    5,  615,    0,  179,    0],\n",
       "       [  12,    7,    0,   70,    0,   39,    0],\n",
       "       [ 234,   18,    1,   84,    0, 2729,    0],\n",
       "       [  33,   17,    0,   43,    0,   53,    0]], dtype=int64)"
      ]
     },
     "metadata": {},
     "output_type": "display_data"
    },
    {
     "name": "stdout",
     "output_type": "stream",
     "text": [
      "training loss:0.7935573251068186\t validating loss:0.9388636086035871\n",
      "training accuracy:0.7186499762319759\t validating accuracy:0.6928634807960451\n",
      "Confusion matrix:\n"
     ]
    },
    {
     "data": {
      "text/plain": [
       "array([[1761,   45,    0,   82,    0,  272,    3],\n",
       "       [ 264,  139,    0,   16,    0,   94,    0],\n",
       "       [  79,   28,    6,  141,    0,  194,    0],\n",
       "       [ 115,   59,    3,  657,    0,  211,    0],\n",
       "       [  23,    6,    0,   55,    0,   64,    0],\n",
       "       [ 322,   24,    0,   85,    0, 2903,    1],\n",
       "       [ 136,   15,    0,   44,    0,   42,    0]], dtype=int64)"
      ]
     },
     "metadata": {},
     "output_type": "display_data"
    },
    {
     "name": "stdout",
     "output_type": "stream",
     "text": [
      "training loss:0.794330642066712\t validating loss:0.9382094653129953\n",
      "training accuracy:0.7244176834099192\t validating accuracy:0.691469134237546\n",
      "Confusion matrix:\n"
     ]
    },
    {
     "data": {
      "text/plain": [
       "array([[1893,   35,    0,  107,    0,  386,    3],\n",
       "       [ 277,  168,    0,   23,    0,  141,    0],\n",
       "       [  70,   29,    2,  190,    0,  198,    0],\n",
       "       [ 129,   33,    0,  636,    1,  212,    0],\n",
       "       [  13,    1,    0,   12,    0,   51,    0],\n",
       "       [ 232,   16,    1,   98,    0, 2756,    0],\n",
       "       [  53,   18,    0,   64,    0,   41,    0]], dtype=int64)"
      ]
     },
     "metadata": {},
     "output_type": "display_data"
    },
    {
     "name": "stdout",
     "output_type": "stream",
     "text": [
      "training loss:0.7764196203219393\t validating loss:1.0478734028369634\n",
      "training accuracy:0.7248930438916178\t validating accuracy:0.6595259221701103\n",
      "Confusion matrix:\n"
     ]
    },
    {
     "data": {
      "text/plain": [
       "array([[1728,   52,    3,  104,    0,  410,    0],\n",
       "       [ 239,  180,    0,   23,    0,   98,    0],\n",
       "       [  88,   32,    0,  212,    0,  189,    0],\n",
       "       [ 149,   33,    0,  626,    0,  230,    0],\n",
       "       [  47,    0,    0,   49,    0,  122,    0],\n",
       "       [ 230,   37,    0,   95,    0, 2669,    0],\n",
       "       [  87,   19,    1,   59,    0,   78,    0]], dtype=int64)"
      ]
     },
     "metadata": {},
     "output_type": "display_data"
    },
    {
     "name": "stdout",
     "output_type": "stream",
     "text": [
      "training loss:0.7967294558884229\t validating loss:0.9691317024858053\n",
      "training accuracy:0.7211623779946761\t validating accuracy:0.6828093306288032\n",
      "Confusion matrix:\n"
     ]
    },
    {
     "data": {
      "text/plain": [
       "array([[1908,   34,    3,  123,    0,  318,    0],\n",
       "       [ 315,  143,    0,    9,    0,  140,    0],\n",
       "       [  70,   21,    4,  139,    0,  214,    0],\n",
       "       [ 172,   34,    0,  563,    0,  182,    0],\n",
       "       [  25,    7,    0,   48,    3,   48,    0],\n",
       "       [ 289,   20,    0,   86,    4, 2765,    0],\n",
       "       [  64,    9,    0,   34,    0,   94,    0]], dtype=int64)"
      ]
     },
     "metadata": {},
     "output_type": "display_data"
    },
    {
     "name": "stdout",
     "output_type": "stream",
     "text": [
      "loss:0.9691317024858053\t accuracy:0.6828093306288032\n"
     ]
    }
   ],
   "source": [
    "best_param = {'criterion': 'entropy',\n",
    " 'max_depth': 18,\n",
    " 'min_samples_leaf': 14,\n",
    " 'n_estimators': 30}\n",
    "best_estimator = RandomForestClassifier(random_state=42, **best_param)\n",
    "classifier_performance(best_estimator, X, y)"
   ]
  },
  {
   "cell_type": "markdown",
   "id": "40063503",
   "metadata": {},
   "source": [
    "## Naive bayes"
   ]
  },
  {
   "cell_type": "markdown",
   "id": "37550382",
   "metadata": {},
   "source": [
    "Naive bayes has no parameters to tune, so we just try it with cross validation"
   ]
  },
  {
   "cell_type": "markdown",
   "id": "405137a6",
   "metadata": {},
   "source": [
    "### Cross validation"
   ]
  },
  {
   "cell_type": "code",
   "execution_count": 34,
   "id": "4e8164c0",
   "metadata": {},
   "outputs": [
    {
     "name": "stdout",
     "output_type": "stream",
     "text": [
      "training loss:9.660625358034274\t validating loss:10.117222675862747\n",
      "training accuracy:0.17055934083346538\t validating accuracy:0.15781467866649765\n",
      "Confusion matrix:\n"
     ]
    },
    {
     "data": {
      "text/plain": [
       "array([[ 527,   42,    4,   23, 1132,   26,  645],\n",
       "       [ 154,   37,    4,   14,  324,   19,  186],\n",
       "       [  24,    5,   40,   48,  208,   16,   89],\n",
       "       [  13,    8,   36,  211,  524,   30,  160],\n",
       "       [   0,    0,    0,    9,  108,    7,    4],\n",
       "       [ 145,   42,   89,  192, 1944,  268,  386],\n",
       "       [  15,    6,    1,   12,   54,    4,   54]], dtype=int64)"
      ]
     },
     "metadata": {},
     "output_type": "display_data"
    },
    {
     "name": "stdout",
     "output_type": "stream",
     "text": [
      "training loss:12.918177933585676\t validating loss:13.382202406166483\n",
      "training accuracy:0.12913959752812548\t validating accuracy:0.12663201926733425\n",
      "Confusion matrix:\n"
     ]
    },
    {
     "data": {
      "text/plain": [
       "array([[  97,  321,   43,   32, 1052,   51,  567],\n",
       "       [   7,  174,   12,   11,  232,   12,   65],\n",
       "       [   4,   28,   48,   51,  213,   16,   88],\n",
       "       [   4,   31,   52,  169,  561,   31,  197],\n",
       "       [   2,    5,    1,    5,  108,   10,   17],\n",
       "       [  12,  227,   98,  203, 2097,  249,  449],\n",
       "       [   3,    7,    3,   13,   53,    4,  154]], dtype=int64)"
      ]
     },
     "metadata": {},
     "output_type": "display_data"
    },
    {
     "name": "stdout",
     "output_type": "stream",
     "text": [
      "training loss:10.017706600449246\t validating loss:11.093700743446883\n",
      "training accuracy:0.16884804309935034\t validating accuracy:0.13144885283305868\n",
      "Confusion matrix:\n"
     ]
    },
    {
     "data": {
      "text/plain": [
       "array([[ 343,  114,   23,   54, 1181,   88,  621],\n",
       "       [  62,   46,   19,   12,  317,   23,  130],\n",
       "       [   3,    8,   71,   64,  224,   24,   95],\n",
       "       [   7,    3,   91,  178,  551,   37,  144],\n",
       "       [   3,    0,    0,    3,   59,    6,    6],\n",
       "       [  85,   56,  153,  202, 1972,  280,  355],\n",
       "       [   7,    8,    6,   14,   77,    4,   60]], dtype=int64)"
      ]
     },
     "metadata": {},
     "output_type": "display_data"
    },
    {
     "name": "stdout",
     "output_type": "stream",
     "text": [
      "training loss:12.065742239223294\t validating loss:13.062874120110456\n",
      "training accuracy:0.13170654412929805\t validating accuracy:0.13525161617442008\n",
      "Confusion matrix:\n"
     ]
    },
    {
     "data": {
      "text/plain": [
       "array([[ 276,  325,   29,   55, 1354,   86,  172],\n",
       "       [  53,  129,    8,   13,  259,   11,   67],\n",
       "       [  16,   10,   61,   43,  272,    8,  111],\n",
       "       [  14,   13,   69,  176,  624,   33,  109],\n",
       "       [   7,   13,    8,   10,  164,    5,   11],\n",
       "       [  50,  182,  110,  165, 2147,  181,  196],\n",
       "       [   4,    9,   14,    7,  129,    1,   80]], dtype=int64)"
      ]
     },
     "metadata": {},
     "output_type": "display_data"
    },
    {
     "name": "stdout",
     "output_type": "stream",
     "text": [
      "training loss:10.554333319913015\t validating loss:10.499130838152825\n",
      "training accuracy:0.14044872607428063\t validating accuracy:0.12677484787018256\n",
      "Confusion matrix:\n"
     ]
    },
    {
     "data": {
      "text/plain": [
       "array([[ 287,   96,  302,   39,  897,   80,  685],\n",
       "       [  27,   67,   78,    9,  231,   35,  160],\n",
       "       [   7,   12,  154,   17,  170,   24,   64],\n",
       "       [   5,    4,  236,  135,  370,   14,  187],\n",
       "       [   0,    0,    6,   16,   76,    2,   31],\n",
       "       [  42,   36,  422,  166, 1804,  212,  482],\n",
       "       [   4,    3,   25,    7,   89,    4,   69]], dtype=int64)"
      ]
     },
     "metadata": {},
     "output_type": "display_data"
    },
    {
     "name": "stdout",
     "output_type": "stream",
     "text": [
      "loss:10.499130838152825\t accuracy:0.12677484787018256\n"
     ]
    }
   ],
   "source": [
    "from sklearn.naive_bayes import GaussianNB\n",
    "\n",
    "gnb = GaussianNB()\n",
    "\n",
    "classifier_performance(gnb, X, y)"
   ]
  },
  {
   "cell_type": "markdown",
   "id": "399651fe",
   "metadata": {},
   "source": [
    "## Neural network"
   ]
  },
  {
   "cell_type": "markdown",
   "id": "442d0236",
   "metadata": {},
   "source": [
    "We don't use cross validation for neural network"
   ]
  },
  {
   "cell_type": "code",
   "execution_count": 35,
   "id": "e79a12f3",
   "metadata": {},
   "outputs": [],
   "source": [
    "from sklearn.neural_network import MLPClassifier\n",
    "from sklearn.model_selection import GridSearchCV\n",
    "from sklearn.model_selection import GroupShuffleSplit\n",
    "\n",
    "# train-validation split\n",
    "\n",
    "gss = GroupShuffleSplit(n_splits=2, train_size=.75, random_state=42)\n",
    "for train_idx, test_idx in gss.split(X, y, groups):\n",
    "    X_train, X_validate = X[train_idx,:], X[test_idx,:]\n",
    "    y_train, y_validate = y[train_idx], y[test_idx]\n",
    "\n",
    "parameters = {'learning_rate_init':np.arange(1e-4, 1e-2, 1e-3),\n",
    "              'alpha': np.arange(1e-5,1e-3,1e-4),\n",
    "              'learning_rate':['constant', 'invscaling', 'adaptive']}\n",
    "\n",
    "ann = MLPClassifier(hidden_layer_sizes=(25,), activation = 'relu', solver = 'adam', max_iter=500, random_state=42)\n",
    "\n",
    "lr_ann = RandomizedSearchCV(ann, parameters, random_state=0,  scoring = \"neg_log_loss\", n_iter = 5)\n",
    "search_ann = lr_ann.fit(X_train, y_train)"
   ]
  },
  {
   "cell_type": "code",
   "execution_count": 37,
   "id": "953eab0b",
   "metadata": {},
   "outputs": [],
   "source": [
    "best_estimator = search_ann.best_estimator_\n",
    "best_score = search_ann.best_score_\n",
    "best_param = search_ann.best_params_"
   ]
  },
  {
   "cell_type": "code",
   "execution_count": 38,
   "id": "e754001b",
   "metadata": {},
   "outputs": [
    {
     "data": {
      "text/plain": [
       "{'learning_rate_init': 0.0011, 'learning_rate': 'invscaling', 'alpha': 0.00071}"
      ]
     },
     "execution_count": 38,
     "metadata": {},
     "output_type": "execute_result"
    }
   ],
   "source": [
    "best_param"
   ]
  },
  {
   "cell_type": "code",
   "execution_count": 76,
   "id": "0057e3e1",
   "metadata": {},
   "outputs": [
    {
     "name": "stdout",
     "output_type": "stream",
     "text": [
      "training loss:0.7768802163017411\t validating loss:1.0472762670038298\n",
      "training accuracy:0.7273501942872724\t validating accuracy:0.6436770235503662\n",
      "Confusion matrix:\n"
     ]
    },
    {
     "data": {
      "text/plain": [
       "array([[1970,  197,   20,  128,    4,  381,   27],\n",
       "       [ 389,  246,   15,   46,    0,  118,    2],\n",
       "       [  83,   42,   61,  179,    2,  239,    4],\n",
       "       [ 220,   54,   52,  730,   24,  231,   14],\n",
       "       [  22,   11,    4,   47,   20,  106,    0],\n",
       "       [ 411,   53,   37,  115,   16, 3472,    7],\n",
       "       [ 131,   22,    8,   57,    0,   83,    6]], dtype=int64)"
      ]
     },
     "metadata": {},
     "output_type": "display_data"
    }
   ],
   "source": [
    "proba_train = best_estimator.predict_proba(X_train)\n",
    "proba_val = best_estimator.predict_proba(X_validate)\n",
    "\n",
    "loss_train = log_loss(y_train, proba_train)\n",
    "loss_val = log_loss(y_validate, proba_val)\n",
    "\n",
    "acc_train = accuracy_score(y_train, best_estimator.predict(X_train))\n",
    "acc_val = accuracy_score(y_validate, best_estimator.predict(X_validate))\n",
    "\n",
    "print(f\"training loss:{loss_train}\\t validating loss:{loss_val}\")\n",
    "\n",
    "print(f\"training accuracy:{acc_train}\\t validating accuracy:{acc_val}\")\n",
    "\n",
    "# Confusion matrix\n",
    "print('Confusion matrix:')\n",
    "display(confusion_matrix(y_validate, best_estimator.predict(X_validate)))"
   ]
  },
  {
   "cell_type": "markdown",
   "id": "7ce23653",
   "metadata": {},
   "source": [
    "### Train the best model with the whole dataset"
   ]
  },
  {
   "cell_type": "code",
   "execution_count": 12,
   "id": "ea0c3143",
   "metadata": {},
   "outputs": [
    {
     "data": {
      "text/plain": [
       "XGBClassifier(base_score=0.5, booster='gbtree', colsample_bylevel=1,\n",
       "              colsample_bynode=1, colsample_bytree=1, enable_categorical=False,\n",
       "              eval_metric='mlogloss', gamma=0, gpu_id=-1, importance_type=None,\n",
       "              interaction_constraints='', learning_rate=0.1775,\n",
       "              max_delta_step=0, max_depth=5, min_child_weight=1, missing=nan,\n",
       "              monotone_constraints='()', n_estimators=40, n_jobs=-1,\n",
       "              num_parallel_tree=1, objective='multi:softprob', predictor='auto',\n",
       "              random_state=42, reg_alpha=0, reg_lambda=1, scale_pos_weight=None,\n",
       "              subsample=1, tree_method='exact', use_label_encoder=False,\n",
       "              validate_parameters=1, ...)"
      ]
     },
     "execution_count": 12,
     "metadata": {},
     "output_type": "execute_result"
    }
   ],
   "source": [
    "best_param = {'n_estimators': 40, 'max_depth': 5, 'learning_rate': 0.1775}\n",
    "best_estimator = xgb.XGBClassifier(n_jobs=-1, random_state=42, objective=\"multi:softprob\", eval_metric=\"mlogloss\", use_label_encoder=False, **best_param)\n",
    "best_estimator.fit(X, y)"
   ]
  },
  {
   "cell_type": "code",
   "execution_count": 13,
   "id": "281818c2",
   "metadata": {},
   "outputs": [],
   "source": [
    "proba = best_estimator.predict_proba(X_test)"
   ]
  },
  {
   "cell_type": "code",
   "execution_count": 14,
   "id": "d815367f",
   "metadata": {},
   "outputs": [],
   "source": [
    "result = pd.DataFrame({'id':df_test['id'].values, 'drive':proba[:,0], 'passenger':proba[:,1], 'bus':proba[:,2],'subway':proba[:,3],\\\n",
    "                      'bike':proba[:,4],'walk':proba[:,5],'other':proba[:,1],})\n",
    "result.to_csv('xgboost_xgboost_test.csv',index=False)"
   ]
  },
  {
   "cell_type": "code",
   "execution_count": null,
   "id": "a04b5b60",
   "metadata": {},
   "outputs": [],
   "source": []
  }
 ],
 "metadata": {
  "kernelspec": {
   "display_name": "Python 3",
   "language": "python",
   "name": "python3"
  },
  "language_info": {
   "codemirror_mode": {
    "name": "ipython",
    "version": 3
   },
   "file_extension": ".py",
   "mimetype": "text/x-python",
   "name": "python",
   "nbconvert_exporter": "python",
   "pygments_lexer": "ipython3",
   "version": "3.8.8"
  }
 },
 "nbformat": 4,
 "nbformat_minor": 5
}
