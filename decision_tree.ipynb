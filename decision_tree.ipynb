{
 "cells": [
  {
   "cell_type": "code",
   "execution_count": 1,
   "id": "2390ef44",
   "metadata": {},
   "outputs": [],
   "source": [
    "from sklearn import tree\n",
    "import pandas as pd\n",
    "import numpy as np"
   ]
  },
  {
   "cell_type": "code",
   "execution_count": 2,
   "id": "f8481a5d",
   "metadata": {},
   "outputs": [],
   "source": [
    "df = pd.read_csv('data/data_processed.csv')"
   ]
  },
  {
   "cell_type": "markdown",
   "id": "30ee8c48",
   "metadata": {},
   "source": [
    "## Preprocess\n",
    "Convert string columns to categorial codes"
   ]
  },
  {
   "cell_type": "code",
   "execution_count": 3,
   "id": "f2420c87",
   "metadata": {},
   "outputs": [],
   "source": [
    "string_cols = ['survey_language', 'disability']\n",
    "df[string_cols] = df[string_cols].astype('category')\n",
    "df[string_cols] = df[string_cols].apply(lambda x: x.cat.codes)"
   ]
  },
  {
   "cell_type": "code",
   "execution_count": 4,
   "id": "af776e09",
   "metadata": {},
   "outputs": [],
   "source": [
    "candidate_cols = [\n",
    "     'travel_date_dow',\n",
    "     'o_purpose_category',\n",
    "     'd_purpose_category',\n",
    "     'num_non_hh_travelers',\n",
    "     'num_hh_travelers',\n",
    "     'num_travelers',\n",
    "     'o_location_type',\n",
    "     'd_location_type',\n",
    "     'o_congestion',\n",
    "     'd_congestion',\n",
    "     'age',\n",
    "     'employment',\n",
    "     'student',\n",
    "     'license',\n",
    "     'planning_apps',\n",
    "     'industry',\n",
    "     'gender',\n",
    "     'education',\n",
    "     'survey_language',\n",
    "     'num_bicycles',\n",
    "     'num_vehicles',\n",
    "     'res_type',\n",
    "     'rent_own',\n",
    "     'income_aggregate',\n",
    "     'num_people',\n",
    "     'num_adults',\n",
    "     'num_kids',\n",
    "     'num_workers',\n",
    "     'num_students',\n",
    "     'disability'\n",
    "]"
   ]
  },
  {
   "cell_type": "markdown",
   "id": "30477305",
   "metadata": {},
   "source": [
    "## Use decision tree to regress trip distance"
   ]
  },
  {
   "cell_type": "code",
   "execution_count": 5,
   "id": "f3e5fe9b",
   "metadata": {},
   "outputs": [],
   "source": [
    "X = df[candidate_cols].to_numpy()\n",
    "y = df['trip_distance'].to_numpy()\n",
    "group = df['person_id'].to_numpy()"
   ]
  },
  {
   "cell_type": "code",
   "execution_count": 6,
   "id": "b2a04f4c",
   "metadata": {},
   "outputs": [],
   "source": [
    "# Use small subset of data to see if it can overfit.\n",
    "# X = X[:10000]\n",
    "# y = y[:10000]\n",
    "# group = group[:10000]"
   ]
  },
  {
   "cell_type": "markdown",
   "id": "f3c8cbeb",
   "metadata": {},
   "source": [
    "From the output of the following cell, we can see that the result are not good. The mean square error is still "
   ]
  },
  {
   "cell_type": "code",
   "execution_count": 7,
   "id": "0646a957",
   "metadata": {},
   "outputs": [
    {
     "name": "stdout",
     "output_type": "stream",
     "text": [
      "train size: 31555, validation size: 7889\n",
      "training mse / validation mse / variance: 10.72 / 12.27 / 14.52\n",
      "training mse / validation mae / median absolute deviation:2.21 / 2.32 / 2.75\n",
      "\n",
      "train size: 31555, validation size: 7889\n",
      "training mse / validation mse / variance: 11.22 / 10.50 / 12.03\n",
      "training mse / validation mae / median absolute deviation:2.27 / 2.27 / 2.46\n",
      "\n",
      "train size: 31555, validation size: 7889\n",
      "training mse / validation mse / variance: 10.81 / 12.04 / 13.54\n",
      "training mse / validation mae / median absolute deviation:2.23 / 2.34 / 2.63\n",
      "\n",
      "train size: 31555, validation size: 7889\n",
      "training mse / validation mse / variance: 10.99 / 11.27 / 13.22\n",
      "training mse / validation mae / median absolute deviation:2.24 / 2.27 / 2.63\n",
      "\n",
      "train size: 31556, validation size: 7888\n",
      "training mse / validation mse / variance: 11.02 / 11.23 / 12.32\n",
      "training mse / validation mae / median absolute deviation:2.25 / 2.33 / 2.46\n",
      "\n"
     ]
    },
    {
     "data": {
      "text/html": [
       "<div>\n",
       "<style scoped>\n",
       "    .dataframe tbody tr th:only-of-type {\n",
       "        vertical-align: middle;\n",
       "    }\n",
       "\n",
       "    .dataframe tbody tr th {\n",
       "        vertical-align: top;\n",
       "    }\n",
       "\n",
       "    .dataframe thead th {\n",
       "        text-align: right;\n",
       "    }\n",
       "</style>\n",
       "<table border=\"1\" class=\"dataframe\">\n",
       "  <thead>\n",
       "    <tr style=\"text-align: right;\">\n",
       "      <th></th>\n",
       "      <th>training mse</th>\n",
       "      <th>validation mse</th>\n",
       "      <th>variance of ground truth</th>\n",
       "      <th>training mae</th>\n",
       "      <th>validation_mae</th>\n",
       "      <th>mean absolute deviation</th>\n",
       "    </tr>\n",
       "  </thead>\n",
       "  <tbody>\n",
       "    <tr>\n",
       "      <th>0</th>\n",
       "      <td>10.723320</td>\n",
       "      <td>12.274294</td>\n",
       "      <td>14.524555</td>\n",
       "      <td>2.209215</td>\n",
       "      <td>2.320603</td>\n",
       "      <td>2.752595</td>\n",
       "    </tr>\n",
       "    <tr>\n",
       "      <th>1</th>\n",
       "      <td>11.218908</td>\n",
       "      <td>10.497303</td>\n",
       "      <td>12.032250</td>\n",
       "      <td>2.265144</td>\n",
       "      <td>2.266236</td>\n",
       "      <td>2.458236</td>\n",
       "    </tr>\n",
       "    <tr>\n",
       "      <th>2</th>\n",
       "      <td>10.814520</td>\n",
       "      <td>12.039402</td>\n",
       "      <td>13.543735</td>\n",
       "      <td>2.225807</td>\n",
       "      <td>2.340153</td>\n",
       "      <td>2.630016</td>\n",
       "    </tr>\n",
       "    <tr>\n",
       "      <th>3</th>\n",
       "      <td>10.993547</td>\n",
       "      <td>11.271226</td>\n",
       "      <td>13.219250</td>\n",
       "      <td>2.237388</td>\n",
       "      <td>2.271622</td>\n",
       "      <td>2.631272</td>\n",
       "    </tr>\n",
       "    <tr>\n",
       "      <th>4</th>\n",
       "      <td>11.018907</td>\n",
       "      <td>11.225532</td>\n",
       "      <td>12.318988</td>\n",
       "      <td>2.254419</td>\n",
       "      <td>2.330593</td>\n",
       "      <td>2.462284</td>\n",
       "    </tr>\n",
       "  </tbody>\n",
       "</table>\n",
       "</div>"
      ],
      "text/plain": [
       "   training mse  validation mse  variance of ground truth  training mae  \\\n",
       "0     10.723320       12.274294                 14.524555      2.209215   \n",
       "1     11.218908       10.497303                 12.032250      2.265144   \n",
       "2     10.814520       12.039402                 13.543735      2.225807   \n",
       "3     10.993547       11.271226                 13.219250      2.237388   \n",
       "4     11.018907       11.225532                 12.318988      2.254419   \n",
       "\n",
       "   validation_mae  mean absolute deviation  \n",
       "0        2.320603                 2.752595  \n",
       "1        2.266236                 2.458236  \n",
       "2        2.340153                 2.630016  \n",
       "3        2.271622                 2.631272  \n",
       "4        2.330593                 2.462284  "
      ]
     },
     "execution_count": 7,
     "metadata": {},
     "output_type": "execute_result"
    }
   ],
   "source": [
    "from sklearn.model_selection import GroupKFold\n",
    "from sklearn.metrics import mean_squared_error, mean_absolute_error\n",
    "from sklearn.tree import DecisionTreeRegressor\n",
    "from numpy import mean, absolute\n",
    "\n",
    "def mad(data, axis=None):\n",
    "    return mean(absolute(data - mean(data, axis)), axis)\n",
    "\n",
    "\n",
    "k_fold = GroupKFold(n_splits=5)\n",
    "\n",
    "mse = [] # [(training_mse, validation_mse, variance)]\n",
    "mae = [] # [(training_mae, validation_mae, mean_avearge_deviation)]\n",
    "\n",
    "for train_idx, validate_idx in k_fold.split(X, y, groups=group):\n",
    "    print(f'train size: {len(train_idx)}, validation size: {len(validate_idx)}')\n",
    "    \n",
    "    # test linear regression\n",
    "    X_train, X_val = X[train_idx], X[validate_idx]\n",
    "    y_train, y_val = y[train_idx], y[validate_idx]\n",
    "    model = DecisionTreeRegressor(min_samples_leaf=250).fit(X_train, y_train)\n",
    "    \n",
    "    y_pred_train = model.predict(X_train)\n",
    "    y_pred_val = model.predict(X_val)\n",
    "    \n",
    "    print('training mse / validation mse / variance: {:.2f} / {:.2f} / {:.2f}'.format(\n",
    "        mean_squared_error(y_pred_train, y_train),\n",
    "        mean_squared_error(y_pred_val, y_val),\n",
    "        np.var(y_val)\n",
    "    ))\n",
    "    \n",
    "    mse.append([\n",
    "        mean_squared_error(y_pred_train, y_train),\n",
    "        mean_squared_error(y_pred_val, y_val),\n",
    "        np.var(y_val)\n",
    "    ])\n",
    "    \n",
    "    \n",
    "    print('training mse / validation mae / median absolute deviation:{:.2f} / {:.2f} / {:.2f}'.format(\n",
    "        mean_absolute_error(y_pred_train, y_train),\n",
    "        mean_absolute_error(y_pred_val, y_val),\n",
    "        mad(y_val)\n",
    "    ))\n",
    "    \n",
    "    mae.append([\n",
    "         mean_absolute_error(y_pred_train, y_train),\n",
    "        mean_absolute_error(y_pred_val, y_val),\n",
    "        mad(y_val)\n",
    "    ])\n",
    "    \n",
    "    print('')\n",
    "\n",
    "pd.DataFrame(np.concatenate((mse, mae), axis=1),\n",
    "             columns=['training mse', 'validation mse', 'variance of ground truth', 'training mae', 'validation_mae', 'mean absolute deviation'])"
   ]
  },
  {
   "cell_type": "markdown",
   "id": "b99ac990",
   "metadata": {},
   "source": [
    "The results are not good. It does not perform significantly better than the variance of the ground truth (note: the variance would be the mse for a model outputting the mean value for every input)"
   ]
  },
  {
   "cell_type": "code",
   "execution_count": 306,
   "id": "b43957f6",
   "metadata": {},
   "outputs": [
    {
     "data": {
      "image/png": "[encoded data removed]",
      "text/plain": [
       "<Figure size 432x288 with 1 Axes>"
      ]
     },
     "metadata": {
      "needs_background": "light"
     },
     "output_type": "display_data"
    }
   ],
   "source": [
    "import matplotlib.pyplot as plt\n",
    "\n",
    "mse_avg = np.average(np.array(mse), axis=0)\n",
    "mse_std = np.std(np.array(mse), axis=0)\n",
    "plt.xticks([0, 1, 2], ['train', 'validate', 'variance'])\n",
    "plt.errorbar([0, 1, 2], mse_avg, yerr=mse_std, linestyle='None', marker='o')\n",
    "plt.show()"
   ]
  },
  {
   "cell_type": "code",
   "execution_count": 307,
   "id": "367e0268",
   "metadata": {},
   "outputs": [
    {
     "data": {
      "image/png": "[encoded data removed]",
      "text/plain": [
       "<Figure size 432x288 with 1 Axes>"
      ]
     },
     "metadata": {
      "needs_background": "light"
     },
     "output_type": "display_data"
    }
   ],
   "source": [
    "import matplotlib.pyplot as plt\n",
    "\n",
    "mae_avg = np.average(np.array(mae), axis=0)\n",
    "mae_std = np.std(np.array(mae), axis=0)\n",
    "plt.xticks([0, 1, 2], ['train', 'validate', 'deviation'])\n",
    "plt.errorbar([0, 1, 2], mae_avg, yerr=mae_std, linestyle='None', marker='o')\n",
    "plt.show()"
   ]
  },
  {
   "cell_type": "markdown",
   "id": "40530dbf",
   "metadata": {},
   "source": [
    "### Apply decision tree classifier to classify trip length\n",
    "Let's try with a decision tree classifier."
   ]
  },
  {
   "cell_type": "code",
   "execution_count": 12,
   "id": "3a7d74b6",
   "metadata": {},
   "outputs": [],
   "source": [
    "# important_cols = ['d_congestion', 'd_purpose_category', 'num_vehicles', 'res_type', 'o_purpose_category',\n",
    "#                   'income_aggregate']\n",
    "X = df[candidate_cols].to_numpy()\n",
    "y = df['trip_distance_category'].to_numpy()\n",
    "group = df['person_id'].to_numpy()"
   ]
  },
  {
   "cell_type": "code",
   "execution_count": 21,
   "id": "7062555c",
   "metadata": {},
   "outputs": [
    {
     "name": "stdout",
     "output_type": "stream",
     "text": [
      "train size: 31555, validation size: 7889\n",
      "training/validation precision: 0.48 / 0.48\n",
      "confusion matrix\n",
      "              short-pred  medium-pred  long-pred\n",
      "short-label         0.48         0.26       0.11\n",
      "medium-label        0.33         0.43       0.28\n",
      "long-label          0.18         0.31       0.61\n",
      "\n",
      "train size: 31555, validation size: 7889\n",
      "training/validation precision: 0.48 / 0.49\n",
      "confusion matrix\n",
      "              short-pred  medium-pred  long-pred\n",
      "short-label         0.51         0.27       0.15\n",
      "medium-label        0.32         0.43       0.28\n",
      "long-label          0.17         0.30       0.57\n",
      "\n",
      "train size: 31555, validation size: 7889\n",
      "training/validation precision: 0.48 / 0.47\n",
      "confusion matrix\n",
      "              short-pred  medium-pred  long-pred\n",
      "short-label         0.49         0.31       0.16\n",
      "medium-label        0.33         0.39       0.25\n",
      "long-label          0.18         0.30       0.58\n",
      "\n",
      "train size: 31555, validation size: 7889\n",
      "training/validation precision: 0.49 / 0.45\n",
      "confusion matrix\n",
      "              short-pred  medium-pred  long-pred\n",
      "short-label         0.46         0.31       0.13\n",
      "medium-label        0.35         0.39       0.25\n",
      "long-label          0.19         0.30       0.62\n",
      "\n",
      "train size: 31556, validation size: 7888\n",
      "training/validation precision: 0.48 / 0.48\n",
      "confusion matrix\n",
      "              short-pred  medium-pred  long-pred\n",
      "short-label         0.49         0.29       0.12\n",
      "medium-label        0.34         0.43       0.31\n",
      "long-label          0.17         0.28       0.57\n",
      "\n"
     ]
    }
   ],
   "source": [
    "from sklearn.metrics import precision_score, confusion_matrix\n",
    "from sklearn.tree import DecisionTreeClassifier\n",
    "\n",
    "k_fold = GroupKFold(n_splits=5)\n",
    "\n",
    "for i, (train_idx, validate_idx) in enumerate(k_fold.split(X, y, groups=group)):\n",
    "    print(f'train size: {len(train_idx)}, validation size: {len(validate_idx)}')\n",
    "    \n",
    "    X_train, X_val = X[train_idx], X[validate_idx]\n",
    "    y_train, y_val = y[train_idx], y[validate_idx]\n",
    "    \n",
    "    model = DecisionTreeClassifier(max_depth=5).fit(X_train, y_train)\n",
    "    \n",
    "    y_pred_train = model.predict(X_train)\n",
    "    y_pred_val = model.predict(X_val)\n",
    "    \n",
    "    print('training/validation precision: {:.2f} / {:.2f}'.format(\n",
    "        precision_score(y_pred_train, y_train, average='micro'),\n",
    "        precision_score(y_pred_val, y_val, average='micro'),\n",
    "    ))\n",
    "    \n",
    "    labels = ['short', 'medium', 'long']\n",
    "    confusion = confusion_matrix(y_val, y_pred_val, labels=labels, normalize='pred')\n",
    "    confusion_df = pd.DataFrame(confusion, index=[x + '-label' for x in labels], columns=[x + '-pred' for x in labels])\n",
    "    print('confusion matrix')\n",
    "    with pd.option_context('display.float_format', '{:0.2f}'.format):\n",
    "        print(confusion_df)\n",
    "#     with np.printoptions(precision=2, suppress=True):\n",
    "#         print(confusion)\n",
    "    \n",
    "#     if i == 0:\n",
    "#         plt.figure()\n",
    "#         tree.plot_tree(model)\n",
    "#         plt.savefig('tree.eps',format='eps',bbox_inches = \"tight\")\n",
    "\n",
    "    \n",
    "    print('')\n"
   ]
  },
  {
   "cell_type": "markdown",
   "id": "2f11b320",
   "metadata": {},
   "source": [
    "### Apply decision tree to classify mode choice"
   ]
  },
  {
   "cell_type": "code",
   "execution_count": 22,
   "id": "32438d09",
   "metadata": {},
   "outputs": [],
   "source": [
    "X = df[candidate_cols].to_numpy()\n",
    "y = df['mode'].to_numpy()"
   ]
  },
  {
   "cell_type": "code",
   "execution_count": 28,
   "id": "4f9de1c7",
   "metadata": {},
   "outputs": [
    {
     "name": "stdout",
     "output_type": "stream",
     "text": [
      "train size: 31555, validation size: 7889\n",
      "training/validation precision: 0.59 / 0.57\n",
      "\n",
      "train size: 31555, validation size: 7889\n",
      "training/validation precision: 0.59 / 0.56\n",
      "\n",
      "train size: 31555, validation size: 7889\n",
      "training/validation precision: 0.58 / 0.58\n",
      "\n",
      "train size: 31555, validation size: 7889\n",
      "training/validation precision: 0.60 / 0.53\n",
      "\n",
      "train size: 31556, validation size: 7888\n",
      "training/validation precision: 0.59 / 0.56\n",
      "\n",
      "row is ground truth, column is prediction\n",
      "\n",
      "                 drive  passenger  bus  subway  bike  walk  other\n",
      "drive-label       0.63       0.16 0.03    0.07  0.00  0.14   0.00\n",
      "passenger-label   0.15       0.36 0.00    0.03  0.00  0.05   0.00\n",
      "bus-label         0.01       0.03 0.33    0.14  0.00  0.06   0.00\n",
      "subway-label      0.03       0.05 0.31    0.43  0.00  0.14   0.00\n",
      "bike-label        0.00       0.01 0.00    0.03  0.00  0.02   0.00\n",
      "walk-label        0.16       0.36 0.33    0.27  0.00  0.56   0.00\n",
      "other-label       0.01       0.03 0.00    0.04  0.00  0.02   0.00\n"
     ]
    }
   ],
   "source": [
    "TRANSPORT_MODES = ['drive', 'passenger', 'bus', 'subway', 'bike', 'walk', 'other']\n",
    "\n",
    "k_fold = GroupKFold(n_splits=5)\n",
    "\n",
    "confusion = None\n",
    "for i, (train_idx, validate_idx) in enumerate(k_fold.split(X, y, groups=group)):\n",
    "    print(f'train size: {len(train_idx)}, validation size: {len(validate_idx)}')\n",
    "    \n",
    "    X_train, X_val = X[train_idx], X[validate_idx]\n",
    "    y_train, y_val = y[train_idx], y[validate_idx]\n",
    "    \n",
    "    model = DecisionTreeClassifier(min_samples_leaf=200).fit(X_train, y_train)\n",
    "    \n",
    "    y_pred_train = model.predict(X_train)\n",
    "    y_pred_val = model.predict(X_val)\n",
    "    \n",
    "    print('training/validation precision: {:.2f} / {:.2f}'.format(\n",
    "        precision_score(y_pred_train, y_train, average='micro'),\n",
    "        precision_score(y_pred_val, y_val, average='micro'),\n",
    "    ))\n",
    "    \n",
    "    if i == 0:\n",
    "        confusion = confusion_matrix(y_val, y_pred_val, labels=TRANSPORT_MODES, normalize='pred')\n",
    "    \n",
    "    \n",
    "#     if i == 0:\n",
    "#         plt.figure()\n",
    "#         tree.plot_tree(model)\n",
    "#         plt.savefig('tree.eps',format='eps',bbox_inches = \"tight\")\n",
    "\n",
    "    \n",
    "    print('')\n",
    "    \n",
    "confusion_df = pd.DataFrame(confusion, index=[x + '-label' for x in TRANSPORT_MODES],\n",
    "                            columns=TRANSPORT_MODES)\n",
    "\n",
    "print('row is ground truth, column is prediction\\n')\n",
    "with pd.option_context('display.float_format', '{:0.2f}'.format):\n",
    "    print(confusion_df)"
   ]
  },
  {
   "cell_type": "code",
   "execution_count": null,
   "id": "3e6c2c8a",
   "metadata": {},
   "outputs": [],
   "source": []
  }
 ],
 "metadata": {
  "kernelspec": {
   "display_name": "Python 3 (ipykernel)",
   "language": "python",
   "name": "python3"
  },
  "language_info": {
   "codemirror_mode": {
    "name": "ipython",
    "version": 3
   },
   "file_extension": ".py",
   "mimetype": "text/x-python",
   "name": "python",
   "nbconvert_exporter": "python",
   "pygments_lexer": "ipython3",
   "version": "3.9.7"
  }
 },
 "nbformat": 4,
 "nbformat_minor": 5
}
