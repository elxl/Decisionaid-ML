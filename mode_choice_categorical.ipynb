{
 "cells": [
  {
   "cell_type": "code",
   "execution_count": 1,
   "id": "ee701bc5",
   "metadata": {},
   "outputs": [],
   "source": [
    "import pandas as pd\n",
    "import numpy as np\n",
    "from sklearn.preprocessing import OneHotEncoder, normalize"
   ]
  },
  {
   "cell_type": "code",
   "execution_count": 2,
   "id": "22cc23f7",
   "metadata": {},
   "outputs": [],
   "source": [
    "df = pd.read_csv('data/data_processed.csv')"
   ]
  },
  {
   "cell_type": "markdown",
   "id": "24710348",
   "metadata": {},
   "source": [
    "## Select feature and encoding"
   ]
  },
  {
   "cell_type": "markdown",
   "id": "b6fdc01d",
   "metadata": {},
   "source": [
    "Choice of features are chosen based on correlation and our understanding of the problem"
   ]
  },
  {
   "cell_type": "code",
   "execution_count": 3,
   "id": "c1b96401",
   "metadata": {},
   "outputs": [
    {
     "name": "stderr",
     "output_type": "stream",
     "text": [
      "C:\\Users\\11481\\anaconda3\\lib\\site-packages\\pandas\\core\\indexing.py:1676: SettingWithCopyWarning: \n",
      "A value is trying to be set on a copy of a slice from a DataFrame.\n",
      "Try using .loc[row_indexer,col_indexer] = value instead\n",
      "\n",
      "See the caveats in the documentation: https://pandas.pydata.org/pandas-docs/stable/user_guide/indexing.html#returning-a-view-versus-a-copy\n",
      "  self._setitem_single_column(ilocs[0], value, pi)\n"
     ]
    }
   ],
   "source": [
    "# covert categorial features into one-hot encoding\n",
    "selected_features = [\n",
    "     'travel_date_dow',\n",
    "     'o_purpose_category',\n",
    "     'd_purpose_category',\n",
    "#      'num_non_hh_travelers',\n",
    "     'num_hh_travelers',\n",
    "     'num_travelers',\n",
    "#      'o_location_type',\n",
    "#      'd_location_type',\n",
    "     'o_congestion',\n",
    "     'd_congestion',\n",
    "#      'age',\n",
    "#      'employment',\n",
    "#      'student',\n",
    "     'license',\n",
    "#      'planning_apps',\n",
    "     'industry',\n",
    "#      'gender',\n",
    "#      'education',\n",
    "#      'survey_language',\n",
    "     'num_bicycles',\n",
    "     'num_vehicles',\n",
    "     'res_type',\n",
    "#      'rent_own',\n",
    "     'income_aggregate',\n",
    "#      'num_people',\n",
    "#      'num_adults',\n",
    "#      'num_kids',\n",
    "#      'num_workers',\n",
    "#      'num_students',\n",
    "     'disability',\n",
    "#      'trip_distance',\n",
    "     'trip_distance_category',\n",
    "]\n",
    "\n",
    "df_selected = df[selected_features]\n",
    "df_selected.loc[:,'trip_distance_category'] = df_selected['trip_distance_category'].replace({\"short\":0, \"medium\":1, \"long\":2})\n",
    "\n",
    "categorial_columns = ['travel_date_dow',\n",
    "       'o_purpose_category', 'd_purpose_category', 'o_location_type',\n",
    "       'd_location_type', 'age', 'employment', 'license', 'planning_apps', 'industry', 'gender'\n",
    "                    , 'survey_language',\n",
    "       'res_type', 'rent_own',  'disability']\n",
    "\n",
    "onehot = pd.get_dummies(df_selected, columns=[x for x in categorial_columns if x in selected_features])"
   ]
  },
  {
   "cell_type": "code",
   "execution_count": 4,
   "id": "69e77e8e",
   "metadata": {},
   "outputs": [],
   "source": [
    "classes = np.array(['drive', 'passenger', 'bus', 'subway', 'bike', 'walk', 'other'])\n",
    "\n",
    "\n",
    "# Transfer string\n",
    "str_to_val = {\n",
    "    'drive': 0,\n",
    "    'passenger': 1,\n",
    "    'bus': 2,\n",
    "    'subway': 3,\n",
    "    'bike': 4,\n",
    "    'walk': 5,\n",
    "    'other': 6,\n",
    "}\n",
    "\n",
    "y = df['mode'].replace(str_to_val).to_numpy()\n",
    "X = onehot.to_numpy()"
   ]
  },
  {
   "cell_type": "markdown",
   "id": "faa3d4bf",
   "metadata": {},
   "source": [
    "## Model selection"
   ]
  },
  {
   "cell_type": "code",
   "execution_count": 5,
   "id": "55e97d09",
   "metadata": {},
   "outputs": [],
   "source": [
    "# train-validation split\n",
    "from sklearn.model_selection import GroupKFold\n",
    "from sklearn.model_selection import RandomizedSearchCV\n",
    "from scipy.stats import uniform\n",
    "from scipy.stats import randint\n",
    "\n",
    "from sklearn.metrics import log_loss\n",
    "from sklearn.metrics import log_loss,confusion_matrix, accuracy_score\n",
    "from sklearn.metrics import confusion_matrix\n",
    "\n",
    "from scipy.stats import uniform\n",
    "from scipy.stats import randint\n",
    "\n",
    "groups = df['person_id']\n",
    "group_kfold = GroupKFold(n_splits=5)"
   ]
  },
  {
   "cell_type": "markdown",
   "id": "f9f343a2",
   "metadata": {},
   "source": [
    "## XGboost"
   ]
  },
  {
   "cell_type": "markdown",
   "id": "540d5bf0",
   "metadata": {},
   "source": [
    "The range of parameters tried is partially taken from [this link](https://kevinvecmanis.io/machine%20learning/hyperparameter%20tuning/dataviz/python/2019/05/11/XGBoost-Tuning-Visual-Guide.html)"
   ]
  },
  {
   "cell_type": "markdown",
   "id": "d44ca5cb",
   "metadata": {},
   "source": [
    "### hyperparameters search"
   ]
  },
  {
   "cell_type": "code",
   "execution_count": 6,
   "id": "fe956e50",
   "metadata": {
    "collapsed": true
   },
   "outputs": [
    {
     "ename": "KeyboardInterrupt",
     "evalue": "",
     "output_type": "error",
     "traceback": [
      "\u001b[1;31m---------------------------------------------------------------------------\u001b[0m",
      "\u001b[1;31mKeyboardInterrupt\u001b[0m                         Traceback (most recent call last)",
      "\u001b[1;32m<ipython-input-6-6befd96b398a>\u001b[0m in \u001b[0;36m<module>\u001b[1;34m\u001b[0m\n\u001b[0;32m      8\u001b[0m \u001b[0mlr_xgbo\u001b[0m \u001b[1;33m=\u001b[0m \u001b[0mRandomizedSearchCV\u001b[0m\u001b[1;33m(\u001b[0m\u001b[0mxgbo\u001b[0m\u001b[1;33m,\u001b[0m \u001b[0mdistributions\u001b[0m\u001b[1;33m,\u001b[0m \u001b[0mrandom_state\u001b[0m\u001b[1;33m=\u001b[0m\u001b[1;36m0\u001b[0m\u001b[1;33m,\u001b[0m \u001b[0mscoring\u001b[0m \u001b[1;33m=\u001b[0m \u001b[1;34m\"neg_log_loss\"\u001b[0m\u001b[1;33m,\u001b[0m \u001b[0mn_iter\u001b[0m \u001b[1;33m=\u001b[0m \u001b[1;36m10\u001b[0m\u001b[1;33m,\u001b[0m \u001b[0mcv\u001b[0m\u001b[1;33m=\u001b[0m\u001b[0mgroup_kfold\u001b[0m\u001b[1;33m)\u001b[0m\u001b[1;33m\u001b[0m\u001b[1;33m\u001b[0m\u001b[0m\n\u001b[0;32m      9\u001b[0m \u001b[1;33m\u001b[0m\u001b[0m\n\u001b[1;32m---> 10\u001b[1;33m \u001b[0msearch_xgbo\u001b[0m \u001b[1;33m=\u001b[0m \u001b[0mlr_xgbo\u001b[0m\u001b[1;33m.\u001b[0m\u001b[0mfit\u001b[0m\u001b[1;33m(\u001b[0m\u001b[0mX\u001b[0m\u001b[1;33m,\u001b[0m \u001b[0my\u001b[0m\u001b[1;33m,\u001b[0m \u001b[0mgroups\u001b[0m \u001b[1;33m=\u001b[0m \u001b[0mgroups\u001b[0m\u001b[1;33m)\u001b[0m\u001b[1;33m\u001b[0m\u001b[1;33m\u001b[0m\u001b[0m\n\u001b[0m",
      "\u001b[1;32m~\\anaconda3\\lib\\site-packages\\sklearn\\utils\\validation.py\u001b[0m in \u001b[0;36minner_f\u001b[1;34m(*args, **kwargs)\u001b[0m\n\u001b[0;32m     61\u001b[0m             \u001b[0mextra_args\u001b[0m \u001b[1;33m=\u001b[0m \u001b[0mlen\u001b[0m\u001b[1;33m(\u001b[0m\u001b[0margs\u001b[0m\u001b[1;33m)\u001b[0m \u001b[1;33m-\u001b[0m \u001b[0mlen\u001b[0m\u001b[1;33m(\u001b[0m\u001b[0mall_args\u001b[0m\u001b[1;33m)\u001b[0m\u001b[1;33m\u001b[0m\u001b[1;33m\u001b[0m\u001b[0m\n\u001b[0;32m     62\u001b[0m             \u001b[1;32mif\u001b[0m \u001b[0mextra_args\u001b[0m \u001b[1;33m<=\u001b[0m \u001b[1;36m0\u001b[0m\u001b[1;33m:\u001b[0m\u001b[1;33m\u001b[0m\u001b[1;33m\u001b[0m\u001b[0m\n\u001b[1;32m---> 63\u001b[1;33m                 \u001b[1;32mreturn\u001b[0m \u001b[0mf\u001b[0m\u001b[1;33m(\u001b[0m\u001b[1;33m*\u001b[0m\u001b[0margs\u001b[0m\u001b[1;33m,\u001b[0m \u001b[1;33m**\u001b[0m\u001b[0mkwargs\u001b[0m\u001b[1;33m)\u001b[0m\u001b[1;33m\u001b[0m\u001b[1;33m\u001b[0m\u001b[0m\n\u001b[0m\u001b[0;32m     64\u001b[0m \u001b[1;33m\u001b[0m\u001b[0m\n\u001b[0;32m     65\u001b[0m             \u001b[1;31m# extra_args > 0\u001b[0m\u001b[1;33m\u001b[0m\u001b[1;33m\u001b[0m\u001b[1;33m\u001b[0m\u001b[0m\n",
      "\u001b[1;32m~\\anaconda3\\lib\\site-packages\\sklearn\\model_selection\\_search.py\u001b[0m in \u001b[0;36mfit\u001b[1;34m(self, X, y, groups, **fit_params)\u001b[0m\n\u001b[0;32m    839\u001b[0m                 \u001b[1;32mreturn\u001b[0m \u001b[0mresults\u001b[0m\u001b[1;33m\u001b[0m\u001b[1;33m\u001b[0m\u001b[0m\n\u001b[0;32m    840\u001b[0m \u001b[1;33m\u001b[0m\u001b[0m\n\u001b[1;32m--> 841\u001b[1;33m             \u001b[0mself\u001b[0m\u001b[1;33m.\u001b[0m\u001b[0m_run_search\u001b[0m\u001b[1;33m(\u001b[0m\u001b[0mevaluate_candidates\u001b[0m\u001b[1;33m)\u001b[0m\u001b[1;33m\u001b[0m\u001b[1;33m\u001b[0m\u001b[0m\n\u001b[0m\u001b[0;32m    842\u001b[0m \u001b[1;33m\u001b[0m\u001b[0m\n\u001b[0;32m    843\u001b[0m             \u001b[1;31m# multimetric is determined here because in the case of a callable\u001b[0m\u001b[1;33m\u001b[0m\u001b[1;33m\u001b[0m\u001b[1;33m\u001b[0m\u001b[0m\n",
      "\u001b[1;32m~\\anaconda3\\lib\\site-packages\\sklearn\\model_selection\\_search.py\u001b[0m in \u001b[0;36m_run_search\u001b[1;34m(self, evaluate_candidates)\u001b[0m\n\u001b[0;32m   1617\u001b[0m     \u001b[1;32mdef\u001b[0m \u001b[0m_run_search\u001b[0m\u001b[1;33m(\u001b[0m\u001b[0mself\u001b[0m\u001b[1;33m,\u001b[0m \u001b[0mevaluate_candidates\u001b[0m\u001b[1;33m)\u001b[0m\u001b[1;33m:\u001b[0m\u001b[1;33m\u001b[0m\u001b[1;33m\u001b[0m\u001b[0m\n\u001b[0;32m   1618\u001b[0m         \u001b[1;34m\"\"\"Search n_iter candidates from param_distributions\"\"\"\u001b[0m\u001b[1;33m\u001b[0m\u001b[1;33m\u001b[0m\u001b[0m\n\u001b[1;32m-> 1619\u001b[1;33m         evaluate_candidates(ParameterSampler(\n\u001b[0m\u001b[0;32m   1620\u001b[0m             \u001b[0mself\u001b[0m\u001b[1;33m.\u001b[0m\u001b[0mparam_distributions\u001b[0m\u001b[1;33m,\u001b[0m \u001b[0mself\u001b[0m\u001b[1;33m.\u001b[0m\u001b[0mn_iter\u001b[0m\u001b[1;33m,\u001b[0m\u001b[1;33m\u001b[0m\u001b[1;33m\u001b[0m\u001b[0m\n\u001b[0;32m   1621\u001b[0m             random_state=self.random_state))\n",
      "\u001b[1;32m~\\anaconda3\\lib\\site-packages\\sklearn\\model_selection\\_search.py\u001b[0m in \u001b[0;36mevaluate_candidates\u001b[1;34m(candidate_params, cv, more_results)\u001b[0m\n\u001b[0;32m    793\u001b[0m                               n_splits, n_candidates, n_candidates * n_splits))\n\u001b[0;32m    794\u001b[0m \u001b[1;33m\u001b[0m\u001b[0m\n\u001b[1;32m--> 795\u001b[1;33m                 out = parallel(delayed(_fit_and_score)(clone(base_estimator),\n\u001b[0m\u001b[0;32m    796\u001b[0m                                                        \u001b[0mX\u001b[0m\u001b[1;33m,\u001b[0m \u001b[0my\u001b[0m\u001b[1;33m,\u001b[0m\u001b[1;33m\u001b[0m\u001b[1;33m\u001b[0m\u001b[0m\n\u001b[0;32m    797\u001b[0m                                                        \u001b[0mtrain\u001b[0m\u001b[1;33m=\u001b[0m\u001b[0mtrain\u001b[0m\u001b[1;33m,\u001b[0m \u001b[0mtest\u001b[0m\u001b[1;33m=\u001b[0m\u001b[0mtest\u001b[0m\u001b[1;33m,\u001b[0m\u001b[1;33m\u001b[0m\u001b[1;33m\u001b[0m\u001b[0m\n",
      "\u001b[1;32m~\\anaconda3\\lib\\site-packages\\joblib\\parallel.py\u001b[0m in \u001b[0;36m__call__\u001b[1;34m(self, iterable)\u001b[0m\n\u001b[0;32m   1039\u001b[0m             \u001b[1;31m# remaining jobs.\u001b[0m\u001b[1;33m\u001b[0m\u001b[1;33m\u001b[0m\u001b[1;33m\u001b[0m\u001b[0m\n\u001b[0;32m   1040\u001b[0m             \u001b[0mself\u001b[0m\u001b[1;33m.\u001b[0m\u001b[0m_iterating\u001b[0m \u001b[1;33m=\u001b[0m \u001b[1;32mFalse\u001b[0m\u001b[1;33m\u001b[0m\u001b[1;33m\u001b[0m\u001b[0m\n\u001b[1;32m-> 1041\u001b[1;33m             \u001b[1;32mif\u001b[0m \u001b[0mself\u001b[0m\u001b[1;33m.\u001b[0m\u001b[0mdispatch_one_batch\u001b[0m\u001b[1;33m(\u001b[0m\u001b[0miterator\u001b[0m\u001b[1;33m)\u001b[0m\u001b[1;33m:\u001b[0m\u001b[1;33m\u001b[0m\u001b[1;33m\u001b[0m\u001b[0m\n\u001b[0m\u001b[0;32m   1042\u001b[0m                 \u001b[0mself\u001b[0m\u001b[1;33m.\u001b[0m\u001b[0m_iterating\u001b[0m \u001b[1;33m=\u001b[0m \u001b[0mself\u001b[0m\u001b[1;33m.\u001b[0m\u001b[0m_original_iterator\u001b[0m \u001b[1;32mis\u001b[0m \u001b[1;32mnot\u001b[0m \u001b[1;32mNone\u001b[0m\u001b[1;33m\u001b[0m\u001b[1;33m\u001b[0m\u001b[0m\n\u001b[0;32m   1043\u001b[0m \u001b[1;33m\u001b[0m\u001b[0m\n",
      "\u001b[1;32m~\\anaconda3\\lib\\site-packages\\joblib\\parallel.py\u001b[0m in \u001b[0;36mdispatch_one_batch\u001b[1;34m(self, iterator)\u001b[0m\n\u001b[0;32m    857\u001b[0m                 \u001b[1;32mreturn\u001b[0m \u001b[1;32mFalse\u001b[0m\u001b[1;33m\u001b[0m\u001b[1;33m\u001b[0m\u001b[0m\n\u001b[0;32m    858\u001b[0m             \u001b[1;32melse\u001b[0m\u001b[1;33m:\u001b[0m\u001b[1;33m\u001b[0m\u001b[1;33m\u001b[0m\u001b[0m\n\u001b[1;32m--> 859\u001b[1;33m                 \u001b[0mself\u001b[0m\u001b[1;33m.\u001b[0m\u001b[0m_dispatch\u001b[0m\u001b[1;33m(\u001b[0m\u001b[0mtasks\u001b[0m\u001b[1;33m)\u001b[0m\u001b[1;33m\u001b[0m\u001b[1;33m\u001b[0m\u001b[0m\n\u001b[0m\u001b[0;32m    860\u001b[0m                 \u001b[1;32mreturn\u001b[0m \u001b[1;32mTrue\u001b[0m\u001b[1;33m\u001b[0m\u001b[1;33m\u001b[0m\u001b[0m\n\u001b[0;32m    861\u001b[0m \u001b[1;33m\u001b[0m\u001b[0m\n",
      "\u001b[1;32m~\\anaconda3\\lib\\site-packages\\joblib\\parallel.py\u001b[0m in \u001b[0;36m_dispatch\u001b[1;34m(self, batch)\u001b[0m\n\u001b[0;32m    775\u001b[0m         \u001b[1;32mwith\u001b[0m \u001b[0mself\u001b[0m\u001b[1;33m.\u001b[0m\u001b[0m_lock\u001b[0m\u001b[1;33m:\u001b[0m\u001b[1;33m\u001b[0m\u001b[1;33m\u001b[0m\u001b[0m\n\u001b[0;32m    776\u001b[0m             \u001b[0mjob_idx\u001b[0m \u001b[1;33m=\u001b[0m \u001b[0mlen\u001b[0m\u001b[1;33m(\u001b[0m\u001b[0mself\u001b[0m\u001b[1;33m.\u001b[0m\u001b[0m_jobs\u001b[0m\u001b[1;33m)\u001b[0m\u001b[1;33m\u001b[0m\u001b[1;33m\u001b[0m\u001b[0m\n\u001b[1;32m--> 777\u001b[1;33m             \u001b[0mjob\u001b[0m \u001b[1;33m=\u001b[0m \u001b[0mself\u001b[0m\u001b[1;33m.\u001b[0m\u001b[0m_backend\u001b[0m\u001b[1;33m.\u001b[0m\u001b[0mapply_async\u001b[0m\u001b[1;33m(\u001b[0m\u001b[0mbatch\u001b[0m\u001b[1;33m,\u001b[0m \u001b[0mcallback\u001b[0m\u001b[1;33m=\u001b[0m\u001b[0mcb\u001b[0m\u001b[1;33m)\u001b[0m\u001b[1;33m\u001b[0m\u001b[1;33m\u001b[0m\u001b[0m\n\u001b[0m\u001b[0;32m    778\u001b[0m             \u001b[1;31m# A job can complete so quickly than its callback is\u001b[0m\u001b[1;33m\u001b[0m\u001b[1;33m\u001b[0m\u001b[1;33m\u001b[0m\u001b[0m\n\u001b[0;32m    779\u001b[0m             \u001b[1;31m# called before we get here, causing self._jobs to\u001b[0m\u001b[1;33m\u001b[0m\u001b[1;33m\u001b[0m\u001b[1;33m\u001b[0m\u001b[0m\n",
      "\u001b[1;32m~\\anaconda3\\lib\\site-packages\\joblib\\_parallel_backends.py\u001b[0m in \u001b[0;36mapply_async\u001b[1;34m(self, func, callback)\u001b[0m\n\u001b[0;32m    206\u001b[0m     \u001b[1;32mdef\u001b[0m \u001b[0mapply_async\u001b[0m\u001b[1;33m(\u001b[0m\u001b[0mself\u001b[0m\u001b[1;33m,\u001b[0m \u001b[0mfunc\u001b[0m\u001b[1;33m,\u001b[0m \u001b[0mcallback\u001b[0m\u001b[1;33m=\u001b[0m\u001b[1;32mNone\u001b[0m\u001b[1;33m)\u001b[0m\u001b[1;33m:\u001b[0m\u001b[1;33m\u001b[0m\u001b[1;33m\u001b[0m\u001b[0m\n\u001b[0;32m    207\u001b[0m         \u001b[1;34m\"\"\"Schedule a func to be run\"\"\"\u001b[0m\u001b[1;33m\u001b[0m\u001b[1;33m\u001b[0m\u001b[0m\n\u001b[1;32m--> 208\u001b[1;33m         \u001b[0mresult\u001b[0m \u001b[1;33m=\u001b[0m \u001b[0mImmediateResult\u001b[0m\u001b[1;33m(\u001b[0m\u001b[0mfunc\u001b[0m\u001b[1;33m)\u001b[0m\u001b[1;33m\u001b[0m\u001b[1;33m\u001b[0m\u001b[0m\n\u001b[0m\u001b[0;32m    209\u001b[0m         \u001b[1;32mif\u001b[0m \u001b[0mcallback\u001b[0m\u001b[1;33m:\u001b[0m\u001b[1;33m\u001b[0m\u001b[1;33m\u001b[0m\u001b[0m\n\u001b[0;32m    210\u001b[0m             \u001b[0mcallback\u001b[0m\u001b[1;33m(\u001b[0m\u001b[0mresult\u001b[0m\u001b[1;33m)\u001b[0m\u001b[1;33m\u001b[0m\u001b[1;33m\u001b[0m\u001b[0m\n",
      "\u001b[1;32m~\\anaconda3\\lib\\site-packages\\joblib\\_parallel_backends.py\u001b[0m in \u001b[0;36m__init__\u001b[1;34m(self, batch)\u001b[0m\n\u001b[0;32m    570\u001b[0m         \u001b[1;31m# Don't delay the application, to avoid keeping the input\u001b[0m\u001b[1;33m\u001b[0m\u001b[1;33m\u001b[0m\u001b[1;33m\u001b[0m\u001b[0m\n\u001b[0;32m    571\u001b[0m         \u001b[1;31m# arguments in memory\u001b[0m\u001b[1;33m\u001b[0m\u001b[1;33m\u001b[0m\u001b[1;33m\u001b[0m\u001b[0m\n\u001b[1;32m--> 572\u001b[1;33m         \u001b[0mself\u001b[0m\u001b[1;33m.\u001b[0m\u001b[0mresults\u001b[0m \u001b[1;33m=\u001b[0m \u001b[0mbatch\u001b[0m\u001b[1;33m(\u001b[0m\u001b[1;33m)\u001b[0m\u001b[1;33m\u001b[0m\u001b[1;33m\u001b[0m\u001b[0m\n\u001b[0m\u001b[0;32m    573\u001b[0m \u001b[1;33m\u001b[0m\u001b[0m\n\u001b[0;32m    574\u001b[0m     \u001b[1;32mdef\u001b[0m \u001b[0mget\u001b[0m\u001b[1;33m(\u001b[0m\u001b[0mself\u001b[0m\u001b[1;33m)\u001b[0m\u001b[1;33m:\u001b[0m\u001b[1;33m\u001b[0m\u001b[1;33m\u001b[0m\u001b[0m\n",
      "\u001b[1;32m~\\anaconda3\\lib\\site-packages\\joblib\\parallel.py\u001b[0m in \u001b[0;36m__call__\u001b[1;34m(self)\u001b[0m\n\u001b[0;32m    260\u001b[0m         \u001b[1;31m# change the default number of processes to -1\u001b[0m\u001b[1;33m\u001b[0m\u001b[1;33m\u001b[0m\u001b[1;33m\u001b[0m\u001b[0m\n\u001b[0;32m    261\u001b[0m         \u001b[1;32mwith\u001b[0m \u001b[0mparallel_backend\u001b[0m\u001b[1;33m(\u001b[0m\u001b[0mself\u001b[0m\u001b[1;33m.\u001b[0m\u001b[0m_backend\u001b[0m\u001b[1;33m,\u001b[0m \u001b[0mn_jobs\u001b[0m\u001b[1;33m=\u001b[0m\u001b[0mself\u001b[0m\u001b[1;33m.\u001b[0m\u001b[0m_n_jobs\u001b[0m\u001b[1;33m)\u001b[0m\u001b[1;33m:\u001b[0m\u001b[1;33m\u001b[0m\u001b[1;33m\u001b[0m\u001b[0m\n\u001b[1;32m--> 262\u001b[1;33m             return [func(*args, **kwargs)\n\u001b[0m\u001b[0;32m    263\u001b[0m                     for func, args, kwargs in self.items]\n\u001b[0;32m    264\u001b[0m \u001b[1;33m\u001b[0m\u001b[0m\n",
      "\u001b[1;32m~\\anaconda3\\lib\\site-packages\\joblib\\parallel.py\u001b[0m in \u001b[0;36m<listcomp>\u001b[1;34m(.0)\u001b[0m\n\u001b[0;32m    260\u001b[0m         \u001b[1;31m# change the default number of processes to -1\u001b[0m\u001b[1;33m\u001b[0m\u001b[1;33m\u001b[0m\u001b[1;33m\u001b[0m\u001b[0m\n\u001b[0;32m    261\u001b[0m         \u001b[1;32mwith\u001b[0m \u001b[0mparallel_backend\u001b[0m\u001b[1;33m(\u001b[0m\u001b[0mself\u001b[0m\u001b[1;33m.\u001b[0m\u001b[0m_backend\u001b[0m\u001b[1;33m,\u001b[0m \u001b[0mn_jobs\u001b[0m\u001b[1;33m=\u001b[0m\u001b[0mself\u001b[0m\u001b[1;33m.\u001b[0m\u001b[0m_n_jobs\u001b[0m\u001b[1;33m)\u001b[0m\u001b[1;33m:\u001b[0m\u001b[1;33m\u001b[0m\u001b[1;33m\u001b[0m\u001b[0m\n\u001b[1;32m--> 262\u001b[1;33m             return [func(*args, **kwargs)\n\u001b[0m\u001b[0;32m    263\u001b[0m                     for func, args, kwargs in self.items]\n\u001b[0;32m    264\u001b[0m \u001b[1;33m\u001b[0m\u001b[0m\n",
      "\u001b[1;32m~\\anaconda3\\lib\\site-packages\\sklearn\\utils\\fixes.py\u001b[0m in \u001b[0;36m__call__\u001b[1;34m(self, *args, **kwargs)\u001b[0m\n\u001b[0;32m    220\u001b[0m     \u001b[1;32mdef\u001b[0m \u001b[0m__call__\u001b[0m\u001b[1;33m(\u001b[0m\u001b[0mself\u001b[0m\u001b[1;33m,\u001b[0m \u001b[1;33m*\u001b[0m\u001b[0margs\u001b[0m\u001b[1;33m,\u001b[0m \u001b[1;33m**\u001b[0m\u001b[0mkwargs\u001b[0m\u001b[1;33m)\u001b[0m\u001b[1;33m:\u001b[0m\u001b[1;33m\u001b[0m\u001b[1;33m\u001b[0m\u001b[0m\n\u001b[0;32m    221\u001b[0m         \u001b[1;32mwith\u001b[0m \u001b[0mconfig_context\u001b[0m\u001b[1;33m(\u001b[0m\u001b[1;33m**\u001b[0m\u001b[0mself\u001b[0m\u001b[1;33m.\u001b[0m\u001b[0mconfig\u001b[0m\u001b[1;33m)\u001b[0m\u001b[1;33m:\u001b[0m\u001b[1;33m\u001b[0m\u001b[1;33m\u001b[0m\u001b[0m\n\u001b[1;32m--> 222\u001b[1;33m             \u001b[1;32mreturn\u001b[0m \u001b[0mself\u001b[0m\u001b[1;33m.\u001b[0m\u001b[0mfunction\u001b[0m\u001b[1;33m(\u001b[0m\u001b[1;33m*\u001b[0m\u001b[0margs\u001b[0m\u001b[1;33m,\u001b[0m \u001b[1;33m**\u001b[0m\u001b[0mkwargs\u001b[0m\u001b[1;33m)\u001b[0m\u001b[1;33m\u001b[0m\u001b[1;33m\u001b[0m\u001b[0m\n\u001b[0m",
      "\u001b[1;32m~\\anaconda3\\lib\\site-packages\\sklearn\\model_selection\\_validation.py\u001b[0m in \u001b[0;36m_fit_and_score\u001b[1;34m(estimator, X, y, scorer, train, test, verbose, parameters, fit_params, return_train_score, return_parameters, return_n_test_samples, return_times, return_estimator, split_progress, candidate_progress, error_score)\u001b[0m\n\u001b[0;32m    591\u001b[0m             \u001b[0mestimator\u001b[0m\u001b[1;33m.\u001b[0m\u001b[0mfit\u001b[0m\u001b[1;33m(\u001b[0m\u001b[0mX_train\u001b[0m\u001b[1;33m,\u001b[0m \u001b[1;33m**\u001b[0m\u001b[0mfit_params\u001b[0m\u001b[1;33m)\u001b[0m\u001b[1;33m\u001b[0m\u001b[1;33m\u001b[0m\u001b[0m\n\u001b[0;32m    592\u001b[0m         \u001b[1;32melse\u001b[0m\u001b[1;33m:\u001b[0m\u001b[1;33m\u001b[0m\u001b[1;33m\u001b[0m\u001b[0m\n\u001b[1;32m--> 593\u001b[1;33m             \u001b[0mestimator\u001b[0m\u001b[1;33m.\u001b[0m\u001b[0mfit\u001b[0m\u001b[1;33m(\u001b[0m\u001b[0mX_train\u001b[0m\u001b[1;33m,\u001b[0m \u001b[0my_train\u001b[0m\u001b[1;33m,\u001b[0m \u001b[1;33m**\u001b[0m\u001b[0mfit_params\u001b[0m\u001b[1;33m)\u001b[0m\u001b[1;33m\u001b[0m\u001b[1;33m\u001b[0m\u001b[0m\n\u001b[0m\u001b[0;32m    594\u001b[0m \u001b[1;33m\u001b[0m\u001b[0m\n\u001b[0;32m    595\u001b[0m     \u001b[1;32mexcept\u001b[0m \u001b[0mException\u001b[0m \u001b[1;32mas\u001b[0m \u001b[0me\u001b[0m\u001b[1;33m:\u001b[0m\u001b[1;33m\u001b[0m\u001b[1;33m\u001b[0m\u001b[0m\n",
      "\u001b[1;32m~\\anaconda3\\lib\\site-packages\\xgboost\\core.py\u001b[0m in \u001b[0;36minner_f\u001b[1;34m(*args, **kwargs)\u001b[0m\n\u001b[0;32m    504\u001b[0m         \u001b[1;32mfor\u001b[0m \u001b[0mk\u001b[0m\u001b[1;33m,\u001b[0m \u001b[0marg\u001b[0m \u001b[1;32min\u001b[0m \u001b[0mzip\u001b[0m\u001b[1;33m(\u001b[0m\u001b[0msig\u001b[0m\u001b[1;33m.\u001b[0m\u001b[0mparameters\u001b[0m\u001b[1;33m,\u001b[0m \u001b[0margs\u001b[0m\u001b[1;33m)\u001b[0m\u001b[1;33m:\u001b[0m\u001b[1;33m\u001b[0m\u001b[1;33m\u001b[0m\u001b[0m\n\u001b[0;32m    505\u001b[0m             \u001b[0mkwargs\u001b[0m\u001b[1;33m[\u001b[0m\u001b[0mk\u001b[0m\u001b[1;33m]\u001b[0m \u001b[1;33m=\u001b[0m \u001b[0marg\u001b[0m\u001b[1;33m\u001b[0m\u001b[1;33m\u001b[0m\u001b[0m\n\u001b[1;32m--> 506\u001b[1;33m         \u001b[1;32mreturn\u001b[0m \u001b[0mf\u001b[0m\u001b[1;33m(\u001b[0m\u001b[1;33m**\u001b[0m\u001b[0mkwargs\u001b[0m\u001b[1;33m)\u001b[0m\u001b[1;33m\u001b[0m\u001b[1;33m\u001b[0m\u001b[0m\n\u001b[0m\u001b[0;32m    507\u001b[0m \u001b[1;33m\u001b[0m\u001b[0m\n\u001b[0;32m    508\u001b[0m     \u001b[1;32mreturn\u001b[0m \u001b[0minner_f\u001b[0m\u001b[1;33m\u001b[0m\u001b[1;33m\u001b[0m\u001b[0m\n",
      "\u001b[1;32m~\\anaconda3\\lib\\site-packages\\xgboost\\sklearn.py\u001b[0m in \u001b[0;36mfit\u001b[1;34m(self, X, y, sample_weight, base_margin, eval_set, eval_metric, early_stopping_rounds, verbose, xgb_model, sample_weight_eval_set, base_margin_eval_set, feature_weights, callbacks)\u001b[0m\n\u001b[0;32m   1248\u001b[0m         )\n\u001b[0;32m   1249\u001b[0m \u001b[1;33m\u001b[0m\u001b[0m\n\u001b[1;32m-> 1250\u001b[1;33m         self._Booster = train(\n\u001b[0m\u001b[0;32m   1251\u001b[0m             \u001b[0mparams\u001b[0m\u001b[1;33m,\u001b[0m\u001b[1;33m\u001b[0m\u001b[1;33m\u001b[0m\u001b[0m\n\u001b[0;32m   1252\u001b[0m             \u001b[0mtrain_dmatrix\u001b[0m\u001b[1;33m,\u001b[0m\u001b[1;33m\u001b[0m\u001b[1;33m\u001b[0m\u001b[0m\n",
      "\u001b[1;32m~\\anaconda3\\lib\\site-packages\\xgboost\\training.py\u001b[0m in \u001b[0;36mtrain\u001b[1;34m(params, dtrain, num_boost_round, evals, obj, feval, maximize, early_stopping_rounds, evals_result, verbose_eval, xgb_model, callbacks)\u001b[0m\n\u001b[0;32m    186\u001b[0m     \u001b[0mBooster\u001b[0m \u001b[1;33m:\u001b[0m \u001b[0ma\u001b[0m \u001b[0mtrained\u001b[0m \u001b[0mbooster\u001b[0m \u001b[0mmodel\u001b[0m\u001b[1;33m\u001b[0m\u001b[1;33m\u001b[0m\u001b[0m\n\u001b[0;32m    187\u001b[0m     \"\"\"\n\u001b[1;32m--> 188\u001b[1;33m     bst = _train_internal(params, dtrain,\n\u001b[0m\u001b[0;32m    189\u001b[0m                           \u001b[0mnum_boost_round\u001b[0m\u001b[1;33m=\u001b[0m\u001b[0mnum_boost_round\u001b[0m\u001b[1;33m,\u001b[0m\u001b[1;33m\u001b[0m\u001b[1;33m\u001b[0m\u001b[0m\n\u001b[0;32m    190\u001b[0m                           \u001b[0mevals\u001b[0m\u001b[1;33m=\u001b[0m\u001b[0mevals\u001b[0m\u001b[1;33m,\u001b[0m\u001b[1;33m\u001b[0m\u001b[1;33m\u001b[0m\u001b[0m\n",
      "\u001b[1;32m~\\anaconda3\\lib\\site-packages\\xgboost\\training.py\u001b[0m in \u001b[0;36m_train_internal\u001b[1;34m(params, dtrain, num_boost_round, evals, obj, feval, xgb_model, callbacks, evals_result, maximize, verbose_eval, early_stopping_rounds)\u001b[0m\n\u001b[0;32m     79\u001b[0m         \u001b[1;32mif\u001b[0m \u001b[0mcallbacks\u001b[0m\u001b[1;33m.\u001b[0m\u001b[0mbefore_iteration\u001b[0m\u001b[1;33m(\u001b[0m\u001b[0mbst\u001b[0m\u001b[1;33m,\u001b[0m \u001b[0mi\u001b[0m\u001b[1;33m,\u001b[0m \u001b[0mdtrain\u001b[0m\u001b[1;33m,\u001b[0m \u001b[0mevals\u001b[0m\u001b[1;33m)\u001b[0m\u001b[1;33m:\u001b[0m\u001b[1;33m\u001b[0m\u001b[1;33m\u001b[0m\u001b[0m\n\u001b[0;32m     80\u001b[0m             \u001b[1;32mbreak\u001b[0m\u001b[1;33m\u001b[0m\u001b[1;33m\u001b[0m\u001b[0m\n\u001b[1;32m---> 81\u001b[1;33m         \u001b[0mbst\u001b[0m\u001b[1;33m.\u001b[0m\u001b[0mupdate\u001b[0m\u001b[1;33m(\u001b[0m\u001b[0mdtrain\u001b[0m\u001b[1;33m,\u001b[0m \u001b[0mi\u001b[0m\u001b[1;33m,\u001b[0m \u001b[0mobj\u001b[0m\u001b[1;33m)\u001b[0m\u001b[1;33m\u001b[0m\u001b[1;33m\u001b[0m\u001b[0m\n\u001b[0m\u001b[0;32m     82\u001b[0m         \u001b[1;32mif\u001b[0m \u001b[0mcallbacks\u001b[0m\u001b[1;33m.\u001b[0m\u001b[0mafter_iteration\u001b[0m\u001b[1;33m(\u001b[0m\u001b[0mbst\u001b[0m\u001b[1;33m,\u001b[0m \u001b[0mi\u001b[0m\u001b[1;33m,\u001b[0m \u001b[0mdtrain\u001b[0m\u001b[1;33m,\u001b[0m \u001b[0mevals\u001b[0m\u001b[1;33m)\u001b[0m\u001b[1;33m:\u001b[0m\u001b[1;33m\u001b[0m\u001b[1;33m\u001b[0m\u001b[0m\n\u001b[0;32m     83\u001b[0m             \u001b[1;32mbreak\u001b[0m\u001b[1;33m\u001b[0m\u001b[1;33m\u001b[0m\u001b[0m\n",
      "\u001b[1;32m~\\anaconda3\\lib\\site-packages\\xgboost\\core.py\u001b[0m in \u001b[0;36mupdate\u001b[1;34m(self, dtrain, iteration, fobj)\u001b[0m\n\u001b[0;32m   1678\u001b[0m \u001b[1;33m\u001b[0m\u001b[0m\n\u001b[0;32m   1679\u001b[0m         \u001b[1;32mif\u001b[0m \u001b[0mfobj\u001b[0m \u001b[1;32mis\u001b[0m \u001b[1;32mNone\u001b[0m\u001b[1;33m:\u001b[0m\u001b[1;33m\u001b[0m\u001b[1;33m\u001b[0m\u001b[0m\n\u001b[1;32m-> 1680\u001b[1;33m             _check_call(_LIB.XGBoosterUpdateOneIter(self.handle,\n\u001b[0m\u001b[0;32m   1681\u001b[0m                                                     \u001b[0mctypes\u001b[0m\u001b[1;33m.\u001b[0m\u001b[0mc_int\u001b[0m\u001b[1;33m(\u001b[0m\u001b[0miteration\u001b[0m\u001b[1;33m)\u001b[0m\u001b[1;33m,\u001b[0m\u001b[1;33m\u001b[0m\u001b[1;33m\u001b[0m\u001b[0m\n\u001b[0;32m   1682\u001b[0m                                                     dtrain.handle))\n",
      "\u001b[1;31mKeyboardInterrupt\u001b[0m: "
     ]
    }
   ],
   "source": [
    "import xgboost as xgb\n",
    "\n",
    "xgbo = xgb.XGBClassifier(n_jobs=-1, random_state=42, objective=\"multi:softprob\", eval_metric=\"mlogloss\", use_label_encoder=False)\n",
    "distributions = {'n_estimators': np.arange(10,50,10), \n",
    "                 'max_depth': np.arange(5,20,1),\n",
    "                 'learning_rate': np.arange(0.0005,0.3,0.0005)}\n",
    "\n",
    "lr_xgbo = RandomizedSearchCV(xgbo, distributions, random_state=0, scoring = \"neg_log_loss\", n_iter = 10, cv=group_kfold)\n",
    "\n",
    "search_xgbo = lr_xgbo.fit(X, y, groups = groups)"
   ]
  },
  {
   "cell_type": "markdown",
   "id": "4321f5b3",
   "metadata": {},
   "source": [
    "### performance"
   ]
  },
  {
   "cell_type": "code",
   "execution_count": 16,
   "id": "3e6f3dd6",
   "metadata": {},
   "outputs": [],
   "source": [
    "best_estimator = search_xgbo.best_estimator_\n",
    "best_score = search_xgbo.best_score_\n",
    "best_param = search_xgbo.best_params_"
   ]
  },
  {
   "cell_type": "markdown",
   "id": "09420384",
   "metadata": {},
   "source": [
    "Define performance evaluation function for later use"
   ]
  },
  {
   "cell_type": "code",
   "execution_count": 8,
   "id": "c97f200c",
   "metadata": {},
   "outputs": [],
   "source": [
    "def classifier_performance(best_estimator):\n",
    "    for train_index, validate_index in group_kfold.split(X, y, groups):\n",
    "        X_train, X_validate = X[train_index], X[validate_index]\n",
    "        y_train, y_validate = y[train_index], y[validate_index]\n",
    "        \n",
    "        # loss and accuracy\n",
    "        loss = []\n",
    "        acc = []\n",
    "\n",
    "        best_estimator.fit(X_train, y_train)\n",
    "        \n",
    "        proba_train = best_estimator.predict_proba(X_train)\n",
    "        proba_val = best_estimator.predict_proba(X_validate)\n",
    "        \n",
    "        loss_train = log_loss(y_train, proba_train)\n",
    "        loss_val = log_loss(y_validate, proba_val)\n",
    "        loss.append(loss_val)\n",
    "        \n",
    "        acc_train = accuracy_score(y_train, best_estimator.predict(X_train))\n",
    "        acc_val = accuracy_score(y_validate, best_estimator.predict(X_validate))\n",
    "        acc.append(acc_val)\n",
    "        \n",
    "        print(f\"training loss:{loss_train}\\t validating loss:{loss_val}\")\n",
    "\n",
    "        print(f\"training accuracy:{acc_train}\\t validating accuracy:{acc_val}\")\n",
    "        \n",
    "        # Confusion matrix\n",
    "        print('Confusion matrix:')\n",
    "        display(confusion_matrix(y_validate, best_estimator.predict(X_validate)))\n",
    "    \n",
    "    print(f\"loss:{np.mean(loss)}\\t accuracy:{np.mean(acc)}\")"
   ]
  },
  {
   "cell_type": "code",
   "execution_count": 18,
   "id": "9a9a890e",
   "metadata": {},
   "outputs": [
    {
     "data": {
      "text/plain": [
       "{'n_estimators': 40, 'max_depth': 5, 'learning_rate': 0.1775}"
      ]
     },
     "execution_count": 18,
     "metadata": {},
     "output_type": "execute_result"
    }
   ],
   "source": [
    "best_param"
   ]
  },
  {
   "cell_type": "code",
   "execution_count": 19,
   "id": "c20ac3ef",
   "metadata": {},
   "outputs": [
    {
     "name": "stdout",
     "output_type": "stream",
     "text": [
      "training loss:0.8005575378485186\t validating loss:0.9092358116035468\n",
      "training accuracy:0.714847092378387\t validating accuracy:0.6613005450627456\n",
      "Confusion matrix:\n"
     ]
    },
    {
     "data": {
      "text/plain": [
       "array([[1873,   21,    9,   86,    1,  408,    1],\n",
       "       [ 488,  111,    2,   13,    0,  123,    1],\n",
       "       [  52,   20,   32,  141,    1,  184,    0],\n",
       "       [ 132,   49,   27,  531,    1,  242,    0],\n",
       "       [  12,   10,    0,   47,    2,   57,    0],\n",
       "       [ 236,   47,   15,   97,    3, 2667,    1],\n",
       "       [  18,   19,    1,   42,    0,   65,    1]], dtype=int64)"
      ]
     },
     "metadata": {},
     "output_type": "display_data"
    },
    {
     "name": "stdout",
     "output_type": "stream",
     "text": [
      "training loss:0.8029525680026839\t validating loss:0.9357357819966375\n",
      "training accuracy:0.710695610838219\t validating accuracy:0.6723285587526936\n",
      "Confusion matrix:\n"
     ]
    },
    {
     "data": {
      "text/plain": [
       "array([[1683,   77,    4,   72,    1,  298,   28],\n",
       "       [ 235,  163,    6,   12,    0,   97,    0],\n",
       "       [  65,   38,   39,  118,    0,  188,    0],\n",
       "       [ 109,   49,   37,  583,    0,  267,    0],\n",
       "       [  20,    7,    1,   43,    2,   75,    0],\n",
       "       [ 340,   42,   20,  101,    0, 2831,    1],\n",
       "       [ 122,   26,    2,   38,    0,   46,    3]], dtype=int64)"
      ]
     },
     "metadata": {},
     "output_type": "display_data"
    },
    {
     "name": "stdout",
     "output_type": "stream",
     "text": [
      "training loss:0.7930538069004657\t validating loss:0.9265771156578542\n",
      "training accuracy:0.7171288226905403\t validating accuracy:0.6779059449866903\n",
      "Confusion matrix:\n"
     ]
    },
    {
     "data": {
      "text/plain": [
       "array([[1834,   56,    6,   86,    1,  430,   11],\n",
       "       [ 261,  183,    6,   19,    0,  139,    1],\n",
       "       [  64,   38,   39,  151,    1,  196,    0],\n",
       "       [ 125,   47,   31,  559,    0,  249,    0],\n",
       "       [  12,    0,    0,    6,    1,   57,    1],\n",
       "       [ 216,   38,    9,  106,    2, 2731,    1],\n",
       "       [  47,   27,    6,   60,    0,   35,    1]], dtype=int64)"
      ]
     },
     "metadata": {},
     "output_type": "display_data"
    },
    {
     "name": "stdout",
     "output_type": "stream",
     "text": [
      "training loss:0.778716409909066\t validating loss:1.0358064133900096\n",
      "training accuracy:0.7206147995563302\t validating accuracy:0.6463430092533908\n",
      "Confusion matrix:\n"
     ]
    },
    {
     "data": {
      "text/plain": [
       "array([[1691,   85,    5,   88,    3,  423,    2],\n",
       "       [ 224,  186,    5,   18,    0,  107,    0],\n",
       "       [  79,   27,   49,  154,    0,  211,    1],\n",
       "       [ 130,   32,   43,  557,    3,  271,    2],\n",
       "       [  34,    0,    2,   35,    0,  147,    0],\n",
       "       [ 245,   57,   14,   98,    1, 2616,    0],\n",
       "       [  91,   20,    4,   57,    0,   72,    0]], dtype=int64)"
      ]
     },
     "metadata": {},
     "output_type": "display_data"
    },
    {
     "name": "stdout",
     "output_type": "stream",
     "text": [
      "training loss:0.797030219192868\t validating loss:0.9418681305984288\n",
      "training accuracy:0.7151730257320319\t validating accuracy:0.6724137931034483\n",
      "Confusion matrix:\n"
     ]
    },
    {
     "data": {
      "text/plain": [
       "array([[1822,   74,    6,  127,    1,  354,    2],\n",
       "       [ 290,  179,    1,   12,    0,  125,    0],\n",
       "       [  61,   26,   58,  123,    0,  179,    1],\n",
       "       [ 160,   39,   45,  507,    7,  192,    1],\n",
       "       [  24,    7,    0,   53,    5,   42,    0],\n",
       "       [ 279,   32,   15,   93,   10, 2733,    2],\n",
       "       [  61,   19,    4,   30,    1,   86,    0]], dtype=int64)"
      ]
     },
     "metadata": {},
     "output_type": "display_data"
    },
    {
     "name": "stdout",
     "output_type": "stream",
     "text": [
      "loss:0.9418681305984288\t accuracy:0.6724137931034483\n"
     ]
    }
   ],
   "source": [
    "classifier_performance(best_estimator)"
   ]
  },
  {
   "cell_type": "markdown",
   "id": "c27473ed",
   "metadata": {},
   "source": [
    "## Random forest"
   ]
  },
  {
   "cell_type": "markdown",
   "id": "41a7316c",
   "metadata": {},
   "source": [
    "### hyperparameters search"
   ]
  },
  {
   "cell_type": "code",
   "execution_count": null,
   "id": "260cfdde",
   "metadata": {},
   "outputs": [],
   "source": [
    "from sklearn.ensemble import RandomForestClassifier\n",
    "\n",
    "rf = RandomForestClassifier(random_state=42)\n",
    "\n",
    "distributions = {\"n_estimators\": randint(low=10,high=100),\n",
    "                 \"criterion\": [\"gini\", \"entropy\"],\n",
    "                \"max_depth\": randint(low=10,high=20),\n",
    "                \"min_samples_leaf\": randint(low=5,high=100)}\n",
    "\n",
    "\n",
    "lr_rf = RandomizedSearchCV(rf, distributions, random_state=0, scoring = \"neg_log_loss\", n_iter = 50, cv=group_kfold)\n",
    "\n",
    "search_rf = lr_rf.fit(X, y, groups = groups)"
   ]
  },
  {
   "cell_type": "markdown",
   "id": "8abfbd32",
   "metadata": {},
   "source": [
    "### performance"
   ]
  },
  {
   "cell_type": "code",
   "execution_count": 21,
   "id": "06beb440",
   "metadata": {},
   "outputs": [],
   "source": [
    "best_estimator = search_rf.best_estimator_\n",
    "best_score = search_rf.best_score_\n",
    "best_param = search_rf.best_params_"
   ]
  },
  {
   "cell_type": "code",
   "execution_count": 22,
   "id": "4a841499",
   "metadata": {},
   "outputs": [
    {
     "data": {
      "text/plain": [
       "{'criterion': 'entropy',\n",
       " 'max_depth': 18,\n",
       " 'min_samples_leaf': 6,\n",
       " 'n_estimators': 75}"
      ]
     },
     "execution_count": 22,
     "metadata": {},
     "output_type": "execute_result"
    }
   ],
   "source": [
    "best_param"
   ]
  },
  {
   "cell_type": "code",
   "execution_count": 23,
   "id": "dc9aae4d",
   "metadata": {},
   "outputs": [
    {
     "name": "stdout",
     "output_type": "stream",
     "text": [
      "training loss:0.7321596664889587\t validating loss:0.9445053341850436\n",
      "training accuracy:0.7382982094755189\t validating accuracy:0.6647230320699709\n",
      "Confusion matrix:\n"
     ]
    },
    {
     "data": {
      "text/plain": [
       "array([[1889,   10,    0,   87,    0,  413,    0],\n",
       "       [ 500,   87,    0,   20,    0,  131,    0],\n",
       "       [  68,   16,   12,  153,    0,  181,    0],\n",
       "       [ 139,   25,   10,  569,    0,  239,    0],\n",
       "       [  14,    6,    0,   46,    0,   62,    0],\n",
       "       [ 250,   22,    4,  103,    0, 2687,    0],\n",
       "       [  30,   10,    1,   39,    0,   66,    0]], dtype=int64)"
      ]
     },
     "metadata": {},
     "output_type": "display_data"
    },
    {
     "name": "stdout",
     "output_type": "stream",
     "text": [
      "training loss:0.7281890941282304\t validating loss:0.9557127195165052\n",
      "training accuracy:0.7389954048486769\t validating accuracy:0.6791735327671441\n",
      "Confusion matrix:\n"
     ]
    },
    {
     "data": {
      "text/plain": [
       "array([[1755,   43,    3,   74,    0,  285,    3],\n",
       "       [ 257,  128,    1,   18,    0,  109,    0],\n",
       "       [  72,   24,   18,  132,    0,  202,    0],\n",
       "       [ 115,   39,   10,  602,    0,  279,    0],\n",
       "       [  26,    7,    0,   40,    2,   73,    0],\n",
       "       [ 331,   30,    4,  116,    0, 2853,    1],\n",
       "       [ 136,    9,    0,   42,    0,   50,    0]], dtype=int64)"
      ]
     },
     "metadata": {},
     "output_type": "display_data"
    },
    {
     "name": "stdout",
     "output_type": "stream",
     "text": [
      "training loss:0.7247329477902607\t validating loss:0.9500746423658423\n",
      "training accuracy:0.7415623514498495\t validating accuracy:0.6756242869818735\n",
      "Confusion matrix:\n"
     ]
    },
    {
     "data": {
      "text/plain": [
       "array([[1875,   21,    0,   79,    0,  445,    4],\n",
       "       [ 290,  123,    1,   27,    0,  168,    0],\n",
       "       [  74,   21,   10,  175,    0,  209,    0],\n",
       "       [ 132,   19,   12,  583,    0,  265,    0],\n",
       "       [  12,    0,    0,    6,    0,   59,    0],\n",
       "       [ 233,   14,    3,  114,    0, 2739,    0],\n",
       "       [  55,   12,    1,   63,    0,   45,    0]], dtype=int64)"
      ]
     },
     "metadata": {},
     "output_type": "display_data"
    },
    {
     "name": "stdout",
     "output_type": "stream",
     "text": [
      "training loss:0.7134106104666947\t validating loss:1.0584109383469869\n",
      "training accuracy:0.7466011725558549\t validating accuracy:0.6505260489288883\n",
      "Confusion matrix:\n"
     ]
    },
    {
     "data": {
      "text/plain": [
       "array([[1736,   59,    1,   93,    0,  408,    0],\n",
       "       [ 240,  153,    2,   27,    0,  118,    0],\n",
       "       [  95,   24,    8,  194,    0,  200,    0],\n",
       "       [ 135,   21,    5,  615,    1,  261,    0],\n",
       "       [  39,    0,    0,   35,    0,  144,    0],\n",
       "       [ 262,   30,    2,  117,    0, 2620,    0],\n",
       "       [  93,   16,    2,   58,    0,   75,    0]], dtype=int64)"
      ]
     },
     "metadata": {},
     "output_type": "display_data"
    },
    {
     "name": "stdout",
     "output_type": "stream",
     "text": [
      "training loss:0.7275434453560324\t validating loss:0.9685817928134446\n",
      "training accuracy:0.739890987450881\t validating accuracy:0.678498985801217\n",
      "Confusion matrix:\n"
     ]
    },
    {
     "data": {
      "text/plain": [
       "array([[1905,   32,    2,  110,    0,  337,    0],\n",
       "       [ 307,  144,    0,    8,    0,  148,    0],\n",
       "       [  66,   15,   11,  153,    0,  203,    0],\n",
       "       [ 174,   30,   11,  536,    4,  196,    0],\n",
       "       [  25,    6,    0,   36,    9,   54,    1],\n",
       "       [ 280,   19,    5,  111,    2, 2747,    0],\n",
       "       [  70,    6,    0,   34,    0,   91,    0]], dtype=int64)"
      ]
     },
     "metadata": {},
     "output_type": "display_data"
    },
    {
     "name": "stdout",
     "output_type": "stream",
     "text": [
      "loss:0.9685817928134446\t accuracy:0.678498985801217\n"
     ]
    }
   ],
   "source": [
    "classifier_performance(best_estimator)"
   ]
  },
  {
   "cell_type": "markdown",
   "id": "d9f43a2c",
   "metadata": {},
   "source": [
    "## Bagging"
   ]
  },
  {
   "cell_type": "markdown",
   "id": "a785fe67",
   "metadata": {},
   "source": [
    "Try decisiontree and svm as base classifiers"
   ]
  },
  {
   "cell_type": "markdown",
   "id": "ff93fd25",
   "metadata": {},
   "source": [
    "### hyperparameters search"
   ]
  },
  {
   "cell_type": "code",
   "execution_count": null,
   "id": "be3f13e1",
   "metadata": {},
   "outputs": [],
   "source": [
    "from sklearn.ensemble import BaggingClassifier\n",
    "from sklearn.tree import DecisionTreeClassifier\n",
    "from sklearn.svm import SVC\n",
    "\n",
    "bag = BaggingClassifier(random_state=42)\n",
    "\n",
    "distributions = {\n",
    "    \"base_estimator\": [DecisionTreeClassifier(),SVC()],\n",
    "    \"n_estimators\": np.arange(10,50,10),\n",
    "    \"max_samples\": np.arange(0.1,1.0,0.1),\n",
    "    \"max_features\": np.arange(5,15)\n",
    "}\n",
    "\n",
    "lr_bag = RandomizedSearchCV(bag, distributions, random_state=0,  scoring = \"neg_log_loss\", n_iter = 10, cv=group_kfold)\n",
    "\n",
    "search_bag = lr_bag.fit(X, y, groups = groups)"
   ]
  },
  {
   "cell_type": "markdown",
   "id": "070aaf9a",
   "metadata": {},
   "source": [
    "### performance"
   ]
  },
  {
   "cell_type": "code",
   "execution_count": null,
   "id": "3abb5adb",
   "metadata": {},
   "outputs": [],
   "source": [
    "best_estimator = search_rf.best_estimator_\n",
    "best_score = search_rf.best_score_\n",
    "best_param = search_rf.best_params_"
   ]
  },
  {
   "cell_type": "code",
   "execution_count": null,
   "id": "0ea146e4",
   "metadata": {},
   "outputs": [],
   "source": [
    "best_param"
   ]
  },
  {
   "cell_type": "code",
   "execution_count": null,
   "id": "ea95062d",
   "metadata": {},
   "outputs": [],
   "source": [
    "classifier_performance(best_estimator)"
   ]
  },
  {
   "cell_type": "markdown",
   "id": "40063503",
   "metadata": {},
   "source": [
    "## Naive bayes"
   ]
  },
  {
   "cell_type": "markdown",
   "id": "37550382",
   "metadata": {},
   "source": [
    "Naive bayes has no parameters to tune, so we just try it with cross validation"
   ]
  },
  {
   "cell_type": "markdown",
   "id": "405137a6",
   "metadata": {},
   "source": [
    "### Cross validation"
   ]
  },
  {
   "cell_type": "code",
   "execution_count": 9,
   "id": "4e8164c0",
   "metadata": {},
   "outputs": [
    {
     "name": "stdout",
     "output_type": "stream",
     "text": [
      "training loss:19.887780103044047\t validating loss:20.636529365739793\n",
      "training accuracy:0.10850895262240533\t validating accuracy:0.0902522499683103\n",
      "Confusion matrix:\n"
     ]
    },
    {
     "data": {
      "text/plain": [
       "array([[ 301,   31,   25,    5, 1679,   13,  345],\n",
       "       [  50,   17,    8,    5,  541,    9,  108],\n",
       "       [  26,    2,   15,   24,  315,    6,   42],\n",
       "       [   7,    1,   10,   64,  812,   20,   68],\n",
       "       [   0,    0,    0,   11,  113,    4,    0],\n",
       "       [  61,   19,   36,   78, 2498,  170,  204],\n",
       "       [   8,    2,    3,    2,   92,    7,   32]], dtype=int64)"
      ]
     },
     "metadata": {},
     "output_type": "display_data"
    },
    {
     "name": "stdout",
     "output_type": "stream",
     "text": [
      "training loss:22.544061979544832\t validating loss:23.05684066911958\n",
      "training accuracy:0.06220884170495959\t validating accuracy:0.059703384459373815\n",
      "Confusion matrix:\n"
     ]
    },
    {
     "data": {
      "text/plain": [
       "array([[  52,  129,   19,   16, 1332,   22,  593],\n",
       "       [   4,   65,   17,    6,  311,   11,   99],\n",
       "       [   3,   10,   11,   15,  311,    3,   95],\n",
       "       [   1,    5,   14,   34,  813,    4,  174],\n",
       "       [   2,    0,    0,    5,  118,    0,   23],\n",
       "       [   7,   67,   27,   62, 2674,   77,  421],\n",
       "       [   0,    2,    3,    9,  107,    2,  114]], dtype=int64)"
      ]
     },
     "metadata": {},
     "output_type": "display_data"
    },
    {
     "name": "stdout",
     "output_type": "stream",
     "text": [
      "training loss:20.358133907281662\t validating loss:21.947092445838145\n",
      "training accuracy:0.0994454127713516\t validating accuracy:0.07567499049309165\n",
      "Confusion matrix:\n"
     ]
    },
    {
     "data": {
      "text/plain": [
       "array([[ 278,   82,   64,   20, 1602,  113,  265],\n",
       "       [  32,   28,   44,    4,  431,   11,   59],\n",
       "       [   3,    4,   62,   19,  355,   12,   34],\n",
       "       [   8,    2,   64,   33,  829,   21,   54],\n",
       "       [   2,    0,    1,    1,   54,   15,    4],\n",
       "       [  70,   35,  193,   29, 2516,  128,  132],\n",
       "       [   3,    9,   13,    2,  133,    2,   14]], dtype=int64)"
      ]
     },
     "metadata": {},
     "output_type": "display_data"
    },
    {
     "name": "stdout",
     "output_type": "stream",
     "text": [
      "training loss:21.968633654291697\t validating loss:21.841619871363694\n",
      "training accuracy:0.09161781017271431\t validating accuracy:0.09937888198757763\n",
      "Confusion matrix:\n"
     ]
    },
    {
     "data": {
      "text/plain": [
       "array([[ 231,  231,   57,   49, 1460,   47,  222],\n",
       "       [  42,   83,    7,   17,  349,    6,   36],\n",
       "       [  15,    5,   28,   14,  369,    4,   86],\n",
       "       [  10,    7,   43,  111,  796,   11,   60],\n",
       "       [   7,    6,    3,   12,  181,    7,    2],\n",
       "       [  36,   97,   91,   87, 2351,  133,  236],\n",
       "       [   4,    5,    6,    6,  205,    1,   17]], dtype=int64)"
      ]
     },
     "metadata": {},
     "output_type": "display_data"
    },
    {
     "name": "stdout",
     "output_type": "stream",
     "text": [
      "training loss:21.221948321337052\t validating loss:21.623841082484738\n",
      "training accuracy:0.06467866649765497\t validating accuracy:0.047160243407707914\n",
      "Confusion matrix:\n"
     ]
    },
    {
     "data": {
      "text/plain": [
       "array([[ 113,   31,   24,    9, 1677,    5,  527],\n",
       "       [  11,   12,   23,    1,  409,    2,  149],\n",
       "       [   6,    2,   32,    5,  274,   12,  117],\n",
       "       [   1,    1,   34,   38,  631,    3,  243],\n",
       "       [   1,    0,    2,    0,  104,    0,   24],\n",
       "       [  13,   12,  108,   27, 2434,   17,  553],\n",
       "       [   1,    0,   20,    1,  121,    2,   56]], dtype=int64)"
      ]
     },
     "metadata": {},
     "output_type": "display_data"
    },
    {
     "name": "stdout",
     "output_type": "stream",
     "text": [
      "loss:21.623841082484738\t accuracy:0.047160243407707914\n"
     ]
    }
   ],
   "source": [
    "classifier_performance(gnb)"
   ]
  },
  {
   "cell_type": "markdown",
   "id": "399651fe",
   "metadata": {},
   "source": [
    "## Neural network"
   ]
  },
  {
   "cell_type": "markdown",
   "id": "442d0236",
   "metadata": {},
   "source": [
    "We don't use cross validation for neural network"
   ]
  },
  {
   "cell_type": "code",
   "execution_count": 10,
   "id": "e79a12f3",
   "metadata": {},
   "outputs": [],
   "source": [
    "from sklearn.neural_network import MLPClassifier\n",
    "from sklearn.model_selection import GridSearchCV\n",
    "from sklearn.model_selection import GroupShuffleSplit\n",
    "\n",
    "# train-validation split\n",
    "\n",
    "gss = GroupShuffleSplit(n_splits=2, train_size=.75, random_state=42)\n",
    "for train_idx, test_idx in gss.split(X, y, groups):\n",
    "    X_train, X_validate = X[train_idx,:], X[test_idx,:]\n",
    "    y_train, y_validate = y[train_idx], y[test_idx]\n",
    "\n",
    "parameters = {'learning_rate_init':np.arange(1e-4, 1e-2, 1e-3),\n",
    "              'alpha': np.arange(1e-5,1e-3,1e-4),\n",
    "              'learning_rate':['constant', 'invscaling', 'adaptive']}\n",
    "\n",
    "ann = MLPClassifier(hidden_layer_sizes=(20,), activation = 'relu', solver = 'adam', max_iter=500, random_state=42)\n",
    "\n",
    "lr_ann = RandomizedSearchCV(ann, parameters, random_state=0,  scoring = \"neg_log_loss\", n_iter = 5)\n",
    "search_ann = lr_ann.fit(X_train, y_train)"
   ]
  },
  {
   "cell_type": "code",
   "execution_count": 11,
   "id": "2170c1aa",
   "metadata": {},
   "outputs": [],
   "source": [
    "best_estimator = search_ann.best_estimator_\n",
    "best_score = search_ann.best_score_\n",
    "best_param = search_ann.best_params_"
   ]
  },
  {
   "cell_type": "code",
   "execution_count": 12,
   "id": "2a8cf125",
   "metadata": {},
   "outputs": [
    {
     "data": {
      "text/plain": [
       "{'learning_rate_init': 0.0011, 'learning_rate': 'invscaling', 'alpha': 0.00071}"
      ]
     },
     "execution_count": 12,
     "metadata": {},
     "output_type": "execute_result"
    }
   ],
   "source": [
    "best_param"
   ]
  },
  {
   "cell_type": "code",
   "execution_count": 13,
   "id": "8e13b6d5",
   "metadata": {},
   "outputs": [
    {
     "name": "stdout",
     "output_type": "stream",
     "text": [
      "training loss:0.7912387898137064\t validating loss:1.087770511732495\n",
      "training accuracy:0.7169541209353057\t validating accuracy:0.6302196714822877\n",
      "Confusion matrix:\n"
     ]
    },
    {
     "data": {
      "text/plain": [
       "array([[1952,  190,   14,  119,    5,  439,    8],\n",
       "       [ 360,  232,   17,   27,    4,  149,   27],\n",
       "       [  79,   42,   64,  180,    1,  239,    5],\n",
       "       [ 211,   38,   41,  697,   14,  315,    9],\n",
       "       [  18,    3,    4,   46,   21,  118,    0],\n",
       "       [ 406,   57,   86,  149,    9, 3395,    9],\n",
       "       [ 116,   14,    6,   64,    2,   97,    8]], dtype=int64)"
      ]
     },
     "metadata": {},
     "output_type": "display_data"
    }
   ],
   "source": [
    "proba_train = best_estimator.predict_proba(X_train)\n",
    "proba_val = best_estimator.predict_proba(X_validate)\n",
    "\n",
    "loss_train = log_loss(y_train, proba_train)\n",
    "loss_val = log_loss(y_validate, proba_val)\n",
    "\n",
    "acc_train = accuracy_score(y_train, best_estimator.predict(X_train))\n",
    "acc_val = accuracy_score(y_validate, best_estimator.predict(X_validate))\n",
    "\n",
    "print(f\"training loss:{loss_train}\\t validating loss:{loss_val}\")\n",
    "\n",
    "print(f\"training accuracy:{acc_train}\\t validating accuracy:{acc_val}\")\n",
    "\n",
    "# Confusion matrix\n",
    "print('Confusion matrix:')\n",
    "display(confusion_matrix(y_validate, best_estimator.predict(X_validate)))"
   ]
  },
  {
   "cell_type": "markdown",
   "id": "7ce23653",
   "metadata": {},
   "source": [
    "### Train the best model with the whole dataset"
   ]
  },
  {
   "cell_type": "code",
   "execution_count": null,
   "id": "ea0c3143",
   "metadata": {},
   "outputs": [],
   "source": [
    "from sklearn.metrics import confusion_matrix, plot_confusion_matrix\n",
    "import matplotlib.pyplot as plt\n",
    "\n",
    "best_estimator.fit(X, y)"
   ]
  }
 ],
 "metadata": {
  "kernelspec": {
   "display_name": "Python 3",
   "language": "python",
   "name": "python3"
  },
  "language_info": {
   "codemirror_mode": {
    "name": "ipython",
    "version": 3
   },
   "file_extension": ".py",
   "mimetype": "text/x-python",
   "name": "python",
   "nbconvert_exporter": "python",
   "pygments_lexer": "ipython3",
   "version": "3.8.8"
  }
 },
 "nbformat": 4,
 "nbformat_minor": 5
}
