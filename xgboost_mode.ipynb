{
 "cells": [
  {
   "cell_type": "code",
   "execution_count": 94,
   "id": "c577bc3c",
   "metadata": {},
   "outputs": [],
   "source": [
    "import xgboost as xgb\n",
    "import pandas as pd\n",
    "import numpy as np"
   ]
  },
  {
   "cell_type": "code",
   "execution_count": 95,
   "id": "aebe0add",
   "metadata": {},
   "outputs": [],
   "source": [
    "df_train = pd.read_csv('data/xgboost_distance_regression_train')\n",
    "df_test = pd.read_csv('data/xgboost_distance_regression_test')\n",
    "\n",
    "\n",
    "df_train = df_train[df_train['mode'] != np.nan]\n",
    "\n",
    "df = pd.concat((df_train, df_test), ignore_index=True)\n",
    "string_cols = ['survey_language', 'disability']\n",
    "df[string_cols] = df[string_cols].astype('category')\n",
    "df[string_cols] = df[string_cols].apply(lambda x: x.cat.codes)\n",
    "\n"
   ]
  },
  {
   "cell_type": "code",
   "execution_count": 96,
   "id": "48dc57b3",
   "metadata": {},
   "outputs": [
    {
     "data": {
      "text/plain": [
       "array(['subway', 'drive', 'walk', 'passenger', 'bus', 'other', 'bike'],\n",
       "      dtype=object)"
      ]
     },
     "execution_count": 96,
     "metadata": {},
     "output_type": "execute_result"
    }
   ],
   "source": [
    "df_train['mode'].unique()"
   ]
  },
  {
   "cell_type": "code",
   "execution_count": 97,
   "id": "228f72dc",
   "metadata": {},
   "outputs": [],
   "source": [
    "TRANSPORT_MODES = ['drive', 'passenger', 'bus', 'subway', 'bike', 'walk', 'other']\n",
    "candidate_cols = [\n",
    "#      'travel_date_dow',\n",
    "#      'o_purpose_category',\n",
    "     'd_purpose_category',\n",
    "     'num_non_hh_travelers',\n",
    "#      'num_hh_travelers',\n",
    "     'num_travelers',\n",
    "#      'o_location_type',\n",
    "#      'd_location_type',\n",
    "     'o_congestion',\n",
    "     'd_congestion',\n",
    "#      'age',\n",
    "#      'employment',\n",
    "#      'student',\n",
    "#      'license',\n",
    "#      'planning_apps',\n",
    "#      'industry',\n",
    "#      'gender',\n",
    "#      'education',\n",
    "#      'survey_language',\n",
    "#      'num_bicycles',\n",
    "     'num_vehicles',\n",
    "     'res_type',\n",
    "#      'rent_own',\n",
    "#      'income_aggregate',\n",
    "#      'num_people',\n",
    "#      'num_adults',\n",
    "#      'num_kids',\n",
    "#      'num_workers',\n",
    "#      'num_students',\n",
    "#      'disability'\n",
    "#     'trip_distance'\n",
    "]\n",
    "\n",
    "categorial_columns = ['travel_date_dow',\n",
    "       'o_purpose_category', 'd_purpose_category', 'o_location_type',\n",
    "       'd_location_type', 'age', 'employment', 'license', 'planning_apps', 'industry', 'gender'\n",
    "                    , 'survey_language',\n",
    "       'res_type', 'rent_own',  'disability']\n",
    "\n",
    "onehot = pd.get_dummies(df[candidate_cols], columns=[x for x in categorial_columns if x in candidate_cols])\n",
    "\n",
    "X_train_val = onehot.to_numpy()[:len(df_train)]\n",
    "y_train_val = df['mode'][:len(df_train)].apply(lambda x: TRANSPORT_MODES.index(x))\n",
    "group = df['person_id'].to_numpy()[:len(df_train)]\n",
    "\n",
    "X_test = onehot.to_numpy()[len(df_train):]\n",
    "\n"
   ]
  },
  {
   "cell_type": "markdown",
   "id": "cd1cadcf",
   "metadata": {},
   "source": [
    "XGBoost parameters: https://xgboost.readthedocs.io/en/stable/parameter.html"
   ]
  },
  {
   "cell_type": "code",
   "execution_count": 95,
   "id": "451a918d",
   "metadata": {},
   "outputs": [],
   "source": [
    "# param = {'objective': 'multi:softprob',\n",
    "#          'num_class': 7, \n",
    "#          'eval_metric': ['mlogloss', 'merror']}"
   ]
  },
  {
   "cell_type": "code",
   "execution_count": 98,
   "id": "09d26f77",
   "metadata": {},
   "outputs": [],
   "source": [
    "from sklearn.metrics import accuracy_score, precision_recall_fscore_support, plot_confusion_matrix\n",
    "\n",
    "import matplotlib.pyplot as plt\n",
    "import matplotlib\n",
    "\n",
    "def acc_pre_rec(y_true, y_pred, verbose=False):\n",
    "    ''' Returns accuracy, precision, and recall together. \n",
    "    If verbose is set to True, it prints the scores for \n",
    "    each mode.'''\n",
    "    acc = accuracy_score(y_true, y_pred)\n",
    "    prec, rec, fsc, sup = precision_recall_fscore_support(\n",
    "        y_true, y_pred)\n",
    "    \n",
    "    if verbose:\n",
    "        print(f'Accuracy: \\n    {acc*100:.3f}%')\n",
    "        scrs = {'Precision': prec, 'Recall': rec}\n",
    "        for k, v in scrs.items():\n",
    "            str_ = '%;\\n    '.join(\n",
    "                f'{TRANSPORT_MODES[i]} - {100*s:.3f}'\n",
    "                for i, s in enumerate(v)\n",
    "            )\n",
    "            print(f\"{k}: \\n    {str_}%\")\n",
    "            \n",
    "    return acc, prec, rec\n"
   ]
  },
  {
   "cell_type": "code",
   "execution_count": 99,
   "id": "1cb47444",
   "metadata": {},
   "outputs": [],
   "source": [
    "from sklearn.model_selection import GroupKFold\n",
    "from sklearn.metrics import ConfusionMatrixDisplay, log_loss\n",
    "\n",
    "\n",
    "def k_fold_cross_validation_classification(X, y, group, model, fold=5):\n",
    "\n",
    "    k_fold = GroupKFold(n_splits=5)\n",
    "\n",
    "    train_metrics  = [] #[(accuracy, cross entropy) for each fold]\n",
    "    val_metrics = []  \n",
    "    \n",
    "\n",
    "    for train_idx, validate_idx in k_fold.split(X, y, groups=group):\n",
    "        X_train, X_val = X[train_idx], X[validate_idx]\n",
    "        y_train, y_val = y[train_idx], y[validate_idx]\n",
    "        \n",
    "        model.fit(X_train, y_train)\n",
    "        \n",
    "        y_train_pred = model.predict(X_train)\n",
    "        y_train_prob = model.predict_proba(X_train)\n",
    "        \n",
    "        y_val_pred = model.predict(X_val)\n",
    "        y_val_prob = model.predict_proba(X_val)\n",
    "        \n",
    "        # training metrics\n",
    "        acc, prec, rec = acc_pre_rec(y_train, y_train_pred)\n",
    "        cross_entropy = log_loss(y_train, y_train_prob)\n",
    "        train_metrics.append((acc, cross_entropy))\n",
    "        \n",
    "        # validation metrics\n",
    "        acc, prec, rec = acc_pre_rec(y_val, y_val_pred)\n",
    "        cross_entropy = log_loss(y_val, y_val_prob)\n",
    "        val_metrics.append((acc, cross_entropy))\n",
    "    \n",
    "    return train_metrics, val_metrics\n"
   ]
  },
  {
   "cell_type": "code",
   "execution_count": 102,
   "id": "5fe9f055",
   "metadata": {},
   "outputs": [],
   "source": [
    "model = xgb.XGBClassifier(objective='multi:softprob',\n",
    "                          n_estimators = 100,\n",
    "                          n_jobs=-1,\n",
    "                          num_class=7,\n",
    "                          random_state=42,\n",
    "                          eval_metric=['mlogloss', 'merror'],\n",
    "                          use_label_encoder =False)\n",
    "\n",
    "\n",
    "train_metrics, val_metrics = k_fold_cross_validation_classification(X_train_val, y_train_val, group, model)"
   ]
  },
  {
   "cell_type": "code",
   "execution_count": 103,
   "id": "aaa8a171",
   "metadata": {},
   "outputs": [
    {
     "data": {
      "text/plain": [
       "[(0.6184122959911266, 0.9867083882391329),\n",
       " (0.621391221676438, 0.9764864369542978),\n",
       " (0.6262715892885438, 0.967563399860551),\n",
       " (0.6302012359372524, 0.9554267231513327),\n",
       " (0.6236531879832679, 0.9759766434630595)]"
      ]
     },
     "execution_count": 103,
     "metadata": {},
     "output_type": "execute_result"
    }
   ],
   "source": [
    "train_metrics"
   ]
  },
  {
   "cell_type": "code",
   "execution_count": 104,
   "id": "484757ea",
   "metadata": {},
   "outputs": [],
   "source": [
    "metrics = np.concatenate((train_metrics, val_metrics), axis=1)\n",
    "metrics = metrics[:,[0, 2, 1, 3]]\n",
    "\n",
    "df_metrics = pd.DataFrame(metrics, columns=['acc-train', 'acc-val', 'cross entropy-train', 'cros entropy-val'])"
   ]
  },
  {
   "cell_type": "code",
   "execution_count": 105,
   "id": "07b01e91",
   "metadata": {},
   "outputs": [
    {
     "data": {
      "text/html": [
       "<div>\n",
       "<style scoped>\n",
       "    .dataframe tbody tr th:only-of-type {\n",
       "        vertical-align: middle;\n",
       "    }\n",
       "\n",
       "    .dataframe tbody tr th {\n",
       "        vertical-align: top;\n",
       "    }\n",
       "\n",
       "    .dataframe thead th {\n",
       "        text-align: right;\n",
       "    }\n",
       "</style>\n",
       "<table border=\"1\" class=\"dataframe\">\n",
       "  <thead>\n",
       "    <tr style=\"text-align: right;\">\n",
       "      <th></th>\n",
       "      <th>acc-train</th>\n",
       "      <th>acc-val</th>\n",
       "      <th>cross entropy-train</th>\n",
       "      <th>cros entropy-val</th>\n",
       "    </tr>\n",
       "  </thead>\n",
       "  <tbody>\n",
       "    <tr>\n",
       "      <th>0</th>\n",
       "      <td>0.618412</td>\n",
       "      <td>0.576626</td>\n",
       "      <td>0.986708</td>\n",
       "      <td>1.133357</td>\n",
       "    </tr>\n",
       "    <tr>\n",
       "      <th>1</th>\n",
       "      <td>0.621391</td>\n",
       "      <td>0.564203</td>\n",
       "      <td>0.976486</td>\n",
       "      <td>1.226159</td>\n",
       "    </tr>\n",
       "    <tr>\n",
       "      <th>2</th>\n",
       "      <td>0.626272</td>\n",
       "      <td>0.555837</td>\n",
       "      <td>0.967563</td>\n",
       "      <td>1.181026</td>\n",
       "    </tr>\n",
       "    <tr>\n",
       "      <th>3</th>\n",
       "      <td>0.630201</td>\n",
       "      <td>0.535683</td>\n",
       "      <td>0.955427</td>\n",
       "      <td>1.294288</td>\n",
       "    </tr>\n",
       "    <tr>\n",
       "      <th>4</th>\n",
       "      <td>0.623653</td>\n",
       "      <td>0.559204</td>\n",
       "      <td>0.975977</td>\n",
       "      <td>1.185926</td>\n",
       "    </tr>\n",
       "  </tbody>\n",
       "</table>\n",
       "</div>"
      ],
      "text/plain": [
       "   acc-train   acc-val  cross entropy-train  cros entropy-val\n",
       "0   0.618412  0.576626             0.986708          1.133357\n",
       "1   0.621391  0.564203             0.976486          1.226159\n",
       "2   0.626272  0.555837             0.967563          1.181026\n",
       "3   0.630201  0.535683             0.955427          1.294288\n",
       "4   0.623653  0.559204             0.975977          1.185926"
      ]
     },
     "execution_count": 105,
     "metadata": {},
     "output_type": "execute_result"
    }
   ],
   "source": [
    "df_metrics"
   ]
  },
  {
   "cell_type": "markdown",
   "id": "f9ddc36d",
   "metadata": {},
   "source": [
    "## Parameter search"
   ]
  },
  {
   "cell_type": "code",
   "execution_count": 86,
   "id": "2f003614",
   "metadata": {},
   "outputs": [
    {
     "name": "stdout",
     "output_type": "stream",
     "text": [
      "best parameter {'learning_rate': 0.07608481233714792}\n",
      "best score -1.1442509743048093\n"
     ]
    }
   ],
   "source": [
    "from scipy.stats import loguniform\n",
    "from sklearn.model_selection import RandomizedSearchCV\n",
    "\n",
    "distributions = {\n",
    "    'learning_rate': loguniform(10**-4, 1),\n",
    "}\n",
    "\n",
    "model = xgb.XGBClassifier(objective='multi:softprob',\n",
    "                          n_estimators = 100,\n",
    "                          n_jobs=-1,\n",
    "                          num_class=7,\n",
    "                          random_state=42,\n",
    "                          eval_metric=['mlogloss', 'merror'],\n",
    "                          use_label_encoder =False)\n",
    "\n",
    "def neg_log_loss(estimator, X, y):\n",
    "    y_pred = estimator.predict_proba(X)\n",
    "    print(-log_loss(y, y_pred))\n",
    "    return -log_loss(y, y_pred)\n",
    "\n",
    "k_fold = GroupKFold(n_splits=5)\n",
    "search = RandomizedSearchCV(model,\n",
    "                            distributions,\n",
    "                            random_state=1,\n",
    "                            n_jobs=-1,\n",
    "                            scoring=neg_log_loss,\n",
    "                            n_iter=10\n",
    "                           ).fit(X_train_val, y_train_val)\n",
    "\n",
    "print('best parameter', search.best_params_)\n",
    "print('best score', search.best_score_)\n"
   ]
  },
  {
   "cell_type": "code",
   "execution_count": 85,
   "id": "187a8029",
   "metadata": {},
   "outputs": [
    {
     "data": {
      "text/plain": [
       "{'mean_fit_time': array([9.0586925 , 9.07957211, 9.02653799, 9.0358922 , 9.05830102,\n",
       "        8.926371  , 9.05386844, 9.07585526, 9.16332622, 6.46034641]),\n",
       " 'std_fit_time': array([0.14739635, 0.12149694, 0.21936335, 0.16507139, 0.23387401,\n",
       "        0.09270123, 0.22283313, 0.11750754, 0.20019281, 3.04108482]),\n",
       " 'mean_score_time': array([0.01704617, 0.0179132 , 0.01716881, 0.01493983, 0.01596665,\n",
       "        0.01499977, 0.01840992, 0.01771216, 0.01517253, 0.01298838]),\n",
       " 'std_score_time': array([0.00210323, 0.00187377, 0.00186885, 0.00101407, 0.00300942,\n",
       "        0.00109471, 0.00160075, 0.00188963, 0.00226825, 0.00251978]),\n",
       " 'param_learning_rate': masked_array(data=[0.001216494146415184, 0.03995972283135063,\n",
       "                    1.0013176560941263e-05, 0.00032483503450866794,\n",
       "                    5.4172571827679706e-05, 2.8952960233492824e-05,\n",
       "                    8.536916958038756e-05, 0.000534322712559412,\n",
       "                    0.0009634681692624377, 0.004944059287398676],\n",
       "              mask=[False, False, False, False, False, False, False, False,\n",
       "                    False, False],\n",
       "        fill_value='?',\n",
       "             dtype=object),\n",
       " 'params': [{'learning_rate': 0.001216494146415184},\n",
       "  {'learning_rate': 0.03995972283135063},\n",
       "  {'learning_rate': 1.0013176560941263e-05},\n",
       "  {'learning_rate': 0.00032483503450866794},\n",
       "  {'learning_rate': 5.4172571827679706e-05},\n",
       "  {'learning_rate': 2.8952960233492824e-05},\n",
       "  {'learning_rate': 8.536916958038756e-05},\n",
       "  {'learning_rate': 0.000534322712559412},\n",
       "  {'learning_rate': 0.0009634681692624377},\n",
       "  {'learning_rate': 0.004944059287398676}],\n",
       " 'split0_test_score': array([-1.93205354, -1.62251824, -1.94579458, -1.9421744 , -1.9452853 ,\n",
       "        -1.94557612, -1.94492581, -1.93977911, -1.93490572, -1.89179465]),\n",
       " 'split1_test_score': array([-1.93207216, -1.61811461, -1.94579478, -1.94218022, -1.94528624,\n",
       "        -1.94557661, -1.94492732, -1.93978864, -1.93492191, -1.89173378]),\n",
       " 'split2_test_score': array([-1.93211897, -1.62400812, -1.94579514, -1.94219151, -1.94528819,\n",
       "        -1.94557764, -1.94493036, -1.93980704, -1.93496041, -1.89222054]),\n",
       " 'split3_test_score': array([-1.93206388, -1.61683846, -1.94579467, -1.94217855, -1.94528607,\n",
       "        -1.9455765 , -1.94492702, -1.93978543, -1.9349152 , -1.89163503]),\n",
       " 'split4_test_score': array([-1.93206215, -1.62167076, -1.94579463, -1.94217685, -1.94528559,\n",
       "        -1.94557626, -1.94492625, -1.9397831 , -1.93491306, -1.89177473]),\n",
       " 'mean_test_score': array([-1.93207414, -1.62063004, -1.94579476, -1.94218031, -1.94528628,\n",
       "        -1.94557663, -1.94492735, -1.93978866, -1.93492326, -1.89183175]),\n",
       " 'std_test_score': array([2.31812606e-05, 2.71157870e-03, 1.98520270e-07, 5.92358185e-06,\n",
       "        1.01295515e-06, 5.33434518e-07, 1.59730048e-06, 9.69862424e-06,\n",
       "        1.92776437e-05, 2.02030115e-04]),\n",
       " 'rank_test_score': array([ 3,  1, 10,  6,  8,  9,  7,  5,  4,  2], dtype=int32)}"
      ]
     },
     "execution_count": 85,
     "metadata": {},
     "output_type": "execute_result"
    }
   ],
   "source": [
    "search.cv_results_"
   ]
  },
  {
   "cell_type": "markdown",
   "id": "53ea4ff9",
   "metadata": {},
   "source": [
    "## Train on whole training/validation data, with tuned parameters."
   ]
  },
  {
   "cell_type": "code",
   "execution_count": 106,
   "id": "3f675205",
   "metadata": {},
   "outputs": [
    {
     "data": {
      "text/html": [
       "<style>#sk-container-id-4 {color: black;background-color: white;}#sk-container-id-4 pre{padding: 0;}#sk-container-id-4 div.sk-toggleable {background-color: white;}#sk-container-id-4 label.sk-toggleable__label {cursor: pointer;display: block;width: 100%;margin-bottom: 0;padding: 0.3em;box-sizing: border-box;text-align: center;}#sk-container-id-4 label.sk-toggleable__label-arrow:before {content: \"▸\";float: left;margin-right: 0.25em;color: #696969;}#sk-container-id-4 label.sk-toggleable__label-arrow:hover:before {color: black;}#sk-container-id-4 div.sk-estimator:hover label.sk-toggleable__label-arrow:before {color: black;}#sk-container-id-4 div.sk-toggleable__content {max-height: 0;max-width: 0;overflow: hidden;text-align: left;background-color: #f0f8ff;}#sk-container-id-4 div.sk-toggleable__content pre {margin: 0.2em;color: black;border-radius: 0.25em;background-color: #f0f8ff;}#sk-container-id-4 input.sk-toggleable__control:checked~div.sk-toggleable__content {max-height: 200px;max-width: 100%;overflow: auto;}#sk-container-id-4 input.sk-toggleable__control:checked~label.sk-toggleable__label-arrow:before {content: \"▾\";}#sk-container-id-4 div.sk-estimator input.sk-toggleable__control:checked~label.sk-toggleable__label {background-color: #d4ebff;}#sk-container-id-4 div.sk-label input.sk-toggleable__control:checked~label.sk-toggleable__label {background-color: #d4ebff;}#sk-container-id-4 input.sk-hidden--visually {border: 0;clip: rect(1px 1px 1px 1px);clip: rect(1px, 1px, 1px, 1px);height: 1px;margin: -1px;overflow: hidden;padding: 0;position: absolute;width: 1px;}#sk-container-id-4 div.sk-estimator {font-family: monospace;background-color: #f0f8ff;border: 1px dotted black;border-radius: 0.25em;box-sizing: border-box;margin-bottom: 0.5em;}#sk-container-id-4 div.sk-estimator:hover {background-color: #d4ebff;}#sk-container-id-4 div.sk-parallel-item::after {content: \"\";width: 100%;border-bottom: 1px solid gray;flex-grow: 1;}#sk-container-id-4 div.sk-label:hover label.sk-toggleable__label {background-color: #d4ebff;}#sk-container-id-4 div.sk-serial::before {content: \"\";position: absolute;border-left: 1px solid gray;box-sizing: border-box;top: 0;bottom: 0;left: 50%;z-index: 0;}#sk-container-id-4 div.sk-serial {display: flex;flex-direction: column;align-items: center;background-color: white;padding-right: 0.2em;padding-left: 0.2em;position: relative;}#sk-container-id-4 div.sk-item {position: relative;z-index: 1;}#sk-container-id-4 div.sk-parallel {display: flex;align-items: stretch;justify-content: center;background-color: white;position: relative;}#sk-container-id-4 div.sk-item::before, #sk-container-id-4 div.sk-parallel-item::before {content: \"\";position: absolute;border-left: 1px solid gray;box-sizing: border-box;top: 0;bottom: 0;left: 50%;z-index: -1;}#sk-container-id-4 div.sk-parallel-item {display: flex;flex-direction: column;z-index: 1;position: relative;background-color: white;}#sk-container-id-4 div.sk-parallel-item:first-child::after {align-self: flex-end;width: 50%;}#sk-container-id-4 div.sk-parallel-item:last-child::after {align-self: flex-start;width: 50%;}#sk-container-id-4 div.sk-parallel-item:only-child::after {width: 0;}#sk-container-id-4 div.sk-dashed-wrapped {border: 1px dashed gray;margin: 0 0.4em 0.5em 0.4em;box-sizing: border-box;padding-bottom: 0.4em;background-color: white;}#sk-container-id-4 div.sk-label label {font-family: monospace;font-weight: bold;display: inline-block;line-height: 1.2em;}#sk-container-id-4 div.sk-label-container {text-align: center;}#sk-container-id-4 div.sk-container {/* jupyter's `normalize.less` sets `[hidden] { display: none; }` but bootstrap.min.css set `[hidden] { display: none !important; }` so we also need the `!important` here to be able to override the default hidden behavior on the sphinx rendered scikit-learn.org. See: https://github.com/scikit-learn/scikit-learn/issues/21755 */display: inline-block !important;position: relative;}#sk-container-id-4 div.sk-text-repr-fallback {display: none;}</style><div id=\"sk-container-id-4\" class=\"sk-top-container\"><div class=\"sk-text-repr-fallback\"><pre>XGBClassifier(base_score=0.5, booster=&#x27;gbtree&#x27;, colsample_bylevel=1,\n",
       "              colsample_bynode=1, colsample_bytree=1, enable_categorical=False,\n",
       "              eval_metric=[&#x27;mlogloss&#x27;, &#x27;merror&#x27;], gamma=0, gpu_id=-1,\n",
       "              importance_type=None, interaction_constraints=&#x27;&#x27;,\n",
       "              learning_rate=0.076, max_delta_step=0, max_depth=6,\n",
       "              min_child_weight=1, missing=nan, monotone_constraints=&#x27;()&#x27;,\n",
       "              n_estimators=100, n_jobs=-1, num_class=7, num_parallel_tree=1,\n",
       "              objective=&#x27;multi:softprob&#x27;, predictor=&#x27;auto&#x27;, random_state=42,\n",
       "              reg_alpha=0, reg_lambda=1, scale_pos_weight=None, subsample=1,\n",
       "              tree_method=&#x27;exact&#x27;, use_label_encoder=False, ...)</pre><b>In a Jupyter environment, please rerun this cell to show the HTML representation or trust the notebook. <br />On GitHub, the HTML representation is unable to render, please try loading this page with nbviewer.org.</b></div><div class=\"sk-container\" hidden><div class=\"sk-item\"><div class=\"sk-estimator sk-toggleable\"><input class=\"sk-toggleable__control sk-hidden--visually\" id=\"sk-estimator-id-4\" type=\"checkbox\" checked><label for=\"sk-estimator-id-4\" class=\"sk-toggleable__label sk-toggleable__label-arrow\">XGBClassifier</label><div class=\"sk-toggleable__content\"><pre>XGBClassifier(base_score=0.5, booster=&#x27;gbtree&#x27;, colsample_bylevel=1,\n",
       "              colsample_bynode=1, colsample_bytree=1, enable_categorical=False,\n",
       "              eval_metric=[&#x27;mlogloss&#x27;, &#x27;merror&#x27;], gamma=0, gpu_id=-1,\n",
       "              importance_type=None, interaction_constraints=&#x27;&#x27;,\n",
       "              learning_rate=0.076, max_delta_step=0, max_depth=6,\n",
       "              min_child_weight=1, missing=nan, monotone_constraints=&#x27;()&#x27;,\n",
       "              n_estimators=100, n_jobs=-1, num_class=7, num_parallel_tree=1,\n",
       "              objective=&#x27;multi:softprob&#x27;, predictor=&#x27;auto&#x27;, random_state=42,\n",
       "              reg_alpha=0, reg_lambda=1, scale_pos_weight=None, subsample=1,\n",
       "              tree_method=&#x27;exact&#x27;, use_label_encoder=False, ...)</pre></div></div></div></div></div>"
      ],
      "text/plain": [
       "XGBClassifier(base_score=0.5, booster='gbtree', colsample_bylevel=1,\n",
       "              colsample_bynode=1, colsample_bytree=1, enable_categorical=False,\n",
       "              eval_metric=['mlogloss', 'merror'], gamma=0, gpu_id=-1,\n",
       "              importance_type=None, interaction_constraints='',\n",
       "              learning_rate=0.076, max_delta_step=0, max_depth=6,\n",
       "              min_child_weight=1, missing=nan, monotone_constraints='()',\n",
       "              n_estimators=100, n_jobs=-1, num_class=7, num_parallel_tree=1,\n",
       "              objective='multi:softprob', predictor='auto', random_state=42,\n",
       "              reg_alpha=0, reg_lambda=1, scale_pos_weight=None, subsample=1,\n",
       "              tree_method='exact', use_label_encoder=False, ...)"
      ]
     },
     "execution_count": 106,
     "metadata": {},
     "output_type": "execute_result"
    }
   ],
   "source": [
    "# train on whole training-validation dataset\n",
    "model = xgb.XGBClassifier(objective='multi:softprob',\n",
    "                          n_estimators = 100,\n",
    "                          learning_rate=0.076, # obtained from parameter search, takes too much time to rerun so I'll just hard-code it here.\n",
    "                          n_jobs=-1,\n",
    "                          num_class=7,\n",
    "                          random_state=42,\n",
    "                          eval_metric=['mlogloss', 'merror'],\n",
    "                          use_label_encoder =False)\n",
    "\n",
    "\n",
    "model.fit(X, y)"
   ]
  },
  {
   "cell_type": "code",
   "execution_count": 107,
   "id": "81e4990a",
   "metadata": {},
   "outputs": [],
   "source": [
    "y_test_prob = model.predict_proba(X_test)"
   ]
  },
  {
   "cell_type": "code",
   "execution_count": 108,
   "id": "c374a232",
   "metadata": {},
   "outputs": [
    {
     "data": {
      "text/plain": [
       "array([[0.06039679, 0.00209222, 0.08713622, ..., 0.01353482, 0.7440381 ,\n",
       "        0.00669944],\n",
       "       [0.06039679, 0.00209222, 0.08713622, ..., 0.01353482, 0.7440381 ,\n",
       "        0.00669944],\n",
       "       [0.08574916, 0.00282143, 0.10853294, ..., 0.01969968, 0.591495  ,\n",
       "        0.01585623],\n",
       "       ...,\n",
       "       [0.03062928, 0.04641289, 0.01406188, ..., 0.00425692, 0.8613369 ,\n",
       "        0.00852847],\n",
       "       [0.03062928, 0.04641289, 0.01406188, ..., 0.00425692, 0.8613369 ,\n",
       "        0.00852847],\n",
       "       [0.0179481 , 0.02039165, 0.01594599, ..., 0.0057186 , 0.88780403,\n",
       "        0.00758224]], dtype=float32)"
      ]
     },
     "execution_count": 108,
     "metadata": {},
     "output_type": "execute_result"
    }
   ],
   "source": [
    "y_test_prob"
   ]
  },
  {
   "cell_type": "code",
   "execution_count": 109,
   "id": "ec4c5541",
   "metadata": {},
   "outputs": [],
   "source": [
    "df_test_prob = pd.DataFrame(y_test_prob)\n",
    "df_test_prob = pd.concat((df_test['id'], df_test_prob), axis=1, ignore_index=True)\n",
    "df_test_prob.columns = ['id'] + TRANSPORT_MODES "
   ]
  },
  {
   "cell_type": "code",
   "execution_count": 110,
   "id": "0179c4f7",
   "metadata": {},
   "outputs": [
    {
     "data": {
      "text/html": [
       "<div>\n",
       "<style scoped>\n",
       "    .dataframe tbody tr th:only-of-type {\n",
       "        vertical-align: middle;\n",
       "    }\n",
       "\n",
       "    .dataframe tbody tr th {\n",
       "        vertical-align: top;\n",
       "    }\n",
       "\n",
       "    .dataframe thead th {\n",
       "        text-align: right;\n",
       "    }\n",
       "</style>\n",
       "<table border=\"1\" class=\"dataframe\">\n",
       "  <thead>\n",
       "    <tr style=\"text-align: right;\">\n",
       "      <th></th>\n",
       "      <th>id</th>\n",
       "      <th>drive</th>\n",
       "      <th>passenger</th>\n",
       "      <th>bus</th>\n",
       "      <th>subway</th>\n",
       "      <th>bike</th>\n",
       "      <th>walk</th>\n",
       "      <th>other</th>\n",
       "    </tr>\n",
       "  </thead>\n",
       "  <tbody>\n",
       "    <tr>\n",
       "      <th>0</th>\n",
       "      <td>39498</td>\n",
       "      <td>0.060397</td>\n",
       "      <td>0.002092</td>\n",
       "      <td>0.087136</td>\n",
       "      <td>0.086102</td>\n",
       "      <td>0.013535</td>\n",
       "      <td>0.744038</td>\n",
       "      <td>0.006699</td>\n",
       "    </tr>\n",
       "    <tr>\n",
       "      <th>1</th>\n",
       "      <td>39499</td>\n",
       "      <td>0.060397</td>\n",
       "      <td>0.002092</td>\n",
       "      <td>0.087136</td>\n",
       "      <td>0.086102</td>\n",
       "      <td>0.013535</td>\n",
       "      <td>0.744038</td>\n",
       "      <td>0.006699</td>\n",
       "    </tr>\n",
       "    <tr>\n",
       "      <th>2</th>\n",
       "      <td>39500</td>\n",
       "      <td>0.085749</td>\n",
       "      <td>0.002821</td>\n",
       "      <td>0.108533</td>\n",
       "      <td>0.175846</td>\n",
       "      <td>0.019700</td>\n",
       "      <td>0.591495</td>\n",
       "      <td>0.015856</td>\n",
       "    </tr>\n",
       "    <tr>\n",
       "      <th>3</th>\n",
       "      <td>39501</td>\n",
       "      <td>0.066115</td>\n",
       "      <td>0.002304</td>\n",
       "      <td>0.093736</td>\n",
       "      <td>0.110587</td>\n",
       "      <td>0.027774</td>\n",
       "      <td>0.688176</td>\n",
       "      <td>0.011307</td>\n",
       "    </tr>\n",
       "    <tr>\n",
       "      <th>4</th>\n",
       "      <td>39502</td>\n",
       "      <td>0.051739</td>\n",
       "      <td>0.001733</td>\n",
       "      <td>0.048403</td>\n",
       "      <td>0.086415</td>\n",
       "      <td>0.019721</td>\n",
       "      <td>0.781771</td>\n",
       "      <td>0.010218</td>\n",
       "    </tr>\n",
       "    <tr>\n",
       "      <th>...</th>\n",
       "      <td>...</td>\n",
       "      <td>...</td>\n",
       "      <td>...</td>\n",
       "      <td>...</td>\n",
       "      <td>...</td>\n",
       "      <td>...</td>\n",
       "      <td>...</td>\n",
       "      <td>...</td>\n",
       "    </tr>\n",
       "    <tr>\n",
       "      <th>26289</th>\n",
       "      <td>65787</td>\n",
       "      <td>0.030629</td>\n",
       "      <td>0.046413</td>\n",
       "      <td>0.014062</td>\n",
       "      <td>0.034774</td>\n",
       "      <td>0.004257</td>\n",
       "      <td>0.861337</td>\n",
       "      <td>0.008528</td>\n",
       "    </tr>\n",
       "    <tr>\n",
       "      <th>26290</th>\n",
       "      <td>65788</td>\n",
       "      <td>0.030629</td>\n",
       "      <td>0.046413</td>\n",
       "      <td>0.014062</td>\n",
       "      <td>0.034774</td>\n",
       "      <td>0.004257</td>\n",
       "      <td>0.861337</td>\n",
       "      <td>0.008528</td>\n",
       "    </tr>\n",
       "    <tr>\n",
       "      <th>26291</th>\n",
       "      <td>65789</td>\n",
       "      <td>0.030629</td>\n",
       "      <td>0.046413</td>\n",
       "      <td>0.014062</td>\n",
       "      <td>0.034774</td>\n",
       "      <td>0.004257</td>\n",
       "      <td>0.861337</td>\n",
       "      <td>0.008528</td>\n",
       "    </tr>\n",
       "    <tr>\n",
       "      <th>26292</th>\n",
       "      <td>65790</td>\n",
       "      <td>0.030629</td>\n",
       "      <td>0.046413</td>\n",
       "      <td>0.014062</td>\n",
       "      <td>0.034774</td>\n",
       "      <td>0.004257</td>\n",
       "      <td>0.861337</td>\n",
       "      <td>0.008528</td>\n",
       "    </tr>\n",
       "    <tr>\n",
       "      <th>26293</th>\n",
       "      <td>65791</td>\n",
       "      <td>0.017948</td>\n",
       "      <td>0.020392</td>\n",
       "      <td>0.015946</td>\n",
       "      <td>0.044609</td>\n",
       "      <td>0.005719</td>\n",
       "      <td>0.887804</td>\n",
       "      <td>0.007582</td>\n",
       "    </tr>\n",
       "  </tbody>\n",
       "</table>\n",
       "<p>26294 rows × 8 columns</p>\n",
       "</div>"
      ],
      "text/plain": [
       "          id     drive  passenger       bus    subway      bike      walk  \\\n",
       "0      39498  0.060397   0.002092  0.087136  0.086102  0.013535  0.744038   \n",
       "1      39499  0.060397   0.002092  0.087136  0.086102  0.013535  0.744038   \n",
       "2      39500  0.085749   0.002821  0.108533  0.175846  0.019700  0.591495   \n",
       "3      39501  0.066115   0.002304  0.093736  0.110587  0.027774  0.688176   \n",
       "4      39502  0.051739   0.001733  0.048403  0.086415  0.019721  0.781771   \n",
       "...      ...       ...        ...       ...       ...       ...       ...   \n",
       "26289  65787  0.030629   0.046413  0.014062  0.034774  0.004257  0.861337   \n",
       "26290  65788  0.030629   0.046413  0.014062  0.034774  0.004257  0.861337   \n",
       "26291  65789  0.030629   0.046413  0.014062  0.034774  0.004257  0.861337   \n",
       "26292  65790  0.030629   0.046413  0.014062  0.034774  0.004257  0.861337   \n",
       "26293  65791  0.017948   0.020392  0.015946  0.044609  0.005719  0.887804   \n",
       "\n",
       "          other  \n",
       "0      0.006699  \n",
       "1      0.006699  \n",
       "2      0.015856  \n",
       "3      0.011307  \n",
       "4      0.010218  \n",
       "...         ...  \n",
       "26289  0.008528  \n",
       "26290  0.008528  \n",
       "26291  0.008528  \n",
       "26292  0.008528  \n",
       "26293  0.007582  \n",
       "\n",
       "[26294 rows x 8 columns]"
      ]
     },
     "execution_count": 110,
     "metadata": {},
     "output_type": "execute_result"
    }
   ],
   "source": [
    "df_test_prob"
   ]
  },
  {
   "cell_type": "code",
   "execution_count": 111,
   "id": "faa85a37",
   "metadata": {},
   "outputs": [],
   "source": [
    "df_test_prob.to_csv('prediction/xgboost.csv', index=False)"
   ]
  },
  {
   "cell_type": "code",
   "execution_count": 71,
   "id": "c89b5030",
   "metadata": {},
   "outputs": [],
   "source": []
  },
  {
   "cell_type": "code",
   "execution_count": null,
   "id": "42296fbb",
   "metadata": {},
   "outputs": [],
   "source": []
  }
 ],
 "metadata": {
  "kernelspec": {
   "display_name": "Python (da-ml)",
   "language": "python",
   "name": "da-ml"
  },
  "language_info": {
   "codemirror_mode": {
    "name": "ipython",
    "version": 3
   },
   "file_extension": ".py",
   "mimetype": "text/x-python",
   "name": "python",
   "nbconvert_exporter": "python",
   "pygments_lexer": "ipython3",
   "version": "3.10.4"
  }
 },
 "nbformat": 4,
 "nbformat_minor": 5
}
