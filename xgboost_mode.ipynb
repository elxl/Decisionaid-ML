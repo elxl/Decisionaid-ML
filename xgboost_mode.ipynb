{
 "cells": [
  {
   "cell_type": "code",
   "execution_count": 6,
   "id": "c577bc3c",
   "metadata": {},
   "outputs": [],
   "source": [
    "import xgboost as xgb\n",
    "import pandas as pd\n",
    "import numpy as np"
   ]
  },
  {
   "cell_type": "code",
   "execution_count": 23,
   "id": "aebe0add",
   "metadata": {},
   "outputs": [],
   "source": [
    "df_train = pd.read_csv('data/xgboost_distance_regression_train')\n",
    "df_test = pd.read_csv('data/xgboost_distance_regression_test')\n",
    "\n",
    "\n",
    "df_train = df_train[df_train['mode'] != np.nan]\n",
    "\n",
    "df = pd.concat((df_train, df_test), ignore_index=True)\n",
    "string_cols = ['survey_language', 'disability']\n",
    "df[string_cols] = df[string_cols].astype('category')\n",
    "df[string_cols] = df[string_cols].apply(lambda x: x.cat.codes)\n",
    "\n"
   ]
  },
  {
   "cell_type": "code",
   "execution_count": 25,
   "id": "45eefce6",
   "metadata": {},
   "outputs": [
    {
     "data": {
      "text/plain": [
       "array(['subway', 'drive', 'walk', 'passenger', 'bus', 'other', 'bike'],\n",
       "      dtype=object)"
      ]
     },
     "execution_count": 25,
     "metadata": {},
     "output_type": "execute_result"
    }
   ],
   "source": [
    "df_train['mode'].unique()"
   ]
  },
  {
   "cell_type": "code",
   "execution_count": 27,
   "id": "228f72dc",
   "metadata": {},
   "outputs": [],
   "source": [
    "TRANSPORT_MODES = ['drive', 'passenger', 'bus', 'subway', 'bike', 'walk', 'other']\n",
    "candidate_cols = [\n",
    "#      'travel_date_dow',\n",
    "#      'o_purpose_category',\n",
    "     'd_purpose_category',\n",
    "     'num_non_hh_travelers',\n",
    "#      'num_hh_travelers',\n",
    "     'num_travelers',\n",
    "#      'o_location_type',\n",
    "#      'd_location_type',\n",
    "     'o_congestion',\n",
    "     'd_congestion',\n",
    "#      'age',\n",
    "#      'employment',\n",
    "#      'student',\n",
    "#      'license',\n",
    "#      'planning_apps',\n",
    "#      'industry',\n",
    "#      'gender',\n",
    "#      'education',\n",
    "#      'survey_language',\n",
    "#      'num_bicycles',\n",
    "     'num_vehicles',\n",
    "     'res_type',\n",
    "#      'rent_own',\n",
    "#      'income_aggregate',\n",
    "#      'num_people',\n",
    "#      'num_adults',\n",
    "#      'num_kids',\n",
    "#      'num_workers',\n",
    "#      'num_students',\n",
    "#      'disability'\n",
    "#     'trip_distance'\n",
    "]\n",
    "\n",
    "categorial_columns = ['travel_date_dow',\n",
    "       'o_purpose_category', 'd_purpose_category', 'o_location_type',\n",
    "       'd_location_type', 'age', 'employment', 'license', 'planning_apps', 'industry', 'gender'\n",
    "                    , 'survey_language',\n",
    "       'res_type', 'rent_own',  'disability']\n",
    "\n",
    "onehot = pd.get_dummies(df[candidate_cols], columns=[x for x in categorial_columns if x in candidate_cols])\n",
    "\n",
    "X_train_val = onehot.to_numpy()[:len(df_train)]\n",
    "y_train_val = df['mode'][:len(df_train)].apply(lambda x: TRANSPORT_MODES.index(x))\n",
    "group = df['person_id'].to_numpy()[:len(df_train)]\n",
    "\n",
    "X_test = onehot.to_numpy()[len(df_train):]\n",
    "\n"
   ]
  },
  {
   "cell_type": "markdown",
   "id": "cd1cadcf",
   "metadata": {},
   "source": [
    "XGBoost parameters: https://xgboost.readthedocs.io/en/stable/parameter.html"
   ]
  },
  {
   "cell_type": "code",
   "execution_count": 95,
   "id": "451a918d",
   "metadata": {},
   "outputs": [],
   "source": [
    "# param = {'objective': 'multi:softprob',\n",
    "#          'num_class': 7, \n",
    "#          'eval_metric': ['mlogloss', 'merror']}"
   ]
  },
  {
   "cell_type": "code",
   "execution_count": 42,
   "id": "09d26f77",
   "metadata": {},
   "outputs": [],
   "source": [
    "from sklearn.metrics import accuracy_score, precision_recall_fscore_support, plot_confusion_matrix\n",
    "\n",
    "import matplotlib.pyplot as plt\n",
    "import matplotlib\n",
    "\n",
    "def acc_pre_rec(y_true, y_pred, verbose=False):\n",
    "    ''' Returns accuracy, precision, and recall together. \n",
    "    If verbose is set to True, it prints the scores for \n",
    "    each mode.'''\n",
    "    acc = accuracy_score(y_true, y_pred)\n",
    "    prec, rec, fsc, sup = precision_recall_fscore_support(\n",
    "        y_true, y_pred)\n",
    "    \n",
    "    if verbose:\n",
    "        print(f'Accuracy: \\n    {acc*100:.3f}%')\n",
    "        scrs = {'Precision': prec, 'Recall': rec}\n",
    "        for k, v in scrs.items():\n",
    "            str_ = '%;\\n    '.join(\n",
    "                f'{TRANSPORT_MODES[i]} - {100*s:.3f}'\n",
    "                for i, s in enumerate(v)\n",
    "            )\n",
    "            print(f\"{k}: \\n    {str_}%\")\n",
    "            \n",
    "    return acc, prec, rec\n"
   ]
  },
  {
   "cell_type": "code",
   "execution_count": 46,
   "id": "1cb47444",
   "metadata": {},
   "outputs": [],
   "source": [
    "from sklearn.model_selection import GroupKFold\n",
    "from sklearn.metrics import ConfusionMatrixDisplay, log_loss\n",
    "\n",
    "\n",
    "def k_fold_cross_validation_classification(X, y, group, model, fold=5):\n",
    "\n",
    "    k_fold = GroupKFold(n_splits=5)\n",
    "\n",
    "    train_metrics  = [] #[(accuracy, cross entropy) for each fold]\n",
    "    val_metrics = []  \n",
    "    \n",
    "\n",
    "    for train_idx, validate_idx in k_fold.split(X, y, groups=group):\n",
    "        X_train, X_val = X[train_idx], X[validate_idx]\n",
    "        y_train, y_val = y[train_idx], y[validate_idx]\n",
    "        \n",
    "        model.fit(X_train, y_train)\n",
    "        \n",
    "        y_train_pred = model.predict(X_train)\n",
    "        y_train_prob = model.predict_proba(X_train)\n",
    "        \n",
    "        y_val_pred = model.predict(X_val)\n",
    "        y_val_prob = model.predict_proba(X_val)\n",
    "        \n",
    "        # training metrics\n",
    "        acc, prec, rec = acc_pre_rec(y_train, y_train_pred)\n",
    "        cross_entropy = log_loss(y_train, y_train_prob)\n",
    "        train_metrics.append((acc, cross_entropy))\n",
    "        \n",
    "        # validation metrics\n",
    "        acc, prec, rec = acc_pre_rec(y_val, y_val_pred)\n",
    "        cross_entropy = log_loss(y_val, y_val_prob)\n",
    "        val_metrics.append((acc, cross_entropy))\n",
    "    \n",
    "    return train_metrics, val_metrics\n"
   ]
  },
  {
   "cell_type": "code",
   "execution_count": 47,
   "id": "5fe9f055",
   "metadata": {},
   "outputs": [
    {
     "name": "stderr",
     "output_type": "stream",
     "text": [
      "/Users/pinyen/opt/anaconda3/envs/da-ml/lib/python3.10/site-packages/sklearn/metrics/_classification.py:1327: UndefinedMetricWarning: Precision and F-score are ill-defined and being set to 0.0 in labels with no predicted samples. Use `zero_division` parameter to control this behavior.\n",
      "  _warn_prf(average, modifier, msg_start, len(result))\n",
      "/Users/pinyen/opt/anaconda3/envs/da-ml/lib/python3.10/site-packages/sklearn/metrics/_classification.py:1327: UndefinedMetricWarning: Precision and F-score are ill-defined and being set to 0.0 in labels with no predicted samples. Use `zero_division` parameter to control this behavior.\n",
      "  _warn_prf(average, modifier, msg_start, len(result))\n"
     ]
    }
   ],
   "source": [
    "model = xgb.XGBClassifier(objective='multi:softprob',\n",
    "                          n_estimators = 10,\n",
    "                          n_jobs=-1,\n",
    "                          num_class=7,\n",
    "                          random_state=42,\n",
    "                          eval_metric=['mlogloss', 'merror'],\n",
    "                          use_label_encoder =False)\n",
    "\n",
    "\n",
    "train_metrics, val_metrics = k_fold_cross_validation_classification(X_train_val, y_train_val, group, model)"
   ]
  },
  {
   "cell_type": "code",
   "execution_count": 48,
   "id": "08e5951f",
   "metadata": {},
   "outputs": [
    {
     "data": {
      "text/plain": [
       "[(0.5906512438599271, 1.1234847123938154),\n",
       " (0.5945175091110759, 1.1148023083572285),\n",
       " (0.5933766439549992, 1.1119159501014657),\n",
       " (0.598985897639043, 1.0947881090241516),\n",
       " (0.5976993281784764, 1.1128541707996331)]"
      ]
     },
     "execution_count": 48,
     "metadata": {},
     "output_type": "execute_result"
    }
   ],
   "source": [
    "train_metrics"
   ]
  },
  {
   "cell_type": "code",
   "execution_count": 53,
   "id": "1391eefb",
   "metadata": {},
   "outputs": [],
   "source": [
    "metrics = np.concatenate((train_metrics, val_metrics), axis=1)\n",
    "metrics = metrics[:,[0, 2, 1, 3]]\n",
    "\n",
    "df_metrics = pd.DataFrame(metrics, columns=['acc-train', 'acc-val', 'cross entropy-train', 'cros entropy-val'])"
   ]
  },
  {
   "cell_type": "code",
   "execution_count": 54,
   "id": "20800a03",
   "metadata": {},
   "outputs": [
    {
     "data": {
      "text/html": [
       "<div>\n",
       "<style scoped>\n",
       "    .dataframe tbody tr th:only-of-type {\n",
       "        vertical-align: middle;\n",
       "    }\n",
       "\n",
       "    .dataframe tbody tr th {\n",
       "        vertical-align: top;\n",
       "    }\n",
       "\n",
       "    .dataframe thead th {\n",
       "        text-align: right;\n",
       "    }\n",
       "</style>\n",
       "<table border=\"1\" class=\"dataframe\">\n",
       "  <thead>\n",
       "    <tr style=\"text-align: right;\">\n",
       "      <th></th>\n",
       "      <th>acc-train</th>\n",
       "      <th>acc-val</th>\n",
       "      <th>cross entropy-train</th>\n",
       "      <th>cros entropy-val</th>\n",
       "    </tr>\n",
       "  </thead>\n",
       "  <tbody>\n",
       "    <tr>\n",
       "      <th>0</th>\n",
       "      <td>0.590651</td>\n",
       "      <td>0.585879</td>\n",
       "      <td>1.123485</td>\n",
       "      <td>1.134877</td>\n",
       "    </tr>\n",
       "    <tr>\n",
       "      <th>1</th>\n",
       "      <td>0.594518</td>\n",
       "      <td>0.569527</td>\n",
       "      <td>1.114802</td>\n",
       "      <td>1.181012</td>\n",
       "    </tr>\n",
       "    <tr>\n",
       "      <th>2</th>\n",
       "      <td>0.593377</td>\n",
       "      <td>0.587400</td>\n",
       "      <td>1.111916</td>\n",
       "      <td>1.158207</td>\n",
       "    </tr>\n",
       "    <tr>\n",
       "      <th>3</th>\n",
       "      <td>0.598986</td>\n",
       "      <td>0.554570</td>\n",
       "      <td>1.094788</td>\n",
       "      <td>1.239469</td>\n",
       "    </tr>\n",
       "    <tr>\n",
       "      <th>4</th>\n",
       "      <td>0.597699</td>\n",
       "      <td>0.562880</td>\n",
       "      <td>1.112854</td>\n",
       "      <td>1.174227</td>\n",
       "    </tr>\n",
       "  </tbody>\n",
       "</table>\n",
       "</div>"
      ],
      "text/plain": [
       "   acc-train   acc-val  cross entropy-train  cros entropy-val\n",
       "0   0.590651  0.585879             1.123485          1.134877\n",
       "1   0.594518  0.569527             1.114802          1.181012\n",
       "2   0.593377  0.587400             1.111916          1.158207\n",
       "3   0.598986  0.554570             1.094788          1.239469\n",
       "4   0.597699  0.562880             1.112854          1.174227"
      ]
     },
     "execution_count": 54,
     "metadata": {},
     "output_type": "execute_result"
    }
   ],
   "source": [
    "df_metrics"
   ]
  },
  {
   "cell_type": "code",
   "execution_count": 55,
   "id": "2b4976e6",
   "metadata": {},
   "outputs": [
    {
     "data": {
      "text/html": [
       "<style>#sk-container-id-1 {color: black;background-color: white;}#sk-container-id-1 pre{padding: 0;}#sk-container-id-1 div.sk-toggleable {background-color: white;}#sk-container-id-1 label.sk-toggleable__label {cursor: pointer;display: block;width: 100%;margin-bottom: 0;padding: 0.3em;box-sizing: border-box;text-align: center;}#sk-container-id-1 label.sk-toggleable__label-arrow:before {content: \"▸\";float: left;margin-right: 0.25em;color: #696969;}#sk-container-id-1 label.sk-toggleable__label-arrow:hover:before {color: black;}#sk-container-id-1 div.sk-estimator:hover label.sk-toggleable__label-arrow:before {color: black;}#sk-container-id-1 div.sk-toggleable__content {max-height: 0;max-width: 0;overflow: hidden;text-align: left;background-color: #f0f8ff;}#sk-container-id-1 div.sk-toggleable__content pre {margin: 0.2em;color: black;border-radius: 0.25em;background-color: #f0f8ff;}#sk-container-id-1 input.sk-toggleable__control:checked~div.sk-toggleable__content {max-height: 200px;max-width: 100%;overflow: auto;}#sk-container-id-1 input.sk-toggleable__control:checked~label.sk-toggleable__label-arrow:before {content: \"▾\";}#sk-container-id-1 div.sk-estimator input.sk-toggleable__control:checked~label.sk-toggleable__label {background-color: #d4ebff;}#sk-container-id-1 div.sk-label input.sk-toggleable__control:checked~label.sk-toggleable__label {background-color: #d4ebff;}#sk-container-id-1 input.sk-hidden--visually {border: 0;clip: rect(1px 1px 1px 1px);clip: rect(1px, 1px, 1px, 1px);height: 1px;margin: -1px;overflow: hidden;padding: 0;position: absolute;width: 1px;}#sk-container-id-1 div.sk-estimator {font-family: monospace;background-color: #f0f8ff;border: 1px dotted black;border-radius: 0.25em;box-sizing: border-box;margin-bottom: 0.5em;}#sk-container-id-1 div.sk-estimator:hover {background-color: #d4ebff;}#sk-container-id-1 div.sk-parallel-item::after {content: \"\";width: 100%;border-bottom: 1px solid gray;flex-grow: 1;}#sk-container-id-1 div.sk-label:hover label.sk-toggleable__label {background-color: #d4ebff;}#sk-container-id-1 div.sk-serial::before {content: \"\";position: absolute;border-left: 1px solid gray;box-sizing: border-box;top: 0;bottom: 0;left: 50%;z-index: 0;}#sk-container-id-1 div.sk-serial {display: flex;flex-direction: column;align-items: center;background-color: white;padding-right: 0.2em;padding-left: 0.2em;position: relative;}#sk-container-id-1 div.sk-item {position: relative;z-index: 1;}#sk-container-id-1 div.sk-parallel {display: flex;align-items: stretch;justify-content: center;background-color: white;position: relative;}#sk-container-id-1 div.sk-item::before, #sk-container-id-1 div.sk-parallel-item::before {content: \"\";position: absolute;border-left: 1px solid gray;box-sizing: border-box;top: 0;bottom: 0;left: 50%;z-index: -1;}#sk-container-id-1 div.sk-parallel-item {display: flex;flex-direction: column;z-index: 1;position: relative;background-color: white;}#sk-container-id-1 div.sk-parallel-item:first-child::after {align-self: flex-end;width: 50%;}#sk-container-id-1 div.sk-parallel-item:last-child::after {align-self: flex-start;width: 50%;}#sk-container-id-1 div.sk-parallel-item:only-child::after {width: 0;}#sk-container-id-1 div.sk-dashed-wrapped {border: 1px dashed gray;margin: 0 0.4em 0.5em 0.4em;box-sizing: border-box;padding-bottom: 0.4em;background-color: white;}#sk-container-id-1 div.sk-label label {font-family: monospace;font-weight: bold;display: inline-block;line-height: 1.2em;}#sk-container-id-1 div.sk-label-container {text-align: center;}#sk-container-id-1 div.sk-container {/* jupyter's `normalize.less` sets `[hidden] { display: none; }` but bootstrap.min.css set `[hidden] { display: none !important; }` so we also need the `!important` here to be able to override the default hidden behavior on the sphinx rendered scikit-learn.org. See: https://github.com/scikit-learn/scikit-learn/issues/21755 */display: inline-block !important;position: relative;}#sk-container-id-1 div.sk-text-repr-fallback {display: none;}</style><div id=\"sk-container-id-1\" class=\"sk-top-container\"><div class=\"sk-text-repr-fallback\"><pre>XGBClassifier(base_score=0.5, booster=&#x27;gbtree&#x27;, colsample_bylevel=1,\n",
       "              colsample_bynode=1, colsample_bytree=1, enable_categorical=False,\n",
       "              eval_metric=[&#x27;mlogloss&#x27;, &#x27;merror&#x27;], gamma=0, gpu_id=-1,\n",
       "              importance_type=None, interaction_constraints=&#x27;&#x27;,\n",
       "              learning_rate=0.300000012, max_delta_step=0, max_depth=6,\n",
       "              min_child_weight=1, missing=nan, monotone_constraints=&#x27;()&#x27;,\n",
       "              n_estimators=10, n_jobs=-1, num_class=7, num_parallel_tree=1,\n",
       "              objective=&#x27;multi:softprob&#x27;, predictor=&#x27;auto&#x27;, random_state=42,\n",
       "              reg_alpha=0, reg_lambda=1, scale_pos_weight=None, subsample=1,\n",
       "              tree_method=&#x27;exact&#x27;, use_label_encoder=False, ...)</pre><b>In a Jupyter environment, please rerun this cell to show the HTML representation or trust the notebook. <br />On GitHub, the HTML representation is unable to render, please try loading this page with nbviewer.org.</b></div><div class=\"sk-container\" hidden><div class=\"sk-item\"><div class=\"sk-estimator sk-toggleable\"><input class=\"sk-toggleable__control sk-hidden--visually\" id=\"sk-estimator-id-1\" type=\"checkbox\" checked><label for=\"sk-estimator-id-1\" class=\"sk-toggleable__label sk-toggleable__label-arrow\">XGBClassifier</label><div class=\"sk-toggleable__content\"><pre>XGBClassifier(base_score=0.5, booster=&#x27;gbtree&#x27;, colsample_bylevel=1,\n",
       "              colsample_bynode=1, colsample_bytree=1, enable_categorical=False,\n",
       "              eval_metric=[&#x27;mlogloss&#x27;, &#x27;merror&#x27;], gamma=0, gpu_id=-1,\n",
       "              importance_type=None, interaction_constraints=&#x27;&#x27;,\n",
       "              learning_rate=0.300000012, max_delta_step=0, max_depth=6,\n",
       "              min_child_weight=1, missing=nan, monotone_constraints=&#x27;()&#x27;,\n",
       "              n_estimators=10, n_jobs=-1, num_class=7, num_parallel_tree=1,\n",
       "              objective=&#x27;multi:softprob&#x27;, predictor=&#x27;auto&#x27;, random_state=42,\n",
       "              reg_alpha=0, reg_lambda=1, scale_pos_weight=None, subsample=1,\n",
       "              tree_method=&#x27;exact&#x27;, use_label_encoder=False, ...)</pre></div></div></div></div></div>"
      ],
      "text/plain": [
       "XGBClassifier(base_score=0.5, booster='gbtree', colsample_bylevel=1,\n",
       "              colsample_bynode=1, colsample_bytree=1, enable_categorical=False,\n",
       "              eval_metric=['mlogloss', 'merror'], gamma=0, gpu_id=-1,\n",
       "              importance_type=None, interaction_constraints='',\n",
       "              learning_rate=0.300000012, max_delta_step=0, max_depth=6,\n",
       "              min_child_weight=1, missing=nan, monotone_constraints='()',\n",
       "              n_estimators=10, n_jobs=-1, num_class=7, num_parallel_tree=1,\n",
       "              objective='multi:softprob', predictor='auto', random_state=42,\n",
       "              reg_alpha=0, reg_lambda=1, scale_pos_weight=None, subsample=1,\n",
       "              tree_method='exact', use_label_encoder=False, ...)"
      ]
     },
     "execution_count": 55,
     "metadata": {},
     "output_type": "execute_result"
    }
   ],
   "source": [
    "# train on whole training-validation dataset\n",
    "\n",
    "model.fit(X, y)"
   ]
  },
  {
   "cell_type": "code",
   "execution_count": 59,
   "id": "6b5b3a84",
   "metadata": {},
   "outputs": [],
   "source": [
    "y_test_prob = model.predict_proba(X_test)"
   ]
  },
  {
   "cell_type": "code",
   "execution_count": 60,
   "id": "7700b259",
   "metadata": {},
   "outputs": [
    {
     "data": {
      "text/plain": [
       "array([[0.06583673, 0.02161659, 0.08684087, ..., 0.03143208, 0.678451  ,\n",
       "        0.0257199 ],\n",
       "       [0.06583673, 0.02161659, 0.08684087, ..., 0.03143208, 0.678451  ,\n",
       "        0.0257199 ],\n",
       "       [0.08562235, 0.02623584, 0.10539789, ..., 0.0381488 , 0.545269  ,\n",
       "        0.03881695],\n",
       "       ...,\n",
       "       [0.03779454, 0.04302442, 0.02779315, ..., 0.01823059, 0.80556256,\n",
       "        0.02602088],\n",
       "       [0.03779454, 0.04302442, 0.02779315, ..., 0.01823059, 0.80556256,\n",
       "        0.02602088],\n",
       "       [0.03695714, 0.03290609, 0.03161744, ..., 0.02090146, 0.7957875 ,\n",
       "        0.02542345]], dtype=float32)"
      ]
     },
     "execution_count": 60,
     "metadata": {},
     "output_type": "execute_result"
    }
   ],
   "source": [
    "y_test_prob"
   ]
  },
  {
   "cell_type": "code",
   "execution_count": 74,
   "id": "03c5c26f",
   "metadata": {},
   "outputs": [],
   "source": [
    "df_test_prob = pd.DataFrame(y_test_prob)\n",
    "df_test_prob = pd.concat((df_test['id'], df_test_prob), axis=1, ignore_index=True)\n",
    "df_test_prob.columns = ['id'] + TRANSPORT_MODES "
   ]
  },
  {
   "cell_type": "code",
   "execution_count": 75,
   "id": "a5733591",
   "metadata": {},
   "outputs": [
    {
     "data": {
      "text/html": [
       "<div>\n",
       "<style scoped>\n",
       "    .dataframe tbody tr th:only-of-type {\n",
       "        vertical-align: middle;\n",
       "    }\n",
       "\n",
       "    .dataframe tbody tr th {\n",
       "        vertical-align: top;\n",
       "    }\n",
       "\n",
       "    .dataframe thead th {\n",
       "        text-align: right;\n",
       "    }\n",
       "</style>\n",
       "<table border=\"1\" class=\"dataframe\">\n",
       "  <thead>\n",
       "    <tr style=\"text-align: right;\">\n",
       "      <th></th>\n",
       "      <th>id</th>\n",
       "      <th>drive</th>\n",
       "      <th>passenger</th>\n",
       "      <th>bus</th>\n",
       "      <th>subway</th>\n",
       "      <th>bike</th>\n",
       "      <th>walk</th>\n",
       "      <th>other</th>\n",
       "    </tr>\n",
       "  </thead>\n",
       "  <tbody>\n",
       "    <tr>\n",
       "      <th>0</th>\n",
       "      <td>39498</td>\n",
       "      <td>0.065837</td>\n",
       "      <td>0.021617</td>\n",
       "      <td>0.086841</td>\n",
       "      <td>0.090103</td>\n",
       "      <td>0.031432</td>\n",
       "      <td>0.678451</td>\n",
       "      <td>0.025720</td>\n",
       "    </tr>\n",
       "    <tr>\n",
       "      <th>1</th>\n",
       "      <td>39499</td>\n",
       "      <td>0.065837</td>\n",
       "      <td>0.021617</td>\n",
       "      <td>0.086841</td>\n",
       "      <td>0.090103</td>\n",
       "      <td>0.031432</td>\n",
       "      <td>0.678451</td>\n",
       "      <td>0.025720</td>\n",
       "    </tr>\n",
       "    <tr>\n",
       "      <th>2</th>\n",
       "      <td>39500</td>\n",
       "      <td>0.085622</td>\n",
       "      <td>0.026236</td>\n",
       "      <td>0.105398</td>\n",
       "      <td>0.160509</td>\n",
       "      <td>0.038149</td>\n",
       "      <td>0.545269</td>\n",
       "      <td>0.038817</td>\n",
       "    </tr>\n",
       "    <tr>\n",
       "      <th>3</th>\n",
       "      <td>39501</td>\n",
       "      <td>0.069929</td>\n",
       "      <td>0.022960</td>\n",
       "      <td>0.092239</td>\n",
       "      <td>0.101232</td>\n",
       "      <td>0.041656</td>\n",
       "      <td>0.643923</td>\n",
       "      <td>0.028060</td>\n",
       "    </tr>\n",
       "    <tr>\n",
       "      <th>4</th>\n",
       "      <td>39502</td>\n",
       "      <td>0.058295</td>\n",
       "      <td>0.018841</td>\n",
       "      <td>0.058601</td>\n",
       "      <td>0.092070</td>\n",
       "      <td>0.034182</td>\n",
       "      <td>0.708742</td>\n",
       "      <td>0.029269</td>\n",
       "    </tr>\n",
       "    <tr>\n",
       "      <th>...</th>\n",
       "      <td>...</td>\n",
       "      <td>...</td>\n",
       "      <td>...</td>\n",
       "      <td>...</td>\n",
       "      <td>...</td>\n",
       "      <td>...</td>\n",
       "      <td>...</td>\n",
       "      <td>...</td>\n",
       "    </tr>\n",
       "    <tr>\n",
       "      <th>26289</th>\n",
       "      <td>65787</td>\n",
       "      <td>0.037795</td>\n",
       "      <td>0.043024</td>\n",
       "      <td>0.027793</td>\n",
       "      <td>0.041574</td>\n",
       "      <td>0.018231</td>\n",
       "      <td>0.805563</td>\n",
       "      <td>0.026021</td>\n",
       "    </tr>\n",
       "    <tr>\n",
       "      <th>26290</th>\n",
       "      <td>65788</td>\n",
       "      <td>0.037795</td>\n",
       "      <td>0.043024</td>\n",
       "      <td>0.027793</td>\n",
       "      <td>0.041574</td>\n",
       "      <td>0.018231</td>\n",
       "      <td>0.805563</td>\n",
       "      <td>0.026021</td>\n",
       "    </tr>\n",
       "    <tr>\n",
       "      <th>26291</th>\n",
       "      <td>65789</td>\n",
       "      <td>0.037795</td>\n",
       "      <td>0.043024</td>\n",
       "      <td>0.027793</td>\n",
       "      <td>0.041574</td>\n",
       "      <td>0.018231</td>\n",
       "      <td>0.805563</td>\n",
       "      <td>0.026021</td>\n",
       "    </tr>\n",
       "    <tr>\n",
       "      <th>26292</th>\n",
       "      <td>65790</td>\n",
       "      <td>0.037795</td>\n",
       "      <td>0.043024</td>\n",
       "      <td>0.027793</td>\n",
       "      <td>0.041574</td>\n",
       "      <td>0.018231</td>\n",
       "      <td>0.805563</td>\n",
       "      <td>0.026021</td>\n",
       "    </tr>\n",
       "    <tr>\n",
       "      <th>26293</th>\n",
       "      <td>65791</td>\n",
       "      <td>0.036957</td>\n",
       "      <td>0.032906</td>\n",
       "      <td>0.031617</td>\n",
       "      <td>0.056407</td>\n",
       "      <td>0.020901</td>\n",
       "      <td>0.795788</td>\n",
       "      <td>0.025423</td>\n",
       "    </tr>\n",
       "  </tbody>\n",
       "</table>\n",
       "<p>26294 rows × 8 columns</p>\n",
       "</div>"
      ],
      "text/plain": [
       "          id     drive  passenger       bus    subway      bike      walk  \\\n",
       "0      39498  0.065837   0.021617  0.086841  0.090103  0.031432  0.678451   \n",
       "1      39499  0.065837   0.021617  0.086841  0.090103  0.031432  0.678451   \n",
       "2      39500  0.085622   0.026236  0.105398  0.160509  0.038149  0.545269   \n",
       "3      39501  0.069929   0.022960  0.092239  0.101232  0.041656  0.643923   \n",
       "4      39502  0.058295   0.018841  0.058601  0.092070  0.034182  0.708742   \n",
       "...      ...       ...        ...       ...       ...       ...       ...   \n",
       "26289  65787  0.037795   0.043024  0.027793  0.041574  0.018231  0.805563   \n",
       "26290  65788  0.037795   0.043024  0.027793  0.041574  0.018231  0.805563   \n",
       "26291  65789  0.037795   0.043024  0.027793  0.041574  0.018231  0.805563   \n",
       "26292  65790  0.037795   0.043024  0.027793  0.041574  0.018231  0.805563   \n",
       "26293  65791  0.036957   0.032906  0.031617  0.056407  0.020901  0.795788   \n",
       "\n",
       "          other  \n",
       "0      0.025720  \n",
       "1      0.025720  \n",
       "2      0.038817  \n",
       "3      0.028060  \n",
       "4      0.029269  \n",
       "...         ...  \n",
       "26289  0.026021  \n",
       "26290  0.026021  \n",
       "26291  0.026021  \n",
       "26292  0.026021  \n",
       "26293  0.025423  \n",
       "\n",
       "[26294 rows x 8 columns]"
      ]
     },
     "execution_count": 75,
     "metadata": {},
     "output_type": "execute_result"
    }
   ],
   "source": [
    "df_test_prob"
   ]
  },
  {
   "cell_type": "code",
   "execution_count": 77,
   "id": "bed19c35",
   "metadata": {},
   "outputs": [],
   "source": [
    "df_test_prob.to_csv('prediction/xgboost.csv', index=False)"
   ]
  },
  {
   "cell_type": "code",
   "execution_count": 71,
   "id": "ee7b90b9",
   "metadata": {},
   "outputs": [],
   "source": []
  },
  {
   "cell_type": "code",
   "execution_count": null,
   "id": "a28d3201",
   "metadata": {},
   "outputs": [],
   "source": []
  }
 ],
 "metadata": {
  "kernelspec": {
   "display_name": "Python (da-ml)",
   "language": "python",
   "name": "da-ml"
  },
  "language_info": {
   "codemirror_mode": {
    "name": "ipython",
    "version": 3
   },
   "file_extension": ".py",
   "mimetype": "text/x-python",
   "name": "python",
   "nbconvert_exporter": "python",
   "pygments_lexer": "ipython3",
   "version": "3.10.4"
  }
 },
 "nbformat": 4,
 "nbformat_minor": 5
}
